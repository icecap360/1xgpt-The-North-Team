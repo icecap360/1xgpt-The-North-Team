{
 "cells": [
  {
   "cell_type": "code",
   "execution_count": 1,
   "metadata": {},
   "outputs": [
    {
     "name": "stderr",
     "output_type": "stream",
     "text": [
      "/home/qasim/miniconda3/envs/1xgpt/lib/python3.10/site-packages/tqdm/auto.py:21: TqdmWarning: IProgress not found. Please update jupyter and ipywidgets. See https://ipywidgets.readthedocs.io/en/stable/user_install.html\n",
      "  from .autonotebook import tqdm as notebook_tqdm\n"
     ]
    }
   ],
   "source": [
    "import sys\n",
    "import os, copy\n",
    "import torch\n",
    "import matplotlib.pyplot as plt\n",
    "import numpy as np\n",
    "import re\n",
    "from collections import OrderedDict\n",
    "import torch.nn.functional as F\n",
    "from transformers import AutoTokenizer, AutoModelForSeq2SeqLM\n"
   ]
  },
  {
   "attachments": {},
   "cell_type": "markdown",
   "metadata": {},
   "source": [
    "#### Model conversion utils"
   ]
  },
  {
   "cell_type": "code",
   "execution_count": 4,
   "metadata": {},
   "outputs": [],
   "source": [
    "def state_dict_to_vector(state_dict, remove_keys=[]):\n",
    "    shared_state_dict = copy.deepcopy(state_dict)\n",
    "    for key in remove_keys:\n",
    "        if key in shared_state_dict:\n",
    "            del shared_state_dict[key]\n",
    "    sorted_shared_state_dict = OrderedDict(sorted(shared_state_dict.items()))\n",
    "    return torch.nn.utils.parameters_to_vector(\n",
    "        [value.reshape(-1) for key, value in sorted_shared_state_dict.items()]\n",
    "    )\n",
    "\n",
    "\n",
    "def vector_to_state_dict(vector, state_dict, remove_keys=[]):\n",
    "    # create a reference dict to define the order of the vector\n",
    "    reference_dict = copy.deepcopy(state_dict)\n",
    "    for key in remove_keys:\n",
    "        if key in reference_dict:\n",
    "            del reference_dict[key]\n",
    "    sorted_reference_dict = OrderedDict(sorted(reference_dict.items()))\n",
    "\n",
    "    # create a shared state dict using the refence dict\n",
    "    torch.nn.utils.vector_to_parameters(vector, sorted_reference_dict.values())\n",
    "\n",
    "    # add back the encoder and decoder embedding weights.\n",
    "    if \"transformer.shared.weight\" in sorted_reference_dict:\n",
    "        for key in remove_keys:\n",
    "            sorted_reference_dict[key] = sorted_reference_dict[\n",
    "                \"transformer.shared.weight\"\n",
    "            ]\n",
    "    return sorted_reference_dict\n",
    "\n",
    "\n",
    "def add_ptm_to_tv(tv_dict, ptm_dict):\n",
    "    assert set(tv_dict.keys()) == set(\n",
    "        ptm_dict.keys()\n",
    "    ), \"Differing parameter names in models.\"\n",
    "    final_dict = copy.deepcopy(tv_dict)\n",
    "    for k, v in ptm_dict.items():\n",
    "        final_dict[k] = tv_dict[k] + v\n",
    "    return final_dict\n",
    "\n",
    "\n",
    "def check_parameterNamesMatch(checkpoints):\n",
    "    parameter_names = set(checkpoints[0].keys())\n",
    "\n",
    "    if len(checkpoints) >= 2:\n",
    "        # raise ValueError(\"Number of models is less than 2.\")\n",
    "        for checkpoint in checkpoints[1:]:\n",
    "            current_parameterNames = set(checkpoint.keys())\n",
    "            if current_parameterNames != parameter_names:\n",
    "                raise ValueError(\n",
    "                    \"Differing parameter names in models. \"\n",
    "                    f\"The different parameters are {parameter_names.symmetric_difference(current_parameterNames)}\"\n",
    "                )\n",
    "\n",
    "def check_state_dicts_equal(state_dict1, state_dict2):\n",
    "    if set(state_dict1.keys()) != set(state_dict2.keys()):\n",
    "        return False\n",
    "\n",
    "    for key in state_dict1.keys():\n",
    "        if not torch.equal(state_dict1[key], state_dict2[key]):\n",
    "            return False\n",
    "\n",
    "    return True"
   ]
  },
  {
   "attachments": {},
   "cell_type": "markdown",
   "metadata": {},
   "source": [
    "#### Load base model and the Finetuned Models to merge"
   ]
  },
  {
   "cell_type": "code",
   "execution_count": 5,
   "metadata": {},
   "outputs": [
    {
     "name": "stdout",
     "output_type": "stream",
     "text": [
      "hidden_dim 256\n",
      "hidden_dim 256\n",
      "hidden_dim 256\n",
      "hidden_dim 256\n",
      "hidden_dim 256\n",
      "hidden_dim 256\n",
      "hidden_dim 256\n",
      "hidden_dim 256\n",
      "hidden_dim 256\n",
      "hidden_dim 256\n",
      "hidden_dim 256\n",
      "hidden_dim 256\n",
      "hidden_dim 256\n",
      "hidden_dim 256\n",
      "hidden_dim 256\n",
      "hidden_dim 256\n",
      "hidden_dim 256\n",
      "hidden_dim 256\n",
      "hidden_dim 256\n",
      "hidden_dim 256\n",
      "hidden_dim 256\n",
      "hidden_dim 256\n",
      "hidden_dim 256\n",
      "hidden_dim 256\n",
      "hidden_dim 256\n",
      "hidden_dim 256\n",
      "hidden_dim 256\n",
      "hidden_dim 256\n",
      "hidden_dim 256\n",
      "hidden_dim 256\n",
      "hidden_dim 256\n",
      "hidden_dim 256\n",
      "hidden_dim 256\n",
      "hidden_dim 256\n",
      "hidden_dim 256\n",
      "hidden_dim 256\n",
      "hidden_dim 256\n",
      "hidden_dim 256\n",
      "hidden_dim 256\n",
      "hidden_dim 256\n",
      "hidden_dim 256\n",
      "hidden_dim 256\n",
      "hidden_dim 256\n",
      "hidden_dim 256\n",
      "hidden_dim 256\n",
      "hidden_dim 256\n",
      "hidden_dim 256\n",
      "hidden_dim 256\n",
      "hidden_dim 256\n",
      "hidden_dim 256\n",
      "hidden_dim 256\n",
      "hidden_dim 256\n",
      "hidden_dim 256\n",
      "hidden_dim 256\n",
      "hidden_dim 256\n",
      "hidden_dim 256\n",
      "hidden_dim 256\n",
      "hidden_dim 256\n",
      "hidden_dim 256\n",
      "hidden_dim 256\n",
      "hidden_dim 256\n",
      "hidden_dim 256\n",
      "hidden_dim 256\n",
      "hidden_dim 256\n",
      "hidden_dim 256\n",
      "hidden_dim 256\n",
      "hidden_dim 256\n",
      "hidden_dim 256\n",
      "hidden_dim 256\n",
      "hidden_dim 256\n",
      "hidden_dim 256\n",
      "hidden_dim 256\n",
      "hidden_dim 256\n",
      "hidden_dim 256\n",
      "hidden_dim 256\n",
      "hidden_dim 256\n",
      "hidden_dim 256\n",
      "hidden_dim 256\n",
      "hidden_dim 256\n",
      "hidden_dim 256\n",
      "hidden_dim 256\n",
      "hidden_dim 256\n",
      "hidden_dim 256\n",
      "hidden_dim 256\n",
      "hidden_dim 256\n",
      "hidden_dim 256\n",
      "hidden_dim 256\n",
      "hidden_dim 256\n",
      "hidden_dim 256\n",
      "hidden_dim 256\n",
      "hidden_dim 256\n",
      "hidden_dim 256\n",
      "hidden_dim 256\n",
      "hidden_dim 256\n",
      "hidden_dim 256\n",
      "hidden_dim 256\n",
      "hidden_dim 256\n",
      "hidden_dim 256\n",
      "hidden_dim 256\n",
      "hidden_dim 256\n",
      "hidden_dim 256\n",
      "hidden_dim 256\n",
      "hidden_dim 256\n",
      "hidden_dim 256\n",
      "hidden_dim 256\n",
      "hidden_dim 256\n",
      "hidden_dim 256\n",
      "hidden_dim 256\n",
      "hidden_dim 256\n",
      "hidden_dim 256\n",
      "hidden_dim 256\n",
      "hidden_dim 256\n",
      "hidden_dim 256\n",
      "hidden_dim 256\n",
      "hidden_dim 256\n",
      "hidden_dim 256\n",
      "hidden_dim 256\n",
      "hidden_dim 256\n",
      "hidden_dim 256\n",
      "hidden_dim 256\n",
      "hidden_dim 256\n",
      "hidden_dim 256\n",
      "hidden_dim 256\n",
      "hidden_dim 256\n",
      "hidden_dim 256\n",
      "hidden_dim 256\n",
      "hidden_dim 256\n",
      "hidden_dim 256\n",
      "Loading weights from local directory\n",
      "hidden_dim 256\n",
      "hidden_dim 256\n",
      "hidden_dim 256\n",
      "hidden_dim 256\n",
      "hidden_dim 256\n",
      "hidden_dim 256\n",
      "hidden_dim 256\n",
      "hidden_dim 256\n",
      "hidden_dim 256\n",
      "hidden_dim 256\n",
      "hidden_dim 256\n",
      "hidden_dim 256\n",
      "hidden_dim 256\n",
      "hidden_dim 256\n",
      "hidden_dim 256\n",
      "hidden_dim 256\n",
      "hidden_dim 256\n",
      "hidden_dim 256\n",
      "hidden_dim 256\n",
      "hidden_dim 256\n",
      "hidden_dim 256\n",
      "hidden_dim 256\n",
      "hidden_dim 256\n",
      "hidden_dim 256\n",
      "hidden_dim 256\n",
      "hidden_dim 256\n",
      "hidden_dim 256\n",
      "hidden_dim 256\n",
      "hidden_dim 256\n",
      "hidden_dim 256\n",
      "hidden_dim 256\n",
      "hidden_dim 256\n",
      "hidden_dim 256\n",
      "hidden_dim 256\n",
      "hidden_dim 256\n",
      "hidden_dim 256\n",
      "hidden_dim 256\n",
      "hidden_dim 256\n",
      "hidden_dim 256\n",
      "hidden_dim 256\n",
      "hidden_dim 256\n",
      "hidden_dim 256\n",
      "hidden_dim 256\n",
      "hidden_dim 256\n",
      "hidden_dim 256\n",
      "hidden_dim 256\n",
      "hidden_dim 256\n",
      "hidden_dim 256\n",
      "hidden_dim 256\n",
      "hidden_dim 256\n",
      "hidden_dim 256\n",
      "hidden_dim 256\n",
      "hidden_dim 256\n",
      "hidden_dim 256\n",
      "hidden_dim 256\n",
      "hidden_dim 256\n",
      "hidden_dim 256\n",
      "hidden_dim 256\n",
      "hidden_dim 256\n",
      "hidden_dim 256\n",
      "hidden_dim 256\n",
      "hidden_dim 256\n",
      "hidden_dim 256\n",
      "hidden_dim 256\n",
      "hidden_dim 256\n",
      "hidden_dim 256\n",
      "hidden_dim 256\n",
      "hidden_dim 256\n",
      "hidden_dim 256\n",
      "hidden_dim 256\n",
      "hidden_dim 256\n",
      "hidden_dim 256\n",
      "hidden_dim 256\n",
      "hidden_dim 256\n",
      "hidden_dim 256\n",
      "hidden_dim 256\n",
      "hidden_dim 256\n",
      "hidden_dim 256\n",
      "hidden_dim 256\n",
      "hidden_dim 256\n",
      "hidden_dim 256\n",
      "hidden_dim 256\n",
      "hidden_dim 256\n",
      "hidden_dim 256\n",
      "hidden_dim 256\n",
      "hidden_dim 256\n",
      "hidden_dim 256\n",
      "hidden_dim 256\n",
      "hidden_dim 256\n",
      "hidden_dim 256\n",
      "hidden_dim 256\n",
      "hidden_dim 256\n",
      "hidden_dim 256\n",
      "hidden_dim 256\n",
      "hidden_dim 256\n",
      "hidden_dim 256\n",
      "hidden_dim 256\n",
      "hidden_dim 256\n",
      "hidden_dim 256\n",
      "hidden_dim 256\n",
      "hidden_dim 256\n",
      "hidden_dim 256\n",
      "hidden_dim 256\n",
      "hidden_dim 256\n",
      "hidden_dim 256\n",
      "hidden_dim 256\n",
      "hidden_dim 256\n",
      "hidden_dim 256\n",
      "hidden_dim 256\n",
      "hidden_dim 256\n",
      "hidden_dim 256\n",
      "hidden_dim 256\n",
      "hidden_dim 256\n",
      "hidden_dim 256\n",
      "hidden_dim 256\n",
      "hidden_dim 256\n",
      "hidden_dim 256\n",
      "hidden_dim 256\n",
      "hidden_dim 256\n",
      "hidden_dim 256\n",
      "hidden_dim 256\n",
      "hidden_dim 256\n",
      "hidden_dim 256\n",
      "hidden_dim 256\n",
      "hidden_dim 256\n",
      "hidden_dim 256\n",
      "hidden_dim 256\n",
      "hidden_dim 256\n",
      "Loading weights from local directory\n",
      "hidden_dim 256\n",
      "hidden_dim 256\n",
      "hidden_dim 256\n",
      "hidden_dim 256\n",
      "hidden_dim 256\n",
      "hidden_dim 256\n",
      "hidden_dim 256\n",
      "hidden_dim 256\n",
      "hidden_dim 256\n",
      "hidden_dim 256\n",
      "hidden_dim 256\n",
      "hidden_dim 256\n",
      "hidden_dim 256\n",
      "hidden_dim 256\n",
      "hidden_dim 256\n",
      "hidden_dim 256\n",
      "hidden_dim 256\n",
      "hidden_dim 256\n",
      "hidden_dim 256\n",
      "hidden_dim 256\n",
      "hidden_dim 256\n",
      "hidden_dim 256\n",
      "hidden_dim 256\n",
      "hidden_dim 256\n",
      "hidden_dim 256\n",
      "hidden_dim 256\n",
      "hidden_dim 256\n",
      "hidden_dim 256\n",
      "hidden_dim 256\n",
      "hidden_dim 256\n",
      "hidden_dim 256\n",
      "hidden_dim 256\n",
      "hidden_dim 256\n",
      "hidden_dim 256\n",
      "hidden_dim 256\n",
      "hidden_dim 256\n",
      "hidden_dim 256\n",
      "hidden_dim 256\n",
      "hidden_dim 256\n",
      "hidden_dim 256\n",
      "hidden_dim 256\n",
      "hidden_dim 256\n",
      "hidden_dim 256\n",
      "hidden_dim 256\n",
      "hidden_dim 256\n",
      "hidden_dim 256\n",
      "hidden_dim 256\n",
      "hidden_dim 256\n",
      "hidden_dim 256\n",
      "hidden_dim 256\n",
      "hidden_dim 256\n",
      "hidden_dim 256\n",
      "hidden_dim 256\n",
      "hidden_dim 256\n",
      "hidden_dim 256\n",
      "hidden_dim 256\n",
      "hidden_dim 256\n",
      "hidden_dim 256\n",
      "hidden_dim 256\n",
      "hidden_dim 256\n",
      "hidden_dim 256\n",
      "hidden_dim 256\n",
      "hidden_dim 256\n",
      "hidden_dim 256\n",
      "hidden_dim 256\n",
      "hidden_dim 256\n",
      "hidden_dim 256\n",
      "hidden_dim 256\n",
      "hidden_dim 256\n",
      "hidden_dim 256\n",
      "hidden_dim 256\n",
      "hidden_dim 256\n",
      "hidden_dim 256\n",
      "hidden_dim 256\n",
      "hidden_dim 256\n",
      "hidden_dim 256\n",
      "hidden_dim 256\n",
      "hidden_dim 256\n",
      "hidden_dim 256\n",
      "hidden_dim 256\n",
      "hidden_dim 256\n",
      "hidden_dim 256\n",
      "hidden_dim 256\n",
      "hidden_dim 256\n",
      "hidden_dim 256\n",
      "hidden_dim 256\n",
      "hidden_dim 256\n",
      "hidden_dim 256\n",
      "hidden_dim 256\n",
      "hidden_dim 256\n",
      "hidden_dim 256\n",
      "hidden_dim 256\n",
      "hidden_dim 256\n",
      "hidden_dim 256\n",
      "hidden_dim 256\n",
      "hidden_dim 256\n",
      "hidden_dim 256\n",
      "hidden_dim 256\n",
      "hidden_dim 256\n",
      "hidden_dim 256\n",
      "hidden_dim 256\n",
      "hidden_dim 256\n",
      "hidden_dim 256\n",
      "hidden_dim 256\n",
      "hidden_dim 256\n",
      "hidden_dim 256\n",
      "hidden_dim 256\n",
      "hidden_dim 256\n",
      "hidden_dim 256\n",
      "hidden_dim 256\n",
      "hidden_dim 256\n",
      "hidden_dim 256\n",
      "hidden_dim 256\n",
      "hidden_dim 256\n",
      "hidden_dim 256\n",
      "hidden_dim 256\n",
      "hidden_dim 256\n",
      "hidden_dim 256\n",
      "hidden_dim 256\n",
      "hidden_dim 256\n",
      "hidden_dim 256\n",
      "hidden_dim 256\n",
      "hidden_dim 256\n",
      "hidden_dim 256\n",
      "hidden_dim 256\n",
      "hidden_dim 256\n",
      "hidden_dim 256\n",
      "hidden_dim 256\n",
      "Loading weights from local directory\n",
      "pos_embed_TSC\n",
      "decoder.layers.0.norm1.weight\n",
      "decoder.layers.0.norm1.bias\n",
      "decoder.layers.0.spatial_attn.qkv.weight\n",
      "decoder.layers.0.spatial_attn.proj.weight\n",
      "decoder.layers.0.spatial_attn.proj.bias\n",
      "decoder.layers.0.temporal_attn.qkv.weight\n",
      "decoder.layers.0.temporal_attn.proj.weight\n",
      "decoder.layers.0.temporal_attn.proj.bias\n",
      "decoder.layers.0.norm2.weight\n",
      "decoder.layers.0.norm2.bias\n",
      "decoder.layers.0.mlp.gate.threshold_train\n",
      "decoder.layers.0.mlp.gate.threshold_eval\n",
      "decoder.layers.0.mlp.gate.to_gates.weight\n",
      "decoder.layers.0.mlp.experts.experts.0.net.fc1.weight\n",
      "decoder.layers.0.mlp.experts.experts.0.net.fc1.bias\n",
      "decoder.layers.0.mlp.experts.experts.0.net.fc2.weight\n",
      "decoder.layers.0.mlp.experts.experts.0.net.fc2.bias\n",
      "decoder.layers.0.mlp.experts.experts.1.net.fc1.weight\n",
      "decoder.layers.0.mlp.experts.experts.1.net.fc1.bias\n",
      "decoder.layers.0.mlp.experts.experts.1.net.fc2.weight\n",
      "decoder.layers.0.mlp.experts.experts.1.net.fc2.bias\n",
      "decoder.layers.0.mlp.experts.experts.2.net.fc1.weight\n",
      "decoder.layers.0.mlp.experts.experts.2.net.fc1.bias\n",
      "decoder.layers.0.mlp.experts.experts.2.net.fc2.weight\n",
      "decoder.layers.0.mlp.experts.experts.2.net.fc2.bias\n",
      "decoder.layers.0.mlp.experts.experts.3.net.fc1.weight\n",
      "decoder.layers.0.mlp.experts.experts.3.net.fc1.bias\n",
      "decoder.layers.0.mlp.experts.experts.3.net.fc2.weight\n",
      "decoder.layers.0.mlp.experts.experts.3.net.fc2.bias\n",
      "decoder.layers.1.norm1.weight\n",
      "decoder.layers.1.norm1.bias\n",
      "decoder.layers.1.spatial_attn.qkv.weight\n",
      "decoder.layers.1.spatial_attn.proj.weight\n",
      "decoder.layers.1.spatial_attn.proj.bias\n",
      "decoder.layers.1.temporal_attn.qkv.weight\n",
      "decoder.layers.1.temporal_attn.proj.weight\n",
      "decoder.layers.1.temporal_attn.proj.bias\n",
      "decoder.layers.1.norm2.weight\n",
      "decoder.layers.1.norm2.bias\n",
      "decoder.layers.1.mlp.gate.threshold_train\n",
      "decoder.layers.1.mlp.gate.threshold_eval\n",
      "decoder.layers.1.mlp.gate.to_gates.weight\n",
      "decoder.layers.1.mlp.experts.experts.0.net.fc1.weight\n",
      "decoder.layers.1.mlp.experts.experts.0.net.fc1.bias\n",
      "decoder.layers.1.mlp.experts.experts.0.net.fc2.weight\n",
      "decoder.layers.1.mlp.experts.experts.0.net.fc2.bias\n",
      "decoder.layers.1.mlp.experts.experts.1.net.fc1.weight\n",
      "decoder.layers.1.mlp.experts.experts.1.net.fc1.bias\n",
      "decoder.layers.1.mlp.experts.experts.1.net.fc2.weight\n",
      "decoder.layers.1.mlp.experts.experts.1.net.fc2.bias\n",
      "decoder.layers.1.mlp.experts.experts.2.net.fc1.weight\n",
      "decoder.layers.1.mlp.experts.experts.2.net.fc1.bias\n",
      "decoder.layers.1.mlp.experts.experts.2.net.fc2.weight\n",
      "decoder.layers.1.mlp.experts.experts.2.net.fc2.bias\n",
      "decoder.layers.1.mlp.experts.experts.3.net.fc1.weight\n",
      "decoder.layers.1.mlp.experts.experts.3.net.fc1.bias\n",
      "decoder.layers.1.mlp.experts.experts.3.net.fc2.weight\n",
      "decoder.layers.1.mlp.experts.experts.3.net.fc2.bias\n",
      "decoder.layers.2.norm1.weight\n",
      "decoder.layers.2.norm1.bias\n",
      "decoder.layers.2.spatial_attn.qkv.weight\n",
      "decoder.layers.2.spatial_attn.proj.weight\n",
      "decoder.layers.2.spatial_attn.proj.bias\n",
      "decoder.layers.2.temporal_attn.qkv.weight\n",
      "decoder.layers.2.temporal_attn.proj.weight\n",
      "decoder.layers.2.temporal_attn.proj.bias\n",
      "decoder.layers.2.norm2.weight\n",
      "decoder.layers.2.norm2.bias\n",
      "decoder.layers.2.mlp.gate.threshold_train\n",
      "decoder.layers.2.mlp.gate.threshold_eval\n",
      "decoder.layers.2.mlp.gate.to_gates.weight\n",
      "decoder.layers.2.mlp.experts.experts.0.net.fc1.weight\n",
      "decoder.layers.2.mlp.experts.experts.0.net.fc1.bias\n",
      "decoder.layers.2.mlp.experts.experts.0.net.fc2.weight\n",
      "decoder.layers.2.mlp.experts.experts.0.net.fc2.bias\n",
      "decoder.layers.2.mlp.experts.experts.1.net.fc1.weight\n",
      "decoder.layers.2.mlp.experts.experts.1.net.fc1.bias\n",
      "decoder.layers.2.mlp.experts.experts.1.net.fc2.weight\n",
      "decoder.layers.2.mlp.experts.experts.1.net.fc2.bias\n",
      "decoder.layers.2.mlp.experts.experts.2.net.fc1.weight\n",
      "decoder.layers.2.mlp.experts.experts.2.net.fc1.bias\n",
      "decoder.layers.2.mlp.experts.experts.2.net.fc2.weight\n",
      "decoder.layers.2.mlp.experts.experts.2.net.fc2.bias\n",
      "decoder.layers.2.mlp.experts.experts.3.net.fc1.weight\n",
      "decoder.layers.2.mlp.experts.experts.3.net.fc1.bias\n",
      "decoder.layers.2.mlp.experts.experts.3.net.fc2.weight\n",
      "decoder.layers.2.mlp.experts.experts.3.net.fc2.bias\n",
      "decoder.layers.3.norm1.weight\n",
      "decoder.layers.3.norm1.bias\n",
      "decoder.layers.3.spatial_attn.qkv.weight\n",
      "decoder.layers.3.spatial_attn.proj.weight\n",
      "decoder.layers.3.spatial_attn.proj.bias\n",
      "decoder.layers.3.temporal_attn.qkv.weight\n",
      "decoder.layers.3.temporal_attn.proj.weight\n",
      "decoder.layers.3.temporal_attn.proj.bias\n",
      "decoder.layers.3.norm2.weight\n",
      "decoder.layers.3.norm2.bias\n",
      "decoder.layers.3.mlp.gate.threshold_train\n",
      "decoder.layers.3.mlp.gate.threshold_eval\n",
      "decoder.layers.3.mlp.gate.to_gates.weight\n",
      "decoder.layers.3.mlp.experts.experts.0.net.fc1.weight\n",
      "decoder.layers.3.mlp.experts.experts.0.net.fc1.bias\n",
      "decoder.layers.3.mlp.experts.experts.0.net.fc2.weight\n",
      "decoder.layers.3.mlp.experts.experts.0.net.fc2.bias\n",
      "decoder.layers.3.mlp.experts.experts.1.net.fc1.weight\n",
      "decoder.layers.3.mlp.experts.experts.1.net.fc1.bias\n",
      "decoder.layers.3.mlp.experts.experts.1.net.fc2.weight\n",
      "decoder.layers.3.mlp.experts.experts.1.net.fc2.bias\n",
      "decoder.layers.3.mlp.experts.experts.2.net.fc1.weight\n",
      "decoder.layers.3.mlp.experts.experts.2.net.fc1.bias\n",
      "decoder.layers.3.mlp.experts.experts.2.net.fc2.weight\n",
      "decoder.layers.3.mlp.experts.experts.2.net.fc2.bias\n",
      "decoder.layers.3.mlp.experts.experts.3.net.fc1.weight\n",
      "decoder.layers.3.mlp.experts.experts.3.net.fc1.bias\n",
      "decoder.layers.3.mlp.experts.experts.3.net.fc2.weight\n",
      "decoder.layers.3.mlp.experts.experts.3.net.fc2.bias\n",
      "decoder.layers.4.norm1.weight\n",
      "decoder.layers.4.norm1.bias\n",
      "decoder.layers.4.spatial_attn.qkv.weight\n",
      "decoder.layers.4.spatial_attn.proj.weight\n",
      "decoder.layers.4.spatial_attn.proj.bias\n",
      "decoder.layers.4.temporal_attn.qkv.weight\n",
      "decoder.layers.4.temporal_attn.proj.weight\n",
      "decoder.layers.4.temporal_attn.proj.bias\n",
      "decoder.layers.4.norm2.weight\n",
      "decoder.layers.4.norm2.bias\n",
      "decoder.layers.4.mlp.gate.threshold_train\n",
      "decoder.layers.4.mlp.gate.threshold_eval\n",
      "decoder.layers.4.mlp.gate.to_gates.weight\n",
      "decoder.layers.4.mlp.experts.experts.0.net.fc1.weight\n",
      "decoder.layers.4.mlp.experts.experts.0.net.fc1.bias\n",
      "decoder.layers.4.mlp.experts.experts.0.net.fc2.weight\n",
      "decoder.layers.4.mlp.experts.experts.0.net.fc2.bias\n",
      "decoder.layers.4.mlp.experts.experts.1.net.fc1.weight\n",
      "decoder.layers.4.mlp.experts.experts.1.net.fc1.bias\n",
      "decoder.layers.4.mlp.experts.experts.1.net.fc2.weight\n",
      "decoder.layers.4.mlp.experts.experts.1.net.fc2.bias\n",
      "decoder.layers.4.mlp.experts.experts.2.net.fc1.weight\n",
      "decoder.layers.4.mlp.experts.experts.2.net.fc1.bias\n",
      "decoder.layers.4.mlp.experts.experts.2.net.fc2.weight\n",
      "decoder.layers.4.mlp.experts.experts.2.net.fc2.bias\n",
      "decoder.layers.4.mlp.experts.experts.3.net.fc1.weight\n",
      "decoder.layers.4.mlp.experts.experts.3.net.fc1.bias\n",
      "decoder.layers.4.mlp.experts.experts.3.net.fc2.weight\n",
      "decoder.layers.4.mlp.experts.experts.3.net.fc2.bias\n",
      "decoder.layers.5.norm1.weight\n",
      "decoder.layers.5.norm1.bias\n",
      "decoder.layers.5.spatial_attn.qkv.weight\n",
      "decoder.layers.5.spatial_attn.proj.weight\n",
      "decoder.layers.5.spatial_attn.proj.bias\n",
      "decoder.layers.5.temporal_attn.qkv.weight\n",
      "decoder.layers.5.temporal_attn.proj.weight\n",
      "decoder.layers.5.temporal_attn.proj.bias\n",
      "decoder.layers.5.norm2.weight\n",
      "decoder.layers.5.norm2.bias\n",
      "decoder.layers.5.mlp.gate.threshold_train\n",
      "decoder.layers.5.mlp.gate.threshold_eval\n",
      "decoder.layers.5.mlp.gate.to_gates.weight\n",
      "decoder.layers.5.mlp.experts.experts.0.net.fc1.weight\n",
      "decoder.layers.5.mlp.experts.experts.0.net.fc1.bias\n",
      "decoder.layers.5.mlp.experts.experts.0.net.fc2.weight\n",
      "decoder.layers.5.mlp.experts.experts.0.net.fc2.bias\n",
      "decoder.layers.5.mlp.experts.experts.1.net.fc1.weight\n",
      "decoder.layers.5.mlp.experts.experts.1.net.fc1.bias\n",
      "decoder.layers.5.mlp.experts.experts.1.net.fc2.weight\n",
      "decoder.layers.5.mlp.experts.experts.1.net.fc2.bias\n",
      "decoder.layers.5.mlp.experts.experts.2.net.fc1.weight\n",
      "decoder.layers.5.mlp.experts.experts.2.net.fc1.bias\n",
      "decoder.layers.5.mlp.experts.experts.2.net.fc2.weight\n",
      "decoder.layers.5.mlp.experts.experts.2.net.fc2.bias\n",
      "decoder.layers.5.mlp.experts.experts.3.net.fc1.weight\n",
      "decoder.layers.5.mlp.experts.experts.3.net.fc1.bias\n",
      "decoder.layers.5.mlp.experts.experts.3.net.fc2.weight\n",
      "decoder.layers.5.mlp.experts.experts.3.net.fc2.bias\n",
      "decoder.layers.6.norm1.weight\n",
      "decoder.layers.6.norm1.bias\n",
      "decoder.layers.6.spatial_attn.qkv.weight\n",
      "decoder.layers.6.spatial_attn.proj.weight\n",
      "decoder.layers.6.spatial_attn.proj.bias\n",
      "decoder.layers.6.temporal_attn.qkv.weight\n",
      "decoder.layers.6.temporal_attn.proj.weight\n",
      "decoder.layers.6.temporal_attn.proj.bias\n",
      "decoder.layers.6.norm2.weight\n",
      "decoder.layers.6.norm2.bias\n",
      "decoder.layers.6.mlp.gate.threshold_train\n",
      "decoder.layers.6.mlp.gate.threshold_eval\n",
      "decoder.layers.6.mlp.gate.to_gates.weight\n",
      "decoder.layers.6.mlp.experts.experts.0.net.fc1.weight\n",
      "decoder.layers.6.mlp.experts.experts.0.net.fc1.bias\n",
      "decoder.layers.6.mlp.experts.experts.0.net.fc2.weight\n",
      "decoder.layers.6.mlp.experts.experts.0.net.fc2.bias\n",
      "decoder.layers.6.mlp.experts.experts.1.net.fc1.weight\n",
      "decoder.layers.6.mlp.experts.experts.1.net.fc1.bias\n",
      "decoder.layers.6.mlp.experts.experts.1.net.fc2.weight\n",
      "decoder.layers.6.mlp.experts.experts.1.net.fc2.bias\n",
      "decoder.layers.6.mlp.experts.experts.2.net.fc1.weight\n",
      "decoder.layers.6.mlp.experts.experts.2.net.fc1.bias\n",
      "decoder.layers.6.mlp.experts.experts.2.net.fc2.weight\n",
      "decoder.layers.6.mlp.experts.experts.2.net.fc2.bias\n",
      "decoder.layers.6.mlp.experts.experts.3.net.fc1.weight\n",
      "decoder.layers.6.mlp.experts.experts.3.net.fc1.bias\n",
      "decoder.layers.6.mlp.experts.experts.3.net.fc2.weight\n",
      "decoder.layers.6.mlp.experts.experts.3.net.fc2.bias\n",
      "decoder.layers.7.norm1.weight\n",
      "decoder.layers.7.norm1.bias\n",
      "decoder.layers.7.spatial_attn.qkv.weight\n",
      "decoder.layers.7.spatial_attn.proj.weight\n",
      "decoder.layers.7.spatial_attn.proj.bias\n",
      "decoder.layers.7.temporal_attn.qkv.weight\n",
      "decoder.layers.7.temporal_attn.proj.weight\n",
      "decoder.layers.7.temporal_attn.proj.bias\n",
      "decoder.layers.7.norm2.weight\n",
      "decoder.layers.7.norm2.bias\n",
      "decoder.layers.7.mlp.gate.threshold_train\n",
      "decoder.layers.7.mlp.gate.threshold_eval\n",
      "decoder.layers.7.mlp.gate.to_gates.weight\n",
      "decoder.layers.7.mlp.experts.experts.0.net.fc1.weight\n",
      "decoder.layers.7.mlp.experts.experts.0.net.fc1.bias\n",
      "decoder.layers.7.mlp.experts.experts.0.net.fc2.weight\n",
      "decoder.layers.7.mlp.experts.experts.0.net.fc2.bias\n",
      "decoder.layers.7.mlp.experts.experts.1.net.fc1.weight\n",
      "decoder.layers.7.mlp.experts.experts.1.net.fc1.bias\n",
      "decoder.layers.7.mlp.experts.experts.1.net.fc2.weight\n",
      "decoder.layers.7.mlp.experts.experts.1.net.fc2.bias\n",
      "decoder.layers.7.mlp.experts.experts.2.net.fc1.weight\n",
      "decoder.layers.7.mlp.experts.experts.2.net.fc1.bias\n",
      "decoder.layers.7.mlp.experts.experts.2.net.fc2.weight\n",
      "decoder.layers.7.mlp.experts.experts.2.net.fc2.bias\n",
      "decoder.layers.7.mlp.experts.experts.3.net.fc1.weight\n",
      "decoder.layers.7.mlp.experts.experts.3.net.fc1.bias\n",
      "decoder.layers.7.mlp.experts.experts.3.net.fc2.weight\n",
      "decoder.layers.7.mlp.experts.experts.3.net.fc2.bias\n",
      "decoder.layers.8.norm1.weight\n",
      "decoder.layers.8.norm1.bias\n",
      "decoder.layers.8.spatial_attn.qkv.weight\n",
      "decoder.layers.8.spatial_attn.proj.weight\n",
      "decoder.layers.8.spatial_attn.proj.bias\n",
      "decoder.layers.8.temporal_attn.qkv.weight\n",
      "decoder.layers.8.temporal_attn.proj.weight\n",
      "decoder.layers.8.temporal_attn.proj.bias\n",
      "decoder.layers.8.norm2.weight\n",
      "decoder.layers.8.norm2.bias\n",
      "decoder.layers.8.mlp.gate.threshold_train\n",
      "decoder.layers.8.mlp.gate.threshold_eval\n",
      "decoder.layers.8.mlp.gate.to_gates.weight\n",
      "decoder.layers.8.mlp.experts.experts.0.net.fc1.weight\n",
      "decoder.layers.8.mlp.experts.experts.0.net.fc1.bias\n",
      "decoder.layers.8.mlp.experts.experts.0.net.fc2.weight\n",
      "decoder.layers.8.mlp.experts.experts.0.net.fc2.bias\n",
      "decoder.layers.8.mlp.experts.experts.1.net.fc1.weight\n",
      "decoder.layers.8.mlp.experts.experts.1.net.fc1.bias\n",
      "decoder.layers.8.mlp.experts.experts.1.net.fc2.weight\n",
      "decoder.layers.8.mlp.experts.experts.1.net.fc2.bias\n",
      "decoder.layers.8.mlp.experts.experts.2.net.fc1.weight\n",
      "decoder.layers.8.mlp.experts.experts.2.net.fc1.bias\n",
      "decoder.layers.8.mlp.experts.experts.2.net.fc2.weight\n",
      "decoder.layers.8.mlp.experts.experts.2.net.fc2.bias\n",
      "decoder.layers.8.mlp.experts.experts.3.net.fc1.weight\n",
      "decoder.layers.8.mlp.experts.experts.3.net.fc1.bias\n",
      "decoder.layers.8.mlp.experts.experts.3.net.fc2.weight\n",
      "decoder.layers.8.mlp.experts.experts.3.net.fc2.bias\n",
      "decoder.layers.9.norm1.weight\n",
      "decoder.layers.9.norm1.bias\n",
      "decoder.layers.9.spatial_attn.qkv.weight\n",
      "decoder.layers.9.spatial_attn.proj.weight\n",
      "decoder.layers.9.spatial_attn.proj.bias\n",
      "decoder.layers.9.temporal_attn.qkv.weight\n",
      "decoder.layers.9.temporal_attn.proj.weight\n",
      "decoder.layers.9.temporal_attn.proj.bias\n",
      "decoder.layers.9.norm2.weight\n",
      "decoder.layers.9.norm2.bias\n",
      "decoder.layers.9.mlp.gate.threshold_train\n",
      "decoder.layers.9.mlp.gate.threshold_eval\n",
      "decoder.layers.9.mlp.gate.to_gates.weight\n",
      "decoder.layers.9.mlp.experts.experts.0.net.fc1.weight\n",
      "decoder.layers.9.mlp.experts.experts.0.net.fc1.bias\n",
      "decoder.layers.9.mlp.experts.experts.0.net.fc2.weight\n",
      "decoder.layers.9.mlp.experts.experts.0.net.fc2.bias\n",
      "decoder.layers.9.mlp.experts.experts.1.net.fc1.weight\n",
      "decoder.layers.9.mlp.experts.experts.1.net.fc1.bias\n",
      "decoder.layers.9.mlp.experts.experts.1.net.fc2.weight\n",
      "decoder.layers.9.mlp.experts.experts.1.net.fc2.bias\n",
      "decoder.layers.9.mlp.experts.experts.2.net.fc1.weight\n",
      "decoder.layers.9.mlp.experts.experts.2.net.fc1.bias\n",
      "decoder.layers.9.mlp.experts.experts.2.net.fc2.weight\n",
      "decoder.layers.9.mlp.experts.experts.2.net.fc2.bias\n",
      "decoder.layers.9.mlp.experts.experts.3.net.fc1.weight\n",
      "decoder.layers.9.mlp.experts.experts.3.net.fc1.bias\n",
      "decoder.layers.9.mlp.experts.experts.3.net.fc2.weight\n",
      "decoder.layers.9.mlp.experts.experts.3.net.fc2.bias\n",
      "decoder.layers.10.norm1.weight\n",
      "decoder.layers.10.norm1.bias\n",
      "decoder.layers.10.spatial_attn.qkv.weight\n",
      "decoder.layers.10.spatial_attn.proj.weight\n",
      "decoder.layers.10.spatial_attn.proj.bias\n",
      "decoder.layers.10.temporal_attn.qkv.weight\n",
      "decoder.layers.10.temporal_attn.proj.weight\n",
      "decoder.layers.10.temporal_attn.proj.bias\n",
      "decoder.layers.10.norm2.weight\n",
      "decoder.layers.10.norm2.bias\n",
      "decoder.layers.10.mlp.gate.threshold_train\n",
      "decoder.layers.10.mlp.gate.threshold_eval\n",
      "decoder.layers.10.mlp.gate.to_gates.weight\n",
      "decoder.layers.10.mlp.experts.experts.0.net.fc1.weight\n",
      "decoder.layers.10.mlp.experts.experts.0.net.fc1.bias\n",
      "decoder.layers.10.mlp.experts.experts.0.net.fc2.weight\n",
      "decoder.layers.10.mlp.experts.experts.0.net.fc2.bias\n",
      "decoder.layers.10.mlp.experts.experts.1.net.fc1.weight\n",
      "decoder.layers.10.mlp.experts.experts.1.net.fc1.bias\n",
      "decoder.layers.10.mlp.experts.experts.1.net.fc2.weight\n",
      "decoder.layers.10.mlp.experts.experts.1.net.fc2.bias\n",
      "decoder.layers.10.mlp.experts.experts.2.net.fc1.weight\n",
      "decoder.layers.10.mlp.experts.experts.2.net.fc1.bias\n",
      "decoder.layers.10.mlp.experts.experts.2.net.fc2.weight\n",
      "decoder.layers.10.mlp.experts.experts.2.net.fc2.bias\n",
      "decoder.layers.10.mlp.experts.experts.3.net.fc1.weight\n",
      "decoder.layers.10.mlp.experts.experts.3.net.fc1.bias\n",
      "decoder.layers.10.mlp.experts.experts.3.net.fc2.weight\n",
      "decoder.layers.10.mlp.experts.experts.3.net.fc2.bias\n",
      "decoder.layers.11.norm1.weight\n",
      "decoder.layers.11.norm1.bias\n",
      "decoder.layers.11.spatial_attn.qkv.weight\n",
      "decoder.layers.11.spatial_attn.proj.weight\n",
      "decoder.layers.11.spatial_attn.proj.bias\n",
      "decoder.layers.11.temporal_attn.qkv.weight\n",
      "decoder.layers.11.temporal_attn.proj.weight\n",
      "decoder.layers.11.temporal_attn.proj.bias\n",
      "decoder.layers.11.norm2.weight\n",
      "decoder.layers.11.norm2.bias\n",
      "decoder.layers.11.mlp.gate.threshold_train\n",
      "decoder.layers.11.mlp.gate.threshold_eval\n",
      "decoder.layers.11.mlp.gate.to_gates.weight\n",
      "decoder.layers.11.mlp.experts.experts.0.net.fc1.weight\n",
      "decoder.layers.11.mlp.experts.experts.0.net.fc1.bias\n",
      "decoder.layers.11.mlp.experts.experts.0.net.fc2.weight\n",
      "decoder.layers.11.mlp.experts.experts.0.net.fc2.bias\n",
      "decoder.layers.11.mlp.experts.experts.1.net.fc1.weight\n",
      "decoder.layers.11.mlp.experts.experts.1.net.fc1.bias\n",
      "decoder.layers.11.mlp.experts.experts.1.net.fc2.weight\n",
      "decoder.layers.11.mlp.experts.experts.1.net.fc2.bias\n",
      "decoder.layers.11.mlp.experts.experts.2.net.fc1.weight\n",
      "decoder.layers.11.mlp.experts.experts.2.net.fc1.bias\n",
      "decoder.layers.11.mlp.experts.experts.2.net.fc2.weight\n",
      "decoder.layers.11.mlp.experts.experts.2.net.fc2.bias\n",
      "decoder.layers.11.mlp.experts.experts.3.net.fc1.weight\n",
      "decoder.layers.11.mlp.experts.experts.3.net.fc1.bias\n",
      "decoder.layers.11.mlp.experts.experts.3.net.fc2.weight\n",
      "decoder.layers.11.mlp.experts.experts.3.net.fc2.bias\n",
      "decoder.layers.12.norm1.weight\n",
      "decoder.layers.12.norm1.bias\n",
      "decoder.layers.12.spatial_attn.qkv.weight\n",
      "decoder.layers.12.spatial_attn.proj.weight\n",
      "decoder.layers.12.spatial_attn.proj.bias\n",
      "decoder.layers.12.temporal_attn.qkv.weight\n",
      "decoder.layers.12.temporal_attn.proj.weight\n",
      "decoder.layers.12.temporal_attn.proj.bias\n",
      "decoder.layers.12.norm2.weight\n",
      "decoder.layers.12.norm2.bias\n",
      "decoder.layers.12.mlp.gate.threshold_train\n",
      "decoder.layers.12.mlp.gate.threshold_eval\n",
      "decoder.layers.12.mlp.gate.to_gates.weight\n",
      "decoder.layers.12.mlp.experts.experts.0.net.fc1.weight\n",
      "decoder.layers.12.mlp.experts.experts.0.net.fc1.bias\n",
      "decoder.layers.12.mlp.experts.experts.0.net.fc2.weight\n",
      "decoder.layers.12.mlp.experts.experts.0.net.fc2.bias\n",
      "decoder.layers.12.mlp.experts.experts.1.net.fc1.weight\n",
      "decoder.layers.12.mlp.experts.experts.1.net.fc1.bias\n",
      "decoder.layers.12.mlp.experts.experts.1.net.fc2.weight\n",
      "decoder.layers.12.mlp.experts.experts.1.net.fc2.bias\n",
      "decoder.layers.12.mlp.experts.experts.2.net.fc1.weight\n",
      "decoder.layers.12.mlp.experts.experts.2.net.fc1.bias\n",
      "decoder.layers.12.mlp.experts.experts.2.net.fc2.weight\n",
      "decoder.layers.12.mlp.experts.experts.2.net.fc2.bias\n",
      "decoder.layers.12.mlp.experts.experts.3.net.fc1.weight\n",
      "decoder.layers.12.mlp.experts.experts.3.net.fc1.bias\n",
      "decoder.layers.12.mlp.experts.experts.3.net.fc2.weight\n",
      "decoder.layers.12.mlp.experts.experts.3.net.fc2.bias\n",
      "decoder.layers.13.norm1.weight\n",
      "decoder.layers.13.norm1.bias\n",
      "decoder.layers.13.spatial_attn.qkv.weight\n",
      "decoder.layers.13.spatial_attn.proj.weight\n",
      "decoder.layers.13.spatial_attn.proj.bias\n",
      "decoder.layers.13.temporal_attn.qkv.weight\n",
      "decoder.layers.13.temporal_attn.proj.weight\n",
      "decoder.layers.13.temporal_attn.proj.bias\n",
      "decoder.layers.13.norm2.weight\n",
      "decoder.layers.13.norm2.bias\n",
      "decoder.layers.13.mlp.gate.threshold_train\n",
      "decoder.layers.13.mlp.gate.threshold_eval\n",
      "decoder.layers.13.mlp.gate.to_gates.weight\n",
      "decoder.layers.13.mlp.experts.experts.0.net.fc1.weight\n",
      "decoder.layers.13.mlp.experts.experts.0.net.fc1.bias\n",
      "decoder.layers.13.mlp.experts.experts.0.net.fc2.weight\n",
      "decoder.layers.13.mlp.experts.experts.0.net.fc2.bias\n",
      "decoder.layers.13.mlp.experts.experts.1.net.fc1.weight\n",
      "decoder.layers.13.mlp.experts.experts.1.net.fc1.bias\n",
      "decoder.layers.13.mlp.experts.experts.1.net.fc2.weight\n",
      "decoder.layers.13.mlp.experts.experts.1.net.fc2.bias\n",
      "decoder.layers.13.mlp.experts.experts.2.net.fc1.weight\n",
      "decoder.layers.13.mlp.experts.experts.2.net.fc1.bias\n",
      "decoder.layers.13.mlp.experts.experts.2.net.fc2.weight\n",
      "decoder.layers.13.mlp.experts.experts.2.net.fc2.bias\n",
      "decoder.layers.13.mlp.experts.experts.3.net.fc1.weight\n",
      "decoder.layers.13.mlp.experts.experts.3.net.fc1.bias\n",
      "decoder.layers.13.mlp.experts.experts.3.net.fc2.weight\n",
      "decoder.layers.13.mlp.experts.experts.3.net.fc2.bias\n",
      "decoder.layers.14.norm1.weight\n",
      "decoder.layers.14.norm1.bias\n",
      "decoder.layers.14.spatial_attn.qkv.weight\n",
      "decoder.layers.14.spatial_attn.proj.weight\n",
      "decoder.layers.14.spatial_attn.proj.bias\n",
      "decoder.layers.14.temporal_attn.qkv.weight\n",
      "decoder.layers.14.temporal_attn.proj.weight\n",
      "decoder.layers.14.temporal_attn.proj.bias\n",
      "decoder.layers.14.norm2.weight\n",
      "decoder.layers.14.norm2.bias\n",
      "decoder.layers.14.mlp.gate.threshold_train\n",
      "decoder.layers.14.mlp.gate.threshold_eval\n",
      "decoder.layers.14.mlp.gate.to_gates.weight\n",
      "decoder.layers.14.mlp.experts.experts.0.net.fc1.weight\n",
      "decoder.layers.14.mlp.experts.experts.0.net.fc1.bias\n",
      "decoder.layers.14.mlp.experts.experts.0.net.fc2.weight\n",
      "decoder.layers.14.mlp.experts.experts.0.net.fc2.bias\n",
      "decoder.layers.14.mlp.experts.experts.1.net.fc1.weight\n",
      "decoder.layers.14.mlp.experts.experts.1.net.fc1.bias\n",
      "decoder.layers.14.mlp.experts.experts.1.net.fc2.weight\n",
      "decoder.layers.14.mlp.experts.experts.1.net.fc2.bias\n",
      "decoder.layers.14.mlp.experts.experts.2.net.fc1.weight\n",
      "decoder.layers.14.mlp.experts.experts.2.net.fc1.bias\n",
      "decoder.layers.14.mlp.experts.experts.2.net.fc2.weight\n",
      "decoder.layers.14.mlp.experts.experts.2.net.fc2.bias\n",
      "decoder.layers.14.mlp.experts.experts.3.net.fc1.weight\n",
      "decoder.layers.14.mlp.experts.experts.3.net.fc1.bias\n",
      "decoder.layers.14.mlp.experts.experts.3.net.fc2.weight\n",
      "decoder.layers.14.mlp.experts.experts.3.net.fc2.bias\n",
      "decoder.layers.15.norm1.weight\n",
      "decoder.layers.15.norm1.bias\n",
      "decoder.layers.15.spatial_attn.qkv.weight\n",
      "decoder.layers.15.spatial_attn.proj.weight\n",
      "decoder.layers.15.spatial_attn.proj.bias\n",
      "decoder.layers.15.temporal_attn.qkv.weight\n",
      "decoder.layers.15.temporal_attn.proj.weight\n",
      "decoder.layers.15.temporal_attn.proj.bias\n",
      "decoder.layers.15.norm2.weight\n",
      "decoder.layers.15.norm2.bias\n",
      "decoder.layers.15.mlp.gate.threshold_train\n",
      "decoder.layers.15.mlp.gate.threshold_eval\n",
      "decoder.layers.15.mlp.gate.to_gates.weight\n",
      "decoder.layers.15.mlp.experts.experts.0.net.fc1.weight\n",
      "decoder.layers.15.mlp.experts.experts.0.net.fc1.bias\n",
      "decoder.layers.15.mlp.experts.experts.0.net.fc2.weight\n",
      "decoder.layers.15.mlp.experts.experts.0.net.fc2.bias\n",
      "decoder.layers.15.mlp.experts.experts.1.net.fc1.weight\n",
      "decoder.layers.15.mlp.experts.experts.1.net.fc1.bias\n",
      "decoder.layers.15.mlp.experts.experts.1.net.fc2.weight\n",
      "decoder.layers.15.mlp.experts.experts.1.net.fc2.bias\n",
      "decoder.layers.15.mlp.experts.experts.2.net.fc1.weight\n",
      "decoder.layers.15.mlp.experts.experts.2.net.fc1.bias\n",
      "decoder.layers.15.mlp.experts.experts.2.net.fc2.weight\n",
      "decoder.layers.15.mlp.experts.experts.2.net.fc2.bias\n",
      "decoder.layers.15.mlp.experts.experts.3.net.fc1.weight\n",
      "decoder.layers.15.mlp.experts.experts.3.net.fc1.bias\n",
      "decoder.layers.15.mlp.experts.experts.3.net.fc2.weight\n",
      "decoder.layers.15.mlp.experts.experts.3.net.fc2.bias\n",
      "decoder.layers.16.norm1.weight\n",
      "decoder.layers.16.norm1.bias\n",
      "decoder.layers.16.spatial_attn.qkv.weight\n",
      "decoder.layers.16.spatial_attn.proj.weight\n",
      "decoder.layers.16.spatial_attn.proj.bias\n",
      "decoder.layers.16.temporal_attn.qkv.weight\n",
      "decoder.layers.16.temporal_attn.proj.weight\n",
      "decoder.layers.16.temporal_attn.proj.bias\n",
      "decoder.layers.16.norm2.weight\n",
      "decoder.layers.16.norm2.bias\n",
      "decoder.layers.16.mlp.gate.threshold_train\n",
      "decoder.layers.16.mlp.gate.threshold_eval\n",
      "decoder.layers.16.mlp.gate.to_gates.weight\n",
      "decoder.layers.16.mlp.experts.experts.0.net.fc1.weight\n",
      "decoder.layers.16.mlp.experts.experts.0.net.fc1.bias\n",
      "decoder.layers.16.mlp.experts.experts.0.net.fc2.weight\n",
      "decoder.layers.16.mlp.experts.experts.0.net.fc2.bias\n",
      "decoder.layers.16.mlp.experts.experts.1.net.fc1.weight\n",
      "decoder.layers.16.mlp.experts.experts.1.net.fc1.bias\n",
      "decoder.layers.16.mlp.experts.experts.1.net.fc2.weight\n",
      "decoder.layers.16.mlp.experts.experts.1.net.fc2.bias\n",
      "decoder.layers.16.mlp.experts.experts.2.net.fc1.weight\n",
      "decoder.layers.16.mlp.experts.experts.2.net.fc1.bias\n",
      "decoder.layers.16.mlp.experts.experts.2.net.fc2.weight\n",
      "decoder.layers.16.mlp.experts.experts.2.net.fc2.bias\n",
      "decoder.layers.16.mlp.experts.experts.3.net.fc1.weight\n",
      "decoder.layers.16.mlp.experts.experts.3.net.fc1.bias\n",
      "decoder.layers.16.mlp.experts.experts.3.net.fc2.weight\n",
      "decoder.layers.16.mlp.experts.experts.3.net.fc2.bias\n",
      "decoder.layers.17.norm1.weight\n",
      "decoder.layers.17.norm1.bias\n",
      "decoder.layers.17.spatial_attn.qkv.weight\n",
      "decoder.layers.17.spatial_attn.proj.weight\n",
      "decoder.layers.17.spatial_attn.proj.bias\n",
      "decoder.layers.17.temporal_attn.qkv.weight\n",
      "decoder.layers.17.temporal_attn.proj.weight\n",
      "decoder.layers.17.temporal_attn.proj.bias\n",
      "decoder.layers.17.norm2.weight\n",
      "decoder.layers.17.norm2.bias\n",
      "decoder.layers.17.mlp.gate.threshold_train\n",
      "decoder.layers.17.mlp.gate.threshold_eval\n",
      "decoder.layers.17.mlp.gate.to_gates.weight\n",
      "decoder.layers.17.mlp.experts.experts.0.net.fc1.weight\n",
      "decoder.layers.17.mlp.experts.experts.0.net.fc1.bias\n",
      "decoder.layers.17.mlp.experts.experts.0.net.fc2.weight\n",
      "decoder.layers.17.mlp.experts.experts.0.net.fc2.bias\n",
      "decoder.layers.17.mlp.experts.experts.1.net.fc1.weight\n",
      "decoder.layers.17.mlp.experts.experts.1.net.fc1.bias\n",
      "decoder.layers.17.mlp.experts.experts.1.net.fc2.weight\n",
      "decoder.layers.17.mlp.experts.experts.1.net.fc2.bias\n",
      "decoder.layers.17.mlp.experts.experts.2.net.fc1.weight\n",
      "decoder.layers.17.mlp.experts.experts.2.net.fc1.bias\n",
      "decoder.layers.17.mlp.experts.experts.2.net.fc2.weight\n",
      "decoder.layers.17.mlp.experts.experts.2.net.fc2.bias\n",
      "decoder.layers.17.mlp.experts.experts.3.net.fc1.weight\n",
      "decoder.layers.17.mlp.experts.experts.3.net.fc1.bias\n",
      "decoder.layers.17.mlp.experts.experts.3.net.fc2.weight\n",
      "decoder.layers.17.mlp.experts.experts.3.net.fc2.bias\n",
      "decoder.layers.18.norm1.weight\n",
      "decoder.layers.18.norm1.bias\n",
      "decoder.layers.18.spatial_attn.qkv.weight\n",
      "decoder.layers.18.spatial_attn.proj.weight\n",
      "decoder.layers.18.spatial_attn.proj.bias\n",
      "decoder.layers.18.temporal_attn.qkv.weight\n",
      "decoder.layers.18.temporal_attn.proj.weight\n",
      "decoder.layers.18.temporal_attn.proj.bias\n",
      "decoder.layers.18.norm2.weight\n",
      "decoder.layers.18.norm2.bias\n",
      "decoder.layers.18.mlp.gate.threshold_train\n",
      "decoder.layers.18.mlp.gate.threshold_eval\n",
      "decoder.layers.18.mlp.gate.to_gates.weight\n",
      "decoder.layers.18.mlp.experts.experts.0.net.fc1.weight\n",
      "decoder.layers.18.mlp.experts.experts.0.net.fc1.bias\n",
      "decoder.layers.18.mlp.experts.experts.0.net.fc2.weight\n",
      "decoder.layers.18.mlp.experts.experts.0.net.fc2.bias\n",
      "decoder.layers.18.mlp.experts.experts.1.net.fc1.weight\n",
      "decoder.layers.18.mlp.experts.experts.1.net.fc1.bias\n",
      "decoder.layers.18.mlp.experts.experts.1.net.fc2.weight\n",
      "decoder.layers.18.mlp.experts.experts.1.net.fc2.bias\n",
      "decoder.layers.18.mlp.experts.experts.2.net.fc1.weight\n",
      "decoder.layers.18.mlp.experts.experts.2.net.fc1.bias\n",
      "decoder.layers.18.mlp.experts.experts.2.net.fc2.weight\n",
      "decoder.layers.18.mlp.experts.experts.2.net.fc2.bias\n",
      "decoder.layers.18.mlp.experts.experts.3.net.fc1.weight\n",
      "decoder.layers.18.mlp.experts.experts.3.net.fc1.bias\n",
      "decoder.layers.18.mlp.experts.experts.3.net.fc2.weight\n",
      "decoder.layers.18.mlp.experts.experts.3.net.fc2.bias\n",
      "decoder.layers.19.norm1.weight\n",
      "decoder.layers.19.norm1.bias\n",
      "decoder.layers.19.spatial_attn.qkv.weight\n",
      "decoder.layers.19.spatial_attn.proj.weight\n",
      "decoder.layers.19.spatial_attn.proj.bias\n",
      "decoder.layers.19.temporal_attn.qkv.weight\n",
      "decoder.layers.19.temporal_attn.proj.weight\n",
      "decoder.layers.19.temporal_attn.proj.bias\n",
      "decoder.layers.19.norm2.weight\n",
      "decoder.layers.19.norm2.bias\n",
      "decoder.layers.19.mlp.gate.threshold_train\n",
      "decoder.layers.19.mlp.gate.threshold_eval\n",
      "decoder.layers.19.mlp.gate.to_gates.weight\n",
      "decoder.layers.19.mlp.experts.experts.0.net.fc1.weight\n",
      "decoder.layers.19.mlp.experts.experts.0.net.fc1.bias\n",
      "decoder.layers.19.mlp.experts.experts.0.net.fc2.weight\n",
      "decoder.layers.19.mlp.experts.experts.0.net.fc2.bias\n",
      "decoder.layers.19.mlp.experts.experts.1.net.fc1.weight\n",
      "decoder.layers.19.mlp.experts.experts.1.net.fc1.bias\n",
      "decoder.layers.19.mlp.experts.experts.1.net.fc2.weight\n",
      "decoder.layers.19.mlp.experts.experts.1.net.fc2.bias\n",
      "decoder.layers.19.mlp.experts.experts.2.net.fc1.weight\n",
      "decoder.layers.19.mlp.experts.experts.2.net.fc1.bias\n",
      "decoder.layers.19.mlp.experts.experts.2.net.fc2.weight\n",
      "decoder.layers.19.mlp.experts.experts.2.net.fc2.bias\n",
      "decoder.layers.19.mlp.experts.experts.3.net.fc1.weight\n",
      "decoder.layers.19.mlp.experts.experts.3.net.fc1.bias\n",
      "decoder.layers.19.mlp.experts.experts.3.net.fc2.weight\n",
      "decoder.layers.19.mlp.experts.experts.3.net.fc2.bias\n",
      "decoder.layers.20.norm1.weight\n",
      "decoder.layers.20.norm1.bias\n",
      "decoder.layers.20.spatial_attn.qkv.weight\n",
      "decoder.layers.20.spatial_attn.proj.weight\n",
      "decoder.layers.20.spatial_attn.proj.bias\n",
      "decoder.layers.20.temporal_attn.qkv.weight\n",
      "decoder.layers.20.temporal_attn.proj.weight\n",
      "decoder.layers.20.temporal_attn.proj.bias\n",
      "decoder.layers.20.norm2.weight\n",
      "decoder.layers.20.norm2.bias\n",
      "decoder.layers.20.mlp.gate.threshold_train\n",
      "decoder.layers.20.mlp.gate.threshold_eval\n",
      "decoder.layers.20.mlp.gate.to_gates.weight\n",
      "decoder.layers.20.mlp.experts.experts.0.net.fc1.weight\n",
      "decoder.layers.20.mlp.experts.experts.0.net.fc1.bias\n",
      "decoder.layers.20.mlp.experts.experts.0.net.fc2.weight\n",
      "decoder.layers.20.mlp.experts.experts.0.net.fc2.bias\n",
      "decoder.layers.20.mlp.experts.experts.1.net.fc1.weight\n",
      "decoder.layers.20.mlp.experts.experts.1.net.fc1.bias\n",
      "decoder.layers.20.mlp.experts.experts.1.net.fc2.weight\n",
      "decoder.layers.20.mlp.experts.experts.1.net.fc2.bias\n",
      "decoder.layers.20.mlp.experts.experts.2.net.fc1.weight\n",
      "decoder.layers.20.mlp.experts.experts.2.net.fc1.bias\n",
      "decoder.layers.20.mlp.experts.experts.2.net.fc2.weight\n",
      "decoder.layers.20.mlp.experts.experts.2.net.fc2.bias\n",
      "decoder.layers.20.mlp.experts.experts.3.net.fc1.weight\n",
      "decoder.layers.20.mlp.experts.experts.3.net.fc1.bias\n",
      "decoder.layers.20.mlp.experts.experts.3.net.fc2.weight\n",
      "decoder.layers.20.mlp.experts.experts.3.net.fc2.bias\n",
      "decoder.layers.21.norm1.weight\n",
      "decoder.layers.21.norm1.bias\n",
      "decoder.layers.21.spatial_attn.qkv.weight\n",
      "decoder.layers.21.spatial_attn.proj.weight\n",
      "decoder.layers.21.spatial_attn.proj.bias\n",
      "decoder.layers.21.temporal_attn.qkv.weight\n",
      "decoder.layers.21.temporal_attn.proj.weight\n",
      "decoder.layers.21.temporal_attn.proj.bias\n",
      "decoder.layers.21.norm2.weight\n",
      "decoder.layers.21.norm2.bias\n",
      "decoder.layers.21.mlp.gate.threshold_train\n",
      "decoder.layers.21.mlp.gate.threshold_eval\n",
      "decoder.layers.21.mlp.gate.to_gates.weight\n",
      "decoder.layers.21.mlp.experts.experts.0.net.fc1.weight\n",
      "decoder.layers.21.mlp.experts.experts.0.net.fc1.bias\n",
      "decoder.layers.21.mlp.experts.experts.0.net.fc2.weight\n",
      "decoder.layers.21.mlp.experts.experts.0.net.fc2.bias\n",
      "decoder.layers.21.mlp.experts.experts.1.net.fc1.weight\n",
      "decoder.layers.21.mlp.experts.experts.1.net.fc1.bias\n",
      "decoder.layers.21.mlp.experts.experts.1.net.fc2.weight\n",
      "decoder.layers.21.mlp.experts.experts.1.net.fc2.bias\n",
      "decoder.layers.21.mlp.experts.experts.2.net.fc1.weight\n",
      "decoder.layers.21.mlp.experts.experts.2.net.fc1.bias\n",
      "decoder.layers.21.mlp.experts.experts.2.net.fc2.weight\n",
      "decoder.layers.21.mlp.experts.experts.2.net.fc2.bias\n",
      "decoder.layers.21.mlp.experts.experts.3.net.fc1.weight\n",
      "decoder.layers.21.mlp.experts.experts.3.net.fc1.bias\n",
      "decoder.layers.21.mlp.experts.experts.3.net.fc2.weight\n",
      "decoder.layers.21.mlp.experts.experts.3.net.fc2.bias\n",
      "decoder.layers.22.norm1.weight\n",
      "decoder.layers.22.norm1.bias\n",
      "decoder.layers.22.spatial_attn.qkv.weight\n",
      "decoder.layers.22.spatial_attn.proj.weight\n",
      "decoder.layers.22.spatial_attn.proj.bias\n",
      "decoder.layers.22.temporal_attn.qkv.weight\n",
      "decoder.layers.22.temporal_attn.proj.weight\n",
      "decoder.layers.22.temporal_attn.proj.bias\n",
      "decoder.layers.22.norm2.weight\n",
      "decoder.layers.22.norm2.bias\n",
      "decoder.layers.22.mlp.gate.threshold_train\n",
      "decoder.layers.22.mlp.gate.threshold_eval\n",
      "decoder.layers.22.mlp.gate.to_gates.weight\n",
      "decoder.layers.22.mlp.experts.experts.0.net.fc1.weight\n",
      "decoder.layers.22.mlp.experts.experts.0.net.fc1.bias\n",
      "decoder.layers.22.mlp.experts.experts.0.net.fc2.weight\n",
      "decoder.layers.22.mlp.experts.experts.0.net.fc2.bias\n",
      "decoder.layers.22.mlp.experts.experts.1.net.fc1.weight\n",
      "decoder.layers.22.mlp.experts.experts.1.net.fc1.bias\n",
      "decoder.layers.22.mlp.experts.experts.1.net.fc2.weight\n",
      "decoder.layers.22.mlp.experts.experts.1.net.fc2.bias\n",
      "decoder.layers.22.mlp.experts.experts.2.net.fc1.weight\n",
      "decoder.layers.22.mlp.experts.experts.2.net.fc1.bias\n",
      "decoder.layers.22.mlp.experts.experts.2.net.fc2.weight\n",
      "decoder.layers.22.mlp.experts.experts.2.net.fc2.bias\n",
      "decoder.layers.22.mlp.experts.experts.3.net.fc1.weight\n",
      "decoder.layers.22.mlp.experts.experts.3.net.fc1.bias\n",
      "decoder.layers.22.mlp.experts.experts.3.net.fc2.weight\n",
      "decoder.layers.22.mlp.experts.experts.3.net.fc2.bias\n",
      "decoder.layers.23.norm1.weight\n",
      "decoder.layers.23.norm1.bias\n",
      "decoder.layers.23.spatial_attn.qkv.weight\n",
      "decoder.layers.23.spatial_attn.proj.weight\n",
      "decoder.layers.23.spatial_attn.proj.bias\n",
      "decoder.layers.23.temporal_attn.qkv.weight\n",
      "decoder.layers.23.temporal_attn.proj.weight\n",
      "decoder.layers.23.temporal_attn.proj.bias\n",
      "decoder.layers.23.norm2.weight\n",
      "decoder.layers.23.norm2.bias\n",
      "decoder.layers.23.mlp.gate.threshold_train\n",
      "decoder.layers.23.mlp.gate.threshold_eval\n",
      "decoder.layers.23.mlp.gate.to_gates.weight\n",
      "decoder.layers.23.mlp.experts.experts.0.net.fc1.weight\n",
      "decoder.layers.23.mlp.experts.experts.0.net.fc1.bias\n",
      "decoder.layers.23.mlp.experts.experts.0.net.fc2.weight\n",
      "decoder.layers.23.mlp.experts.experts.0.net.fc2.bias\n",
      "decoder.layers.23.mlp.experts.experts.1.net.fc1.weight\n",
      "decoder.layers.23.mlp.experts.experts.1.net.fc1.bias\n",
      "decoder.layers.23.mlp.experts.experts.1.net.fc2.weight\n",
      "decoder.layers.23.mlp.experts.experts.1.net.fc2.bias\n",
      "decoder.layers.23.mlp.experts.experts.2.net.fc1.weight\n",
      "decoder.layers.23.mlp.experts.experts.2.net.fc1.bias\n",
      "decoder.layers.23.mlp.experts.experts.2.net.fc2.weight\n",
      "decoder.layers.23.mlp.experts.experts.2.net.fc2.bias\n",
      "decoder.layers.23.mlp.experts.experts.3.net.fc1.weight\n",
      "decoder.layers.23.mlp.experts.experts.3.net.fc1.bias\n",
      "decoder.layers.23.mlp.experts.experts.3.net.fc2.weight\n",
      "decoder.layers.23.mlp.experts.experts.3.net.fc2.bias\n",
      "decoder.layers.24.norm1.weight\n",
      "decoder.layers.24.norm1.bias\n",
      "decoder.layers.24.spatial_attn.qkv.weight\n",
      "decoder.layers.24.spatial_attn.proj.weight\n",
      "decoder.layers.24.spatial_attn.proj.bias\n",
      "decoder.layers.24.temporal_attn.qkv.weight\n",
      "decoder.layers.24.temporal_attn.proj.weight\n",
      "decoder.layers.24.temporal_attn.proj.bias\n",
      "decoder.layers.24.norm2.weight\n",
      "decoder.layers.24.norm2.bias\n",
      "decoder.layers.24.mlp.gate.threshold_train\n",
      "decoder.layers.24.mlp.gate.threshold_eval\n",
      "decoder.layers.24.mlp.gate.to_gates.weight\n",
      "decoder.layers.24.mlp.experts.experts.0.net.fc1.weight\n",
      "decoder.layers.24.mlp.experts.experts.0.net.fc1.bias\n",
      "decoder.layers.24.mlp.experts.experts.0.net.fc2.weight\n",
      "decoder.layers.24.mlp.experts.experts.0.net.fc2.bias\n",
      "decoder.layers.24.mlp.experts.experts.1.net.fc1.weight\n",
      "decoder.layers.24.mlp.experts.experts.1.net.fc1.bias\n",
      "decoder.layers.24.mlp.experts.experts.1.net.fc2.weight\n",
      "decoder.layers.24.mlp.experts.experts.1.net.fc2.bias\n",
      "decoder.layers.24.mlp.experts.experts.2.net.fc1.weight\n",
      "decoder.layers.24.mlp.experts.experts.2.net.fc1.bias\n",
      "decoder.layers.24.mlp.experts.experts.2.net.fc2.weight\n",
      "decoder.layers.24.mlp.experts.experts.2.net.fc2.bias\n",
      "decoder.layers.24.mlp.experts.experts.3.net.fc1.weight\n",
      "decoder.layers.24.mlp.experts.experts.3.net.fc1.bias\n",
      "decoder.layers.24.mlp.experts.experts.3.net.fc2.weight\n",
      "decoder.layers.24.mlp.experts.experts.3.net.fc2.bias\n",
      "decoder.layers.25.norm1.weight\n",
      "decoder.layers.25.norm1.bias\n",
      "decoder.layers.25.spatial_attn.qkv.weight\n",
      "decoder.layers.25.spatial_attn.proj.weight\n",
      "decoder.layers.25.spatial_attn.proj.bias\n",
      "decoder.layers.25.temporal_attn.qkv.weight\n",
      "decoder.layers.25.temporal_attn.proj.weight\n",
      "decoder.layers.25.temporal_attn.proj.bias\n",
      "decoder.layers.25.norm2.weight\n",
      "decoder.layers.25.norm2.bias\n",
      "decoder.layers.25.mlp.gate.threshold_train\n",
      "decoder.layers.25.mlp.gate.threshold_eval\n",
      "decoder.layers.25.mlp.gate.to_gates.weight\n",
      "decoder.layers.25.mlp.experts.experts.0.net.fc1.weight\n",
      "decoder.layers.25.mlp.experts.experts.0.net.fc1.bias\n",
      "decoder.layers.25.mlp.experts.experts.0.net.fc2.weight\n",
      "decoder.layers.25.mlp.experts.experts.0.net.fc2.bias\n",
      "decoder.layers.25.mlp.experts.experts.1.net.fc1.weight\n",
      "decoder.layers.25.mlp.experts.experts.1.net.fc1.bias\n",
      "decoder.layers.25.mlp.experts.experts.1.net.fc2.weight\n",
      "decoder.layers.25.mlp.experts.experts.1.net.fc2.bias\n",
      "decoder.layers.25.mlp.experts.experts.2.net.fc1.weight\n",
      "decoder.layers.25.mlp.experts.experts.2.net.fc1.bias\n",
      "decoder.layers.25.mlp.experts.experts.2.net.fc2.weight\n",
      "decoder.layers.25.mlp.experts.experts.2.net.fc2.bias\n",
      "decoder.layers.25.mlp.experts.experts.3.net.fc1.weight\n",
      "decoder.layers.25.mlp.experts.experts.3.net.fc1.bias\n",
      "decoder.layers.25.mlp.experts.experts.3.net.fc2.weight\n",
      "decoder.layers.25.mlp.experts.experts.3.net.fc2.bias\n",
      "decoder.layers.26.norm1.weight\n",
      "decoder.layers.26.norm1.bias\n",
      "decoder.layers.26.spatial_attn.qkv.weight\n",
      "decoder.layers.26.spatial_attn.proj.weight\n",
      "decoder.layers.26.spatial_attn.proj.bias\n",
      "decoder.layers.26.temporal_attn.qkv.weight\n",
      "decoder.layers.26.temporal_attn.proj.weight\n",
      "decoder.layers.26.temporal_attn.proj.bias\n",
      "decoder.layers.26.norm2.weight\n",
      "decoder.layers.26.norm2.bias\n",
      "decoder.layers.26.mlp.gate.threshold_train\n",
      "decoder.layers.26.mlp.gate.threshold_eval\n",
      "decoder.layers.26.mlp.gate.to_gates.weight\n",
      "decoder.layers.26.mlp.experts.experts.0.net.fc1.weight\n",
      "decoder.layers.26.mlp.experts.experts.0.net.fc1.bias\n",
      "decoder.layers.26.mlp.experts.experts.0.net.fc2.weight\n",
      "decoder.layers.26.mlp.experts.experts.0.net.fc2.bias\n",
      "decoder.layers.26.mlp.experts.experts.1.net.fc1.weight\n",
      "decoder.layers.26.mlp.experts.experts.1.net.fc1.bias\n",
      "decoder.layers.26.mlp.experts.experts.1.net.fc2.weight\n",
      "decoder.layers.26.mlp.experts.experts.1.net.fc2.bias\n",
      "decoder.layers.26.mlp.experts.experts.2.net.fc1.weight\n",
      "decoder.layers.26.mlp.experts.experts.2.net.fc1.bias\n",
      "decoder.layers.26.mlp.experts.experts.2.net.fc2.weight\n",
      "decoder.layers.26.mlp.experts.experts.2.net.fc2.bias\n",
      "decoder.layers.26.mlp.experts.experts.3.net.fc1.weight\n",
      "decoder.layers.26.mlp.experts.experts.3.net.fc1.bias\n",
      "decoder.layers.26.mlp.experts.experts.3.net.fc2.weight\n",
      "decoder.layers.26.mlp.experts.experts.3.net.fc2.bias\n",
      "decoder.layers.27.norm1.weight\n",
      "decoder.layers.27.norm1.bias\n",
      "decoder.layers.27.spatial_attn.qkv.weight\n",
      "decoder.layers.27.spatial_attn.proj.weight\n",
      "decoder.layers.27.spatial_attn.proj.bias\n",
      "decoder.layers.27.temporal_attn.qkv.weight\n",
      "decoder.layers.27.temporal_attn.proj.weight\n",
      "decoder.layers.27.temporal_attn.proj.bias\n",
      "decoder.layers.27.norm2.weight\n",
      "decoder.layers.27.norm2.bias\n",
      "decoder.layers.27.mlp.gate.threshold_train\n",
      "decoder.layers.27.mlp.gate.threshold_eval\n",
      "decoder.layers.27.mlp.gate.to_gates.weight\n",
      "decoder.layers.27.mlp.experts.experts.0.net.fc1.weight\n",
      "decoder.layers.27.mlp.experts.experts.0.net.fc1.bias\n",
      "decoder.layers.27.mlp.experts.experts.0.net.fc2.weight\n",
      "decoder.layers.27.mlp.experts.experts.0.net.fc2.bias\n",
      "decoder.layers.27.mlp.experts.experts.1.net.fc1.weight\n",
      "decoder.layers.27.mlp.experts.experts.1.net.fc1.bias\n",
      "decoder.layers.27.mlp.experts.experts.1.net.fc2.weight\n",
      "decoder.layers.27.mlp.experts.experts.1.net.fc2.bias\n",
      "decoder.layers.27.mlp.experts.experts.2.net.fc1.weight\n",
      "decoder.layers.27.mlp.experts.experts.2.net.fc1.bias\n",
      "decoder.layers.27.mlp.experts.experts.2.net.fc2.weight\n",
      "decoder.layers.27.mlp.experts.experts.2.net.fc2.bias\n",
      "decoder.layers.27.mlp.experts.experts.3.net.fc1.weight\n",
      "decoder.layers.27.mlp.experts.experts.3.net.fc1.bias\n",
      "decoder.layers.27.mlp.experts.experts.3.net.fc2.weight\n",
      "decoder.layers.27.mlp.experts.experts.3.net.fc2.bias\n",
      "decoder.layers.28.norm1.weight\n",
      "decoder.layers.28.norm1.bias\n",
      "decoder.layers.28.spatial_attn.qkv.weight\n",
      "decoder.layers.28.spatial_attn.proj.weight\n",
      "decoder.layers.28.spatial_attn.proj.bias\n",
      "decoder.layers.28.temporal_attn.qkv.weight\n",
      "decoder.layers.28.temporal_attn.proj.weight\n",
      "decoder.layers.28.temporal_attn.proj.bias\n",
      "decoder.layers.28.norm2.weight\n",
      "decoder.layers.28.norm2.bias\n",
      "decoder.layers.28.mlp.gate.threshold_train\n",
      "decoder.layers.28.mlp.gate.threshold_eval\n",
      "decoder.layers.28.mlp.gate.to_gates.weight\n",
      "decoder.layers.28.mlp.experts.experts.0.net.fc1.weight\n",
      "decoder.layers.28.mlp.experts.experts.0.net.fc1.bias\n",
      "decoder.layers.28.mlp.experts.experts.0.net.fc2.weight\n",
      "decoder.layers.28.mlp.experts.experts.0.net.fc2.bias\n",
      "decoder.layers.28.mlp.experts.experts.1.net.fc1.weight\n",
      "decoder.layers.28.mlp.experts.experts.1.net.fc1.bias\n",
      "decoder.layers.28.mlp.experts.experts.1.net.fc2.weight\n",
      "decoder.layers.28.mlp.experts.experts.1.net.fc2.bias\n",
      "decoder.layers.28.mlp.experts.experts.2.net.fc1.weight\n",
      "decoder.layers.28.mlp.experts.experts.2.net.fc1.bias\n",
      "decoder.layers.28.mlp.experts.experts.2.net.fc2.weight\n",
      "decoder.layers.28.mlp.experts.experts.2.net.fc2.bias\n",
      "decoder.layers.28.mlp.experts.experts.3.net.fc1.weight\n",
      "decoder.layers.28.mlp.experts.experts.3.net.fc1.bias\n",
      "decoder.layers.28.mlp.experts.experts.3.net.fc2.weight\n",
      "decoder.layers.28.mlp.experts.experts.3.net.fc2.bias\n",
      "decoder.layers.29.norm1.weight\n",
      "decoder.layers.29.norm1.bias\n",
      "decoder.layers.29.spatial_attn.qkv.weight\n",
      "decoder.layers.29.spatial_attn.proj.weight\n",
      "decoder.layers.29.spatial_attn.proj.bias\n",
      "decoder.layers.29.temporal_attn.qkv.weight\n",
      "decoder.layers.29.temporal_attn.proj.weight\n",
      "decoder.layers.29.temporal_attn.proj.bias\n",
      "decoder.layers.29.norm2.weight\n",
      "decoder.layers.29.norm2.bias\n",
      "decoder.layers.29.mlp.gate.threshold_train\n",
      "decoder.layers.29.mlp.gate.threshold_eval\n",
      "decoder.layers.29.mlp.gate.to_gates.weight\n",
      "decoder.layers.29.mlp.experts.experts.0.net.fc1.weight\n",
      "decoder.layers.29.mlp.experts.experts.0.net.fc1.bias\n",
      "decoder.layers.29.mlp.experts.experts.0.net.fc2.weight\n",
      "decoder.layers.29.mlp.experts.experts.0.net.fc2.bias\n",
      "decoder.layers.29.mlp.experts.experts.1.net.fc1.weight\n",
      "decoder.layers.29.mlp.experts.experts.1.net.fc1.bias\n",
      "decoder.layers.29.mlp.experts.experts.1.net.fc2.weight\n",
      "decoder.layers.29.mlp.experts.experts.1.net.fc2.bias\n",
      "decoder.layers.29.mlp.experts.experts.2.net.fc1.weight\n",
      "decoder.layers.29.mlp.experts.experts.2.net.fc1.bias\n",
      "decoder.layers.29.mlp.experts.experts.2.net.fc2.weight\n",
      "decoder.layers.29.mlp.experts.experts.2.net.fc2.bias\n",
      "decoder.layers.29.mlp.experts.experts.3.net.fc1.weight\n",
      "decoder.layers.29.mlp.experts.experts.3.net.fc1.bias\n",
      "decoder.layers.29.mlp.experts.experts.3.net.fc2.weight\n",
      "decoder.layers.29.mlp.experts.experts.3.net.fc2.bias\n",
      "decoder.layers.30.norm1.weight\n",
      "decoder.layers.30.norm1.bias\n",
      "decoder.layers.30.spatial_attn.qkv.weight\n",
      "decoder.layers.30.spatial_attn.proj.weight\n",
      "decoder.layers.30.spatial_attn.proj.bias\n",
      "decoder.layers.30.temporal_attn.qkv.weight\n",
      "decoder.layers.30.temporal_attn.proj.weight\n",
      "decoder.layers.30.temporal_attn.proj.bias\n",
      "decoder.layers.30.norm2.weight\n",
      "decoder.layers.30.norm2.bias\n",
      "decoder.layers.30.mlp.gate.threshold_train\n",
      "decoder.layers.30.mlp.gate.threshold_eval\n",
      "decoder.layers.30.mlp.gate.to_gates.weight\n",
      "decoder.layers.30.mlp.experts.experts.0.net.fc1.weight\n",
      "decoder.layers.30.mlp.experts.experts.0.net.fc1.bias\n",
      "decoder.layers.30.mlp.experts.experts.0.net.fc2.weight\n",
      "decoder.layers.30.mlp.experts.experts.0.net.fc2.bias\n",
      "decoder.layers.30.mlp.experts.experts.1.net.fc1.weight\n",
      "decoder.layers.30.mlp.experts.experts.1.net.fc1.bias\n",
      "decoder.layers.30.mlp.experts.experts.1.net.fc2.weight\n",
      "decoder.layers.30.mlp.experts.experts.1.net.fc2.bias\n",
      "decoder.layers.30.mlp.experts.experts.2.net.fc1.weight\n",
      "decoder.layers.30.mlp.experts.experts.2.net.fc1.bias\n",
      "decoder.layers.30.mlp.experts.experts.2.net.fc2.weight\n",
      "decoder.layers.30.mlp.experts.experts.2.net.fc2.bias\n",
      "decoder.layers.30.mlp.experts.experts.3.net.fc1.weight\n",
      "decoder.layers.30.mlp.experts.experts.3.net.fc1.bias\n",
      "decoder.layers.30.mlp.experts.experts.3.net.fc2.weight\n",
      "decoder.layers.30.mlp.experts.experts.3.net.fc2.bias\n",
      "decoder.layers.31.norm1.weight\n",
      "decoder.layers.31.norm1.bias\n",
      "decoder.layers.31.spatial_attn.qkv.weight\n",
      "decoder.layers.31.spatial_attn.proj.weight\n",
      "decoder.layers.31.spatial_attn.proj.bias\n",
      "decoder.layers.31.temporal_attn.qkv.weight\n",
      "decoder.layers.31.temporal_attn.proj.weight\n",
      "decoder.layers.31.temporal_attn.proj.bias\n",
      "decoder.layers.31.norm2.weight\n",
      "decoder.layers.31.norm2.bias\n",
      "decoder.layers.31.mlp.gate.threshold_train\n",
      "decoder.layers.31.mlp.gate.threshold_eval\n",
      "decoder.layers.31.mlp.gate.to_gates.weight\n",
      "decoder.layers.31.mlp.experts.experts.0.net.fc1.weight\n",
      "decoder.layers.31.mlp.experts.experts.0.net.fc1.bias\n",
      "decoder.layers.31.mlp.experts.experts.0.net.fc2.weight\n",
      "decoder.layers.31.mlp.experts.experts.0.net.fc2.bias\n",
      "decoder.layers.31.mlp.experts.experts.1.net.fc1.weight\n",
      "decoder.layers.31.mlp.experts.experts.1.net.fc1.bias\n",
      "decoder.layers.31.mlp.experts.experts.1.net.fc2.weight\n",
      "decoder.layers.31.mlp.experts.experts.1.net.fc2.bias\n",
      "decoder.layers.31.mlp.experts.experts.2.net.fc1.weight\n",
      "decoder.layers.31.mlp.experts.experts.2.net.fc1.bias\n",
      "decoder.layers.31.mlp.experts.experts.2.net.fc2.weight\n",
      "decoder.layers.31.mlp.experts.experts.2.net.fc2.bias\n",
      "decoder.layers.31.mlp.experts.experts.3.net.fc1.weight\n",
      "decoder.layers.31.mlp.experts.experts.3.net.fc1.bias\n",
      "decoder.layers.31.mlp.experts.experts.3.net.fc2.weight\n",
      "decoder.layers.31.mlp.experts.experts.3.net.fc2.bias\n",
      "token_embed.mask_token_embed\n",
      "token_embed.factored_embeds.0.weight\n",
      "token_embed.factored_embeds.1.weight\n",
      "out_x_proj.weight\n",
      "out_x_proj.bias\n"
     ]
    }
   ],
   "source": [
    "os.chdir('/pub0/qasim/1xgpt/1xgpt')\n",
    "from genie.st_mask_git import STMaskGIT\n",
    "import os \n",
    "import argparse\n",
    "import time\n",
    "import os\n",
    "import sys\n",
    "from collections import defaultdict\n",
    "from pathlib import Path\n",
    "import lpips\n",
    "import torch\n",
    "import transformers\n",
    "from einops import rearrange\n",
    "from torch.utils.data import DataLoader\n",
    "from tqdm import tqdm\n",
    "from transformers import default_data_collator\n",
    "sys.path.append(os.getcwd())\n",
    "from data import RawTokenDataset\n",
    "from visualize import decode_latents_wrapper\n",
    "from eval_utils import decode_tokens, compute_lpips, AvgMetric, compute_loss\n",
    "from genie.st_mask_git import STMaskGIT\n",
    "from genie.evaluate import GenieEvaluator\n",
    "from operator import itemgetter\n",
    "from copy import deepcopy\n",
    "\n",
    "pt_checkpoint = '/pub0/qasim/1xgpt/1xgpt/checkpoints/GENIE_35M'\n",
    "checkpoints = [\n",
    "    '/pub0/qasim/1xgpt/1xgpt/logs/train_0-10-21-14-24/step_270000',\n",
    "    '/pub0/qasim/1xgpt/1xgpt/logs/train_1-10-20-23-15/step_320000',\n",
    "    # '/pub0/qasim/1xgpt/1xgpt/logs/train_2-10-21-18-12/step_400000'\n",
    "]\n",
    "result_folder = '/pub0/qasim/1xgpt/1xgpt/checkpoints/TiesMerging'\n",
    "logs_folder = os.path.join(result_folder, 'merge_tests')\n",
    "os.makedirs(result_folder, exist_ok=True)\n",
    "os.makedirs(logs_folder, exist_ok=True)\n",
    "device = 'cuda:1'\n",
    "\n",
    "def save_checkpoint(model, save_path):\n",
    "    model.save_pretrained( save_path )\n",
    "\n",
    "ft_checks = []\n",
    "for i in range(len(checkpoints)):\n",
    "    ft_checks.append(STMaskGIT.from_pretrained(checkpoints[i]).state_dict())\n",
    "\n",
    "ptm_check = STMaskGIT.from_pretrained(pt_checkpoint).state_dict()\n",
    "\n",
    "\n",
    "# Removing the two keys from state dict when creating the task vector.\n",
    "# Basically these keys are not involved in the global operations like the computation of topk.\n",
    "remove_keys_startswith = [\n",
    "    # 'pos_embed_TSC',\n",
    "    # 'token_embed',\n",
    "    # 'out_x_proj'\n",
    "]\n",
    "remove_keys_endswith = [\n",
    "    # '.norm1.weight',\n",
    "    # '.norm1.bias',\n",
    "    # '.norm2.weight',\n",
    "    # '.norm2.bias',\n",
    "    # '.proj.weight',\n",
    "    # '.proj.bias',\n",
    "    # '.qkv.weight',\n",
    "    # '.fc1.weight',\n",
    "    # '.fc1.bias',\n",
    "    # '.fc2.weight',\n",
    "    # '.fc2.bias',\n",
    "]\n",
    "remove_keys = []\n",
    "for k in ptm_check.keys():\n",
    "    for l in remove_keys_startswith:\n",
    "        if k.startswith(l):\n",
    "            remove_keys.append(k)\n",
    "            break\n",
    "    for l in remove_keys_endswith:\n",
    "        # print(k, l, k.endswith(l))\n",
    "        if k.endswith(l):\n",
    "            remove_keys.append(k)\n",
    "            break\n",
    "\n",
    "# print(remove_keys)\n",
    "for k in remove_keys:\n",
    "    assert k in ptm_check\n",
    "    ptm_check.pop(k)\n",
    "    assert not (k in ptm_check)\n",
    "    for m in ft_checks:\n",
    "        m.pop(k)\n",
    "for k in ptm_check.keys():\n",
    "    print(k)"
   ]
  },
  {
   "cell_type": "code",
   "execution_count": 6,
   "metadata": {},
   "outputs": [],
   "source": [
    "class GenieEvaluatorCustom(GenieEvaluator):\n",
    "    def __init__(self, model, latent_h, latent_w, maskgit_steps, temperature, decode_latents, device):\n",
    "        # super().__init__()\n",
    "        self.model = model\n",
    "        self.model = self.model.to(device=device)\n",
    "        self.model.eval()\n",
    "        self.decode_latents = decode_latents\n",
    "        self.device = device\n",
    "        self.latent_h, self.latent_w = latent_h, latent_w\n",
    "        self.maskgit_steps = maskgit_steps\n",
    "        self.temperature = temperature\n",
    "\n",
    "@torch.no_grad()\n",
    "def evaluate(model, log_file, device):\n",
    "    transformers.set_seed(42)\n",
    "    val_data_dir = \"../data/val_v1.1\"\n",
    "    WINDOW_SIZE = 16\n",
    "    val_dataset = RawTokenDataset(val_data_dir, window_size=WINDOW_SIZE, stride=15, filter_overlaps=True)\n",
    "    latent_h = latent_w = val_dataset.metadata[\"s\"]\n",
    "    decode_latents = decode_latents_wrapper(device=device)\n",
    "    lpips_alex = lpips.LPIPS(net=\"alex\")  # Calculate LPIPS w/ AlexNet, which is the fastest model out of their options\n",
    "    maskgit_steps = 2\n",
    "    temperature = 0\n",
    "\n",
    "    dataloader = DataLoader(val_dataset, collate_fn=default_data_collator, batch_size=6)\n",
    "\n",
    "    evaluator = GenieEvaluatorCustom(model, latent_h, latent_w, maskgit_steps, temperature, decode_latents, device=device)\n",
    "    metrics = defaultdict(AvgMetric)\n",
    "\n",
    "    f = open(log_file, 'w')\n",
    "    for batch in tqdm(dataloader):\n",
    "        batch_size = batch[\"input_ids\"].size(0)\n",
    "        print(batch_size)\n",
    "        reshaped_input_ids = rearrange(batch[\"input_ids\"], \"b (t h w) -> b t h w\", \n",
    "            t=WINDOW_SIZE,\n",
    "            h=latent_h,\n",
    "            w=latent_w)\n",
    "\n",
    "        start_time = time.time()\n",
    "        samples, factored_logits = evaluator.predict_zframe_logits(batch[\"input_ids\"])\n",
    "        frames_per_batch = (WINDOW_SIZE - 1) * batch[\"input_ids\"].size(0)\n",
    "        metrics[\"gen_time\"].update((time.time() - start_time) / frames_per_batch, batch_size)\n",
    "\n",
    "        loss = compute_loss(batch[\"labels\"], factored_logits)\n",
    "\n",
    "        acc = (reshaped_input_ids[:, 1:].to(device) == samples).float().mean().item()\n",
    "\n",
    "        metrics[\"loss\"].update(loss, batch_size)\n",
    "        metrics[\"acc\"].update(acc, batch_size)\n",
    "\n",
    "        start_time = time.time()\n",
    "        pred_frames = evaluator.predict_next_frames(samples, device=device)\n",
    "        metrics[\"dec_time\"].update((time.time() - start_time) / frames_per_batch, batch_size)\n",
    "\n",
    "        decoded_gtruth = decode_tokens(reshaped_input_ids, decode_latents, device=device)\n",
    "        metrics[\"pred_lpips\"].update_list(compute_lpips(decoded_gtruth[:, 1:], pred_frames, lpips_alex))\n",
    "        \n",
    "    for key,val in metrics.items():\n",
    "        f.write(key + ': ' + str(val.mean()) + '\\n')\n",
    "    f.close()\n",
    "\n",
    "    return - metrics['loss'].mean()\n"
   ]
  },
  {
   "cell_type": "code",
   "execution_count": null,
   "metadata": {},
   "outputs": [],
   "source": []
  },
  {
   "cell_type": "code",
   "execution_count": 7,
   "metadata": {},
   "outputs": [
    {
     "name": "stdout",
     "output_type": "stream",
     "text": [
      "Flattening out Checkpoints\n"
     ]
    }
   ],
   "source": [
    "# check if all checkpoints have the same paramters.\n",
    "check_parameterNamesMatch(ft_checks + [ptm_check])\n",
    "\n",
    "print(f\"Flattening out Checkpoints\")\n",
    "flat_ft = torch.vstack(\n",
    "    [state_dict_to_vector(check, remove_keys) for check in ft_checks]\n",
    ")\n",
    "flat_ptm = state_dict_to_vector(ptm_check, remove_keys)\n",
    "\n",
    "# Creating Task vectors\n",
    "tv_flat_checks = flat_ft - flat_ptm\n",
    "\n",
    "# check if the vectorized state dicts can be converted back to the original state dicts\n",
    "# covnert back the flat task vectors to state dict and see if the original and converted sd's are equal\n",
    "assert check_state_dicts_equal(\n",
    "        vector_to_state_dict(flat_ptm, ptm_check, remove_keys), ptm_check\n",
    "    )\n",
    "assert all(\n",
    "    [\n",
    "        check_state_dicts_equal(\n",
    "            vector_to_state_dict(flat_ft[i], ptm_check, remove_keys), ft_checks[i]\n",
    "        )\n",
    "        for i in range(len(ft_checks))\n",
    "    ]\n",
    ")"
   ]
  },
  {
   "attachments": {},
   "cell_type": "markdown",
   "metadata": {},
   "source": [
    "#### Merge Utils"
   ]
  },
  {
   "cell_type": "code",
   "execution_count": 8,
   "metadata": {},
   "outputs": [],
   "source": [
    "## TIES MERGING UTILS\n",
    "\n",
    "def topk_values_mask(M, K=0.7, return_mask=False):\n",
    "    if K > 1:\n",
    "        K /= 100\n",
    "\n",
    "    original_shape = M.shape\n",
    "    if M.dim() == 1:\n",
    "        M = M.unsqueeze(0)\n",
    "\n",
    "    n, d = M.shape\n",
    "    k = int(d * K)\n",
    "    k = d - k  # Keep top k elements instead of bottom k elements\n",
    "\n",
    "    # Find the k-th smallest element by magnitude for each row\n",
    "    kth_values, _ = M.abs().kthvalue(k, dim=1, keepdim=True)\n",
    "    # Create a mask tensor with True for the top k elements in each row\n",
    "    mask = M.abs() >= kth_values\n",
    "    final_mask = mask.squeeze() if original_shape == M.squeeze().shape else mask\n",
    "\n",
    "    if return_mask:\n",
    "        return M * final_mask, final_mask.float().mean(dim=1), final_mask\n",
    "    return M * final_mask, final_mask.float().mean(dim=1)\n",
    "\n",
    "\n",
    "def resolve_zero_signs(sign_to_mult, method=\"majority\"):\n",
    "    majority_sign = torch.sign(sign_to_mult.sum())\n",
    "\n",
    "    if method == \"majority\":\n",
    "        sign_to_mult[sign_to_mult == 0] = majority_sign\n",
    "    elif method == \"minority\":\n",
    "        sign_to_mult[sign_to_mult == 0] = -1 * majority_sign\n",
    "    return sign_to_mult\n",
    "\n",
    "\n",
    "def resolve_sign(Tensor):\n",
    "    sign_to_mult = torch.sign(Tensor.sum(dim=0))\n",
    "    sign_to_mult = resolve_zero_signs(sign_to_mult, \"majority\")\n",
    "    return sign_to_mult\n",
    "\n",
    "\n",
    "def disjoint_merge(Tensor, merge_func, sign_to_mult):\n",
    "\n",
    "    merge_func = merge_func.split(\"-\")[-1]\n",
    "\n",
    "    # If sign is provided then we select the corresponding entries and aggregate.\n",
    "    if sign_to_mult is not None:\n",
    "        rows_to_keep = torch.where(\n",
    "            sign_to_mult.unsqueeze(0) > 0, Tensor > 0, Tensor < 0\n",
    "        )\n",
    "        selected_entries = Tensor * rows_to_keep\n",
    "    # Else we select all non-zero entries and aggregate.\n",
    "    else:\n",
    "        rows_to_keep = Tensor != 0\n",
    "        selected_entries = Tensor * rows_to_keep\n",
    "\n",
    "    if merge_func == \"mean\":\n",
    "        non_zero_counts = (selected_entries != 0).sum(dim=0).float()\n",
    "        disjoint_aggs = torch.sum(selected_entries, dim=0) / torch.clamp(\n",
    "            non_zero_counts, min=1\n",
    "        )\n",
    "    elif merge_func == \"sum\":\n",
    "        disjoint_aggs = torch.sum(selected_entries, dim=0)\n",
    "    elif merge_func == \"max\":\n",
    "        disjoint_aggs = selected_entries.abs().max(dim=0)[0]\n",
    "        disjoint_aggs *= sign_to_mult\n",
    "    else:\n",
    "        raise ValueError(f\"Merge method {merge_func} is not defined.\")\n",
    "\n",
    "    return disjoint_aggs\n",
    "\n",
    "\n",
    "def ties_merging(\n",
    "    flat_task_checks,\n",
    "    reset_thresh=None,\n",
    "    merge_func=\"\",\n",
    "):\n",
    "    all_checks = flat_task_checks.clone()\n",
    "    updated_checks, *_ = topk_values_mask(\n",
    "        all_checks, K=reset_thresh, return_mask=False\n",
    "    )\n",
    "    print(f\"RESOLVING SIGN\")\n",
    "    final_signs = resolve_sign(updated_checks)\n",
    "    assert final_signs is not None\n",
    "    \n",
    "    print(f\"Disjoint AGGREGATION: {merge_func}\")\n",
    "    merged_tv = disjoint_merge(updated_checks, merge_func, final_signs)\n",
    "    \n",
    "    return merged_tv\n",
    "\n"
   ]
  },
  {
   "attachments": {},
   "cell_type": "markdown",
   "metadata": {},
   "source": [
    "#### TIES Merging"
   ]
  },
  {
   "cell_type": "code",
   "execution_count": 9,
   "metadata": {},
   "outputs": [
    {
     "name": "stdout",
     "output_type": "stream",
     "text": [
      "RESOLVING SIGN\n",
      "Disjoint AGGREGATION: dis-mean\n"
     ]
    }
   ],
   "source": [
    "# TIES Merging example\n",
    "K = 20\n",
    "merge_func = \"dis-mean\"\n",
    "lamda = 1.0\n",
    "\n",
    "# return merged flat task vector\n",
    "merged_tv = ties_merging(\n",
    "    tv_flat_checks,\n",
    "    reset_thresh=K,\n",
    "    merge_func=merge_func,\n",
    ")\n",
    "\n",
    "# add back the PTM to the flat merged task vector\n",
    "merged_check = flat_ptm + lamda * merged_tv\n",
    "\n",
    "# convert the flat merged checkpoint to a state dict\n",
    "merged_state_dict = vector_to_state_dict(\n",
    "    merged_check, ptm_check, remove_keys=remove_keys\n",
    ")"
   ]
  },
  {
   "cell_type": "code",
   "execution_count": null,
   "metadata": {},
   "outputs": [],
   "source": []
  },
  {
   "cell_type": "code",
   "execution_count": 11,
   "metadata": {},
   "outputs": [
    {
     "name": "stdout",
     "output_type": "stream",
     "text": [
      "hidden_dim 256\n",
      "hidden_dim 256\n",
      "hidden_dim 256\n",
      "hidden_dim 256\n",
      "hidden_dim 256\n",
      "hidden_dim 256\n",
      "hidden_dim 256\n",
      "hidden_dim 256\n",
      "hidden_dim 256\n",
      "hidden_dim 256\n",
      "hidden_dim 256\n",
      "hidden_dim 256\n",
      "hidden_dim 256\n",
      "hidden_dim 256\n",
      "hidden_dim 256\n",
      "hidden_dim 256\n",
      "hidden_dim 256\n",
      "hidden_dim 256\n",
      "hidden_dim 256\n",
      "hidden_dim 256\n",
      "hidden_dim 256\n",
      "hidden_dim 256\n",
      "hidden_dim 256\n",
      "hidden_dim 256\n",
      "hidden_dim 256\n",
      "hidden_dim 256\n",
      "hidden_dim 256\n",
      "hidden_dim 256\n",
      "hidden_dim 256\n",
      "hidden_dim 256\n",
      "hidden_dim 256\n",
      "hidden_dim 256\n",
      "hidden_dim 256\n",
      "hidden_dim 256\n",
      "hidden_dim 256\n",
      "hidden_dim 256\n",
      "hidden_dim 256\n",
      "hidden_dim 256\n",
      "hidden_dim 256\n",
      "hidden_dim 256\n",
      "hidden_dim 256\n",
      "hidden_dim 256\n",
      "hidden_dim 256\n",
      "hidden_dim 256\n",
      "hidden_dim 256\n",
      "hidden_dim 256\n",
      "hidden_dim 256\n",
      "hidden_dim 256\n",
      "hidden_dim 256\n",
      "hidden_dim 256\n",
      "hidden_dim 256\n",
      "hidden_dim 256\n",
      "hidden_dim 256\n",
      "hidden_dim 256\n",
      "hidden_dim 256\n",
      "hidden_dim 256\n",
      "hidden_dim 256\n",
      "hidden_dim 256\n",
      "hidden_dim 256\n",
      "hidden_dim 256\n",
      "hidden_dim 256\n",
      "hidden_dim 256\n",
      "hidden_dim 256\n",
      "hidden_dim 256\n",
      "hidden_dim 256\n",
      "hidden_dim 256\n",
      "hidden_dim 256\n",
      "hidden_dim 256\n",
      "hidden_dim 256\n",
      "hidden_dim 256\n",
      "hidden_dim 256\n",
      "hidden_dim 256\n",
      "hidden_dim 256\n",
      "hidden_dim 256\n",
      "hidden_dim 256\n",
      "hidden_dim 256\n",
      "hidden_dim 256\n",
      "hidden_dim 256\n",
      "hidden_dim 256\n",
      "hidden_dim 256\n",
      "hidden_dim 256\n",
      "hidden_dim 256\n",
      "hidden_dim 256\n",
      "hidden_dim 256\n",
      "hidden_dim 256\n",
      "hidden_dim 256\n",
      "hidden_dim 256\n",
      "hidden_dim 256\n",
      "hidden_dim 256\n",
      "hidden_dim 256\n",
      "hidden_dim 256\n",
      "hidden_dim 256\n",
      "hidden_dim 256\n",
      "hidden_dim 256\n",
      "hidden_dim 256\n",
      "hidden_dim 256\n",
      "hidden_dim 256\n",
      "hidden_dim 256\n",
      "hidden_dim 256\n",
      "hidden_dim 256\n",
      "hidden_dim 256\n",
      "hidden_dim 256\n",
      "hidden_dim 256\n",
      "hidden_dim 256\n",
      "hidden_dim 256\n",
      "hidden_dim 256\n",
      "hidden_dim 256\n",
      "hidden_dim 256\n",
      "hidden_dim 256\n",
      "hidden_dim 256\n",
      "hidden_dim 256\n",
      "hidden_dim 256\n",
      "hidden_dim 256\n",
      "hidden_dim 256\n",
      "hidden_dim 256\n",
      "hidden_dim 256\n",
      "hidden_dim 256\n",
      "hidden_dim 256\n",
      "hidden_dim 256\n",
      "hidden_dim 256\n",
      "hidden_dim 256\n",
      "hidden_dim 256\n",
      "hidden_dim 256\n",
      "hidden_dim 256\n",
      "hidden_dim 256\n",
      "hidden_dim 256\n",
      "hidden_dim 256\n",
      "hidden_dim 256\n",
      "Loading weights from local directory\n",
      "loaded pretrained LPIPS loss from magvit2/modules/autoencoder/lpips/vgg.pth\n",
      "VQLPIPSWithDiscriminator running with hinge loss.\n",
      "Restored from ../data/magvit2.ckpt\n",
      "Setting up [LPIPS] perceptual loss: trunk [alex], v[0.1], spatial [off]\n",
      "Loading model from: /home/qasim/miniconda3/envs/1xgpt/lib/python3.10/site-packages/lpips/weights/v0.1/alex.pth\n"
     ]
    },
    {
     "name": "stderr",
     "output_type": "stream",
     "text": [
      "  0%|          | 0/41 [00:00<?, ?it/s]"
     ]
    },
    {
     "name": "stdout",
     "output_type": "stream",
     "text": [
      "6\n",
      "Generating frame 1\n"
     ]
    },
    {
     "name": "stderr",
     "output_type": "stream",
     "text": [
      "100%|██████████| 2/2 [00:00<00:00,  7.76it/s]\n"
     ]
    },
    {
     "name": "stdout",
     "output_type": "stream",
     "text": [
      "Generating frame 2\n"
     ]
    },
    {
     "name": "stderr",
     "output_type": "stream",
     "text": [
      "100%|██████████| 2/2 [00:00<00:00,  8.38it/s]\n"
     ]
    },
    {
     "name": "stdout",
     "output_type": "stream",
     "text": [
      "Generating frame 3\n"
     ]
    },
    {
     "name": "stderr",
     "output_type": "stream",
     "text": [
      "100%|██████████| 2/2 [00:00<00:00,  8.14it/s]\n"
     ]
    },
    {
     "name": "stdout",
     "output_type": "stream",
     "text": [
      "Generating frame 4\n"
     ]
    },
    {
     "name": "stderr",
     "output_type": "stream",
     "text": [
      "100%|██████████| 2/2 [00:00<00:00,  8.31it/s]\n"
     ]
    },
    {
     "name": "stdout",
     "output_type": "stream",
     "text": [
      "Generating frame 5\n"
     ]
    },
    {
     "name": "stderr",
     "output_type": "stream",
     "text": [
      "100%|██████████| 2/2 [00:00<00:00,  6.10it/s]\n"
     ]
    },
    {
     "name": "stdout",
     "output_type": "stream",
     "text": [
      "Generating frame 6\n"
     ]
    },
    {
     "name": "stderr",
     "output_type": "stream",
     "text": [
      "100%|██████████| 2/2 [00:00<00:00,  3.58it/s]\n"
     ]
    },
    {
     "name": "stdout",
     "output_type": "stream",
     "text": [
      "Generating frame 7\n"
     ]
    },
    {
     "name": "stderr",
     "output_type": "stream",
     "text": [
      "100%|██████████| 2/2 [00:00<00:00,  3.65it/s]\n"
     ]
    },
    {
     "name": "stdout",
     "output_type": "stream",
     "text": [
      "Generating frame 8\n"
     ]
    },
    {
     "name": "stderr",
     "output_type": "stream",
     "text": [
      "100%|██████████| 2/2 [00:00<00:00,  8.21it/s]\n"
     ]
    },
    {
     "name": "stdout",
     "output_type": "stream",
     "text": [
      "Generating frame 9\n"
     ]
    },
    {
     "name": "stderr",
     "output_type": "stream",
     "text": [
      "100%|██████████| 2/2 [00:00<00:00,  8.35it/s]\n"
     ]
    },
    {
     "name": "stdout",
     "output_type": "stream",
     "text": [
      "Generating frame 10\n"
     ]
    },
    {
     "name": "stderr",
     "output_type": "stream",
     "text": [
      "100%|██████████| 2/2 [00:00<00:00,  8.40it/s]\n"
     ]
    },
    {
     "name": "stdout",
     "output_type": "stream",
     "text": [
      "Generating frame 11\n"
     ]
    },
    {
     "name": "stderr",
     "output_type": "stream",
     "text": [
      "100%|██████████| 2/2 [00:00<00:00,  8.39it/s]\n"
     ]
    },
    {
     "name": "stdout",
     "output_type": "stream",
     "text": [
      "Generating frame 12\n"
     ]
    },
    {
     "name": "stderr",
     "output_type": "stream",
     "text": [
      "100%|██████████| 2/2 [00:00<00:00,  8.37it/s]\n"
     ]
    },
    {
     "name": "stdout",
     "output_type": "stream",
     "text": [
      "Generating frame 13\n"
     ]
    },
    {
     "name": "stderr",
     "output_type": "stream",
     "text": [
      "100%|██████████| 2/2 [00:00<00:00,  8.38it/s]\n"
     ]
    },
    {
     "name": "stdout",
     "output_type": "stream",
     "text": [
      "Generating frame 14\n"
     ]
    },
    {
     "name": "stderr",
     "output_type": "stream",
     "text": [
      "100%|██████████| 2/2 [00:00<00:00,  8.35it/s]\n"
     ]
    },
    {
     "name": "stdout",
     "output_type": "stream",
     "text": [
      "Generating frame 15\n"
     ]
    },
    {
     "name": "stderr",
     "output_type": "stream",
     "text": [
      "100%|██████████| 2/2 [00:00<00:00,  8.29it/s]\n",
      "  2%|▏         | 1/41 [00:10<07:10, 10.76s/it]"
     ]
    },
    {
     "name": "stdout",
     "output_type": "stream",
     "text": [
      "6\n",
      "Generating frame 1\n"
     ]
    },
    {
     "name": "stderr",
     "output_type": "stream",
     "text": [
      "100%|██████████| 2/2 [00:00<00:00,  8.33it/s]\n"
     ]
    },
    {
     "name": "stdout",
     "output_type": "stream",
     "text": [
      "Generating frame 2\n"
     ]
    },
    {
     "name": "stderr",
     "output_type": "stream",
     "text": [
      "100%|██████████| 2/2 [00:00<00:00,  8.27it/s]\n"
     ]
    },
    {
     "name": "stdout",
     "output_type": "stream",
     "text": [
      "Generating frame 3\n"
     ]
    },
    {
     "name": "stderr",
     "output_type": "stream",
     "text": [
      "100%|██████████| 2/2 [00:00<00:00,  8.36it/s]\n"
     ]
    },
    {
     "name": "stdout",
     "output_type": "stream",
     "text": [
      "Generating frame 4\n"
     ]
    },
    {
     "name": "stderr",
     "output_type": "stream",
     "text": [
      "100%|██████████| 2/2 [00:00<00:00,  8.36it/s]\n"
     ]
    },
    {
     "name": "stdout",
     "output_type": "stream",
     "text": [
      "Generating frame 5\n"
     ]
    },
    {
     "name": "stderr",
     "output_type": "stream",
     "text": [
      "100%|██████████| 2/2 [00:00<00:00,  8.34it/s]\n"
     ]
    },
    {
     "name": "stdout",
     "output_type": "stream",
     "text": [
      "Generating frame 6\n"
     ]
    },
    {
     "name": "stderr",
     "output_type": "stream",
     "text": [
      "100%|██████████| 2/2 [00:00<00:00,  8.33it/s]\n"
     ]
    },
    {
     "name": "stdout",
     "output_type": "stream",
     "text": [
      "Generating frame 7\n"
     ]
    },
    {
     "name": "stderr",
     "output_type": "stream",
     "text": [
      "100%|██████████| 2/2 [00:00<00:00,  8.37it/s]\n"
     ]
    },
    {
     "name": "stdout",
     "output_type": "stream",
     "text": [
      "Generating frame 8\n"
     ]
    },
    {
     "name": "stderr",
     "output_type": "stream",
     "text": [
      "100%|██████████| 2/2 [00:00<00:00,  8.33it/s]\n"
     ]
    },
    {
     "name": "stdout",
     "output_type": "stream",
     "text": [
      "Generating frame 9\n"
     ]
    },
    {
     "name": "stderr",
     "output_type": "stream",
     "text": [
      "100%|██████████| 2/2 [00:00<00:00,  8.34it/s]\n"
     ]
    },
    {
     "name": "stdout",
     "output_type": "stream",
     "text": [
      "Generating frame 10\n"
     ]
    },
    {
     "name": "stderr",
     "output_type": "stream",
     "text": [
      "100%|██████████| 2/2 [00:00<00:00,  8.27it/s]\n"
     ]
    },
    {
     "name": "stdout",
     "output_type": "stream",
     "text": [
      "Generating frame 11\n"
     ]
    },
    {
     "name": "stderr",
     "output_type": "stream",
     "text": [
      "100%|██████████| 2/2 [00:00<00:00,  8.30it/s]\n"
     ]
    },
    {
     "name": "stdout",
     "output_type": "stream",
     "text": [
      "Generating frame 12\n"
     ]
    },
    {
     "name": "stderr",
     "output_type": "stream",
     "text": [
      "100%|██████████| 2/2 [00:00<00:00,  3.59it/s]\n"
     ]
    },
    {
     "name": "stdout",
     "output_type": "stream",
     "text": [
      "Generating frame 13\n"
     ]
    },
    {
     "name": "stderr",
     "output_type": "stream",
     "text": [
      "100%|██████████| 2/2 [00:00<00:00,  3.59it/s]\n"
     ]
    },
    {
     "name": "stdout",
     "output_type": "stream",
     "text": [
      "Generating frame 14\n"
     ]
    },
    {
     "name": "stderr",
     "output_type": "stream",
     "text": [
      "100%|██████████| 2/2 [00:00<00:00,  4.89it/s]\n"
     ]
    },
    {
     "name": "stdout",
     "output_type": "stream",
     "text": [
      "Generating frame 15\n"
     ]
    },
    {
     "name": "stderr",
     "output_type": "stream",
     "text": [
      "100%|██████████| 2/2 [00:00<00:00,  8.20it/s]\n",
      "  5%|▍         | 2/41 [00:21<06:58, 10.73s/it]"
     ]
    },
    {
     "name": "stdout",
     "output_type": "stream",
     "text": [
      "6\n",
      "Generating frame 1\n"
     ]
    },
    {
     "name": "stderr",
     "output_type": "stream",
     "text": [
      "100%|██████████| 2/2 [00:00<00:00,  6.48it/s]\n"
     ]
    },
    {
     "name": "stdout",
     "output_type": "stream",
     "text": [
      "Generating frame 2\n"
     ]
    },
    {
     "name": "stderr",
     "output_type": "stream",
     "text": [
      "100%|██████████| 2/2 [00:00<00:00,  8.24it/s]\n"
     ]
    },
    {
     "name": "stdout",
     "output_type": "stream",
     "text": [
      "Generating frame 3\n"
     ]
    },
    {
     "name": "stderr",
     "output_type": "stream",
     "text": [
      "100%|██████████| 2/2 [00:00<00:00,  8.21it/s]\n"
     ]
    },
    {
     "name": "stdout",
     "output_type": "stream",
     "text": [
      "Generating frame 4\n"
     ]
    },
    {
     "name": "stderr",
     "output_type": "stream",
     "text": [
      "100%|██████████| 2/2 [00:00<00:00,  8.16it/s]\n"
     ]
    },
    {
     "name": "stdout",
     "output_type": "stream",
     "text": [
      "Generating frame 5\n"
     ]
    },
    {
     "name": "stderr",
     "output_type": "stream",
     "text": [
      "100%|██████████| 2/2 [00:00<00:00,  8.21it/s]\n"
     ]
    },
    {
     "name": "stdout",
     "output_type": "stream",
     "text": [
      "Generating frame 6\n"
     ]
    },
    {
     "name": "stderr",
     "output_type": "stream",
     "text": [
      "100%|██████████| 2/2 [00:00<00:00,  8.22it/s]\n"
     ]
    },
    {
     "name": "stdout",
     "output_type": "stream",
     "text": [
      "Generating frame 7\n"
     ]
    },
    {
     "name": "stderr",
     "output_type": "stream",
     "text": [
      "100%|██████████| 2/2 [00:00<00:00,  8.22it/s]\n"
     ]
    },
    {
     "name": "stdout",
     "output_type": "stream",
     "text": [
      "Generating frame 8\n"
     ]
    },
    {
     "name": "stderr",
     "output_type": "stream",
     "text": [
      "100%|██████████| 2/2 [00:00<00:00,  8.17it/s]\n"
     ]
    },
    {
     "name": "stdout",
     "output_type": "stream",
     "text": [
      "Generating frame 9\n"
     ]
    },
    {
     "name": "stderr",
     "output_type": "stream",
     "text": [
      "100%|██████████| 2/2 [00:00<00:00,  8.16it/s]\n"
     ]
    },
    {
     "name": "stdout",
     "output_type": "stream",
     "text": [
      "Generating frame 10\n"
     ]
    },
    {
     "name": "stderr",
     "output_type": "stream",
     "text": [
      "100%|██████████| 2/2 [00:00<00:00,  8.14it/s]\n"
     ]
    },
    {
     "name": "stdout",
     "output_type": "stream",
     "text": [
      "Generating frame 11\n"
     ]
    },
    {
     "name": "stderr",
     "output_type": "stream",
     "text": [
      "100%|██████████| 2/2 [00:00<00:00,  8.10it/s]\n"
     ]
    },
    {
     "name": "stdout",
     "output_type": "stream",
     "text": [
      "Generating frame 12\n"
     ]
    },
    {
     "name": "stderr",
     "output_type": "stream",
     "text": [
      "100%|██████████| 2/2 [00:00<00:00,  8.18it/s]\n"
     ]
    },
    {
     "name": "stdout",
     "output_type": "stream",
     "text": [
      "Generating frame 13\n"
     ]
    },
    {
     "name": "stderr",
     "output_type": "stream",
     "text": [
      "100%|██████████| 2/2 [00:00<00:00,  8.15it/s]\n"
     ]
    },
    {
     "name": "stdout",
     "output_type": "stream",
     "text": [
      "Generating frame 14\n"
     ]
    },
    {
     "name": "stderr",
     "output_type": "stream",
     "text": [
      "100%|██████████| 2/2 [00:00<00:00,  8.19it/s]\n"
     ]
    },
    {
     "name": "stdout",
     "output_type": "stream",
     "text": [
      "Generating frame 15\n"
     ]
    },
    {
     "name": "stderr",
     "output_type": "stream",
     "text": [
      "100%|██████████| 2/2 [00:00<00:00,  8.16it/s]\n",
      "  7%|▋         | 3/41 [00:30<06:25, 10.15s/it]"
     ]
    },
    {
     "name": "stdout",
     "output_type": "stream",
     "text": [
      "6\n",
      "Generating frame 1\n"
     ]
    },
    {
     "name": "stderr",
     "output_type": "stream",
     "text": [
      "100%|██████████| 2/2 [00:00<00:00,  8.17it/s]\n"
     ]
    },
    {
     "name": "stdout",
     "output_type": "stream",
     "text": [
      "Generating frame 2\n"
     ]
    },
    {
     "name": "stderr",
     "output_type": "stream",
     "text": [
      "100%|██████████| 2/2 [00:00<00:00,  8.20it/s]\n"
     ]
    },
    {
     "name": "stdout",
     "output_type": "stream",
     "text": [
      "Generating frame 3\n"
     ]
    },
    {
     "name": "stderr",
     "output_type": "stream",
     "text": [
      "100%|██████████| 2/2 [00:00<00:00,  8.16it/s]\n"
     ]
    },
    {
     "name": "stdout",
     "output_type": "stream",
     "text": [
      "Generating frame 4\n"
     ]
    },
    {
     "name": "stderr",
     "output_type": "stream",
     "text": [
      "100%|██████████| 2/2 [00:00<00:00,  8.09it/s]\n"
     ]
    },
    {
     "name": "stdout",
     "output_type": "stream",
     "text": [
      "Generating frame 5\n"
     ]
    },
    {
     "name": "stderr",
     "output_type": "stream",
     "text": [
      "100%|██████████| 2/2 [00:00<00:00,  8.21it/s]\n"
     ]
    },
    {
     "name": "stdout",
     "output_type": "stream",
     "text": [
      "Generating frame 6\n"
     ]
    },
    {
     "name": "stderr",
     "output_type": "stream",
     "text": [
      "100%|██████████| 2/2 [00:00<00:00,  8.07it/s]\n"
     ]
    },
    {
     "name": "stdout",
     "output_type": "stream",
     "text": [
      "Generating frame 7\n"
     ]
    },
    {
     "name": "stderr",
     "output_type": "stream",
     "text": [
      "100%|██████████| 2/2 [00:00<00:00,  8.18it/s]\n"
     ]
    },
    {
     "name": "stdout",
     "output_type": "stream",
     "text": [
      "Generating frame 8\n"
     ]
    },
    {
     "name": "stderr",
     "output_type": "stream",
     "text": [
      "100%|██████████| 2/2 [00:00<00:00,  8.19it/s]\n"
     ]
    },
    {
     "name": "stdout",
     "output_type": "stream",
     "text": [
      "Generating frame 9\n"
     ]
    },
    {
     "name": "stderr",
     "output_type": "stream",
     "text": [
      "100%|██████████| 2/2 [00:00<00:00,  8.12it/s]\n"
     ]
    },
    {
     "name": "stdout",
     "output_type": "stream",
     "text": [
      "Generating frame 10\n"
     ]
    },
    {
     "name": "stderr",
     "output_type": "stream",
     "text": [
      "100%|██████████| 2/2 [00:00<00:00,  8.15it/s]\n"
     ]
    },
    {
     "name": "stdout",
     "output_type": "stream",
     "text": [
      "Generating frame 11\n"
     ]
    },
    {
     "name": "stderr",
     "output_type": "stream",
     "text": [
      "100%|██████████| 2/2 [00:00<00:00,  8.18it/s]\n"
     ]
    },
    {
     "name": "stdout",
     "output_type": "stream",
     "text": [
      "Generating frame 12\n"
     ]
    },
    {
     "name": "stderr",
     "output_type": "stream",
     "text": [
      "100%|██████████| 2/2 [00:00<00:00,  8.15it/s]\n"
     ]
    },
    {
     "name": "stdout",
     "output_type": "stream",
     "text": [
      "Generating frame 13\n"
     ]
    },
    {
     "name": "stderr",
     "output_type": "stream",
     "text": [
      "100%|██████████| 2/2 [00:00<00:00,  8.21it/s]\n"
     ]
    },
    {
     "name": "stdout",
     "output_type": "stream",
     "text": [
      "Generating frame 14\n"
     ]
    },
    {
     "name": "stderr",
     "output_type": "stream",
     "text": [
      "100%|██████████| 2/2 [00:00<00:00,  8.15it/s]\n"
     ]
    },
    {
     "name": "stdout",
     "output_type": "stream",
     "text": [
      "Generating frame 15\n"
     ]
    },
    {
     "name": "stderr",
     "output_type": "stream",
     "text": [
      "100%|██████████| 2/2 [00:00<00:00,  8.12it/s]\n",
      " 10%|▉         | 4/41 [00:40<06:04,  9.85s/it]"
     ]
    },
    {
     "name": "stdout",
     "output_type": "stream",
     "text": [
      "6\n",
      "Generating frame 1\n"
     ]
    },
    {
     "name": "stderr",
     "output_type": "stream",
     "text": [
      "100%|██████████| 2/2 [00:00<00:00,  8.16it/s]\n"
     ]
    },
    {
     "name": "stdout",
     "output_type": "stream",
     "text": [
      "Generating frame 2\n"
     ]
    },
    {
     "name": "stderr",
     "output_type": "stream",
     "text": [
      "100%|██████████| 2/2 [00:00<00:00,  8.13it/s]\n"
     ]
    },
    {
     "name": "stdout",
     "output_type": "stream",
     "text": [
      "Generating frame 3\n"
     ]
    },
    {
     "name": "stderr",
     "output_type": "stream",
     "text": [
      "100%|██████████| 2/2 [00:00<00:00,  8.23it/s]\n"
     ]
    },
    {
     "name": "stdout",
     "output_type": "stream",
     "text": [
      "Generating frame 4\n"
     ]
    },
    {
     "name": "stderr",
     "output_type": "stream",
     "text": [
      "100%|██████████| 2/2 [00:00<00:00,  8.13it/s]\n"
     ]
    },
    {
     "name": "stdout",
     "output_type": "stream",
     "text": [
      "Generating frame 5\n"
     ]
    },
    {
     "name": "stderr",
     "output_type": "stream",
     "text": [
      "100%|██████████| 2/2 [00:00<00:00,  8.05it/s]\n"
     ]
    },
    {
     "name": "stdout",
     "output_type": "stream",
     "text": [
      "Generating frame 6\n"
     ]
    },
    {
     "name": "stderr",
     "output_type": "stream",
     "text": [
      "100%|██████████| 2/2 [00:00<00:00,  8.14it/s]\n"
     ]
    },
    {
     "name": "stdout",
     "output_type": "stream",
     "text": [
      "Generating frame 7\n"
     ]
    },
    {
     "name": "stderr",
     "output_type": "stream",
     "text": [
      "100%|██████████| 2/2 [00:00<00:00,  8.10it/s]\n"
     ]
    },
    {
     "name": "stdout",
     "output_type": "stream",
     "text": [
      "Generating frame 8\n"
     ]
    },
    {
     "name": "stderr",
     "output_type": "stream",
     "text": [
      "100%|██████████| 2/2 [00:00<00:00,  8.16it/s]\n"
     ]
    },
    {
     "name": "stdout",
     "output_type": "stream",
     "text": [
      "Generating frame 9\n"
     ]
    },
    {
     "name": "stderr",
     "output_type": "stream",
     "text": [
      "100%|██████████| 2/2 [00:00<00:00,  8.18it/s]\n"
     ]
    },
    {
     "name": "stdout",
     "output_type": "stream",
     "text": [
      "Generating frame 10\n"
     ]
    },
    {
     "name": "stderr",
     "output_type": "stream",
     "text": [
      "100%|██████████| 2/2 [00:00<00:00,  8.20it/s]\n"
     ]
    },
    {
     "name": "stdout",
     "output_type": "stream",
     "text": [
      "Generating frame 11\n"
     ]
    },
    {
     "name": "stderr",
     "output_type": "stream",
     "text": [
      "100%|██████████| 2/2 [00:00<00:00,  8.17it/s]\n"
     ]
    },
    {
     "name": "stdout",
     "output_type": "stream",
     "text": [
      "Generating frame 12\n"
     ]
    },
    {
     "name": "stderr",
     "output_type": "stream",
     "text": [
      "100%|██████████| 2/2 [00:00<00:00,  8.11it/s]\n"
     ]
    },
    {
     "name": "stdout",
     "output_type": "stream",
     "text": [
      "Generating frame 13\n"
     ]
    },
    {
     "name": "stderr",
     "output_type": "stream",
     "text": [
      "100%|██████████| 2/2 [00:00<00:00,  8.06it/s]\n"
     ]
    },
    {
     "name": "stdout",
     "output_type": "stream",
     "text": [
      "Generating frame 14\n"
     ]
    },
    {
     "name": "stderr",
     "output_type": "stream",
     "text": [
      "100%|██████████| 2/2 [00:00<00:00,  8.09it/s]\n"
     ]
    },
    {
     "name": "stdout",
     "output_type": "stream",
     "text": [
      "Generating frame 15\n"
     ]
    },
    {
     "name": "stderr",
     "output_type": "stream",
     "text": [
      "100%|██████████| 2/2 [00:00<00:00,  8.11it/s]\n",
      " 12%|█▏        | 5/41 [00:50<05:55,  9.88s/it]"
     ]
    },
    {
     "name": "stdout",
     "output_type": "stream",
     "text": [
      "6\n",
      "Generating frame 1\n"
     ]
    },
    {
     "name": "stderr",
     "output_type": "stream",
     "text": [
      "100%|██████████| 2/2 [00:00<00:00,  8.22it/s]\n"
     ]
    },
    {
     "name": "stdout",
     "output_type": "stream",
     "text": [
      "Generating frame 2\n"
     ]
    },
    {
     "name": "stderr",
     "output_type": "stream",
     "text": [
      "100%|██████████| 2/2 [00:00<00:00,  8.21it/s]\n"
     ]
    },
    {
     "name": "stdout",
     "output_type": "stream",
     "text": [
      "Generating frame 3\n"
     ]
    },
    {
     "name": "stderr",
     "output_type": "stream",
     "text": [
      "100%|██████████| 2/2 [00:00<00:00,  8.23it/s]\n"
     ]
    },
    {
     "name": "stdout",
     "output_type": "stream",
     "text": [
      "Generating frame 4\n"
     ]
    },
    {
     "name": "stderr",
     "output_type": "stream",
     "text": [
      "100%|██████████| 2/2 [00:00<00:00,  8.22it/s]\n"
     ]
    },
    {
     "name": "stdout",
     "output_type": "stream",
     "text": [
      "Generating frame 5\n"
     ]
    },
    {
     "name": "stderr",
     "output_type": "stream",
     "text": [
      "100%|██████████| 2/2 [00:00<00:00,  8.18it/s]\n"
     ]
    },
    {
     "name": "stdout",
     "output_type": "stream",
     "text": [
      "Generating frame 6\n"
     ]
    },
    {
     "name": "stderr",
     "output_type": "stream",
     "text": [
      "100%|██████████| 2/2 [00:00<00:00,  8.15it/s]\n"
     ]
    },
    {
     "name": "stdout",
     "output_type": "stream",
     "text": [
      "Generating frame 7\n"
     ]
    },
    {
     "name": "stderr",
     "output_type": "stream",
     "text": [
      "100%|██████████| 2/2 [00:00<00:00,  8.17it/s]\n"
     ]
    },
    {
     "name": "stdout",
     "output_type": "stream",
     "text": [
      "Generating frame 8\n"
     ]
    },
    {
     "name": "stderr",
     "output_type": "stream",
     "text": [
      "100%|██████████| 2/2 [00:00<00:00,  8.19it/s]\n"
     ]
    },
    {
     "name": "stdout",
     "output_type": "stream",
     "text": [
      "Generating frame 9\n"
     ]
    },
    {
     "name": "stderr",
     "output_type": "stream",
     "text": [
      "100%|██████████| 2/2 [00:00<00:00,  8.21it/s]\n"
     ]
    },
    {
     "name": "stdout",
     "output_type": "stream",
     "text": [
      "Generating frame 10\n"
     ]
    },
    {
     "name": "stderr",
     "output_type": "stream",
     "text": [
      "100%|██████████| 2/2 [00:00<00:00,  8.22it/s]\n"
     ]
    },
    {
     "name": "stdout",
     "output_type": "stream",
     "text": [
      "Generating frame 11\n"
     ]
    },
    {
     "name": "stderr",
     "output_type": "stream",
     "text": [
      "100%|██████████| 2/2 [00:00<00:00,  8.20it/s]\n"
     ]
    },
    {
     "name": "stdout",
     "output_type": "stream",
     "text": [
      "Generating frame 12\n"
     ]
    },
    {
     "name": "stderr",
     "output_type": "stream",
     "text": [
      "100%|██████████| 2/2 [00:00<00:00,  8.19it/s]\n"
     ]
    },
    {
     "name": "stdout",
     "output_type": "stream",
     "text": [
      "Generating frame 13\n"
     ]
    },
    {
     "name": "stderr",
     "output_type": "stream",
     "text": [
      "100%|██████████| 2/2 [00:00<00:00,  8.19it/s]\n"
     ]
    },
    {
     "name": "stdout",
     "output_type": "stream",
     "text": [
      "Generating frame 14\n"
     ]
    },
    {
     "name": "stderr",
     "output_type": "stream",
     "text": [
      "100%|██████████| 2/2 [00:00<00:00,  8.20it/s]\n"
     ]
    },
    {
     "name": "stdout",
     "output_type": "stream",
     "text": [
      "Generating frame 15\n"
     ]
    },
    {
     "name": "stderr",
     "output_type": "stream",
     "text": [
      "100%|██████████| 2/2 [00:00<00:00,  8.09it/s]\n",
      " 15%|█▍        | 6/41 [00:59<05:39,  9.70s/it]"
     ]
    },
    {
     "name": "stdout",
     "output_type": "stream",
     "text": [
      "6\n",
      "Generating frame 1\n"
     ]
    },
    {
     "name": "stderr",
     "output_type": "stream",
     "text": [
      "100%|██████████| 2/2 [00:00<00:00,  3.57it/s]\n"
     ]
    },
    {
     "name": "stdout",
     "output_type": "stream",
     "text": [
      "Generating frame 2\n"
     ]
    },
    {
     "name": "stderr",
     "output_type": "stream",
     "text": [
      "100%|██████████| 2/2 [00:00<00:00,  3.57it/s]\n"
     ]
    },
    {
     "name": "stdout",
     "output_type": "stream",
     "text": [
      "Generating frame 3\n"
     ]
    },
    {
     "name": "stderr",
     "output_type": "stream",
     "text": [
      "100%|██████████| 2/2 [00:00<00:00,  5.02it/s]\n"
     ]
    },
    {
     "name": "stdout",
     "output_type": "stream",
     "text": [
      "Generating frame 4\n"
     ]
    },
    {
     "name": "stderr",
     "output_type": "stream",
     "text": [
      "100%|██████████| 2/2 [00:00<00:00,  8.08it/s]\n"
     ]
    },
    {
     "name": "stdout",
     "output_type": "stream",
     "text": [
      "Generating frame 5\n"
     ]
    },
    {
     "name": "stderr",
     "output_type": "stream",
     "text": [
      "100%|██████████| 2/2 [00:00<00:00,  8.15it/s]\n"
     ]
    },
    {
     "name": "stdout",
     "output_type": "stream",
     "text": [
      "Generating frame 6\n"
     ]
    },
    {
     "name": "stderr",
     "output_type": "stream",
     "text": [
      "100%|██████████| 2/2 [00:00<00:00,  8.14it/s]\n"
     ]
    },
    {
     "name": "stdout",
     "output_type": "stream",
     "text": [
      "Generating frame 7\n"
     ]
    },
    {
     "name": "stderr",
     "output_type": "stream",
     "text": [
      "100%|██████████| 2/2 [00:00<00:00,  8.05it/s]\n"
     ]
    },
    {
     "name": "stdout",
     "output_type": "stream",
     "text": [
      "Generating frame 8\n"
     ]
    },
    {
     "name": "stderr",
     "output_type": "stream",
     "text": [
      "100%|██████████| 2/2 [00:00<00:00,  8.11it/s]\n"
     ]
    },
    {
     "name": "stdout",
     "output_type": "stream",
     "text": [
      "Generating frame 9\n"
     ]
    },
    {
     "name": "stderr",
     "output_type": "stream",
     "text": [
      "100%|██████████| 2/2 [00:00<00:00,  7.68it/s]\n"
     ]
    },
    {
     "name": "stdout",
     "output_type": "stream",
     "text": [
      "Generating frame 10\n"
     ]
    },
    {
     "name": "stderr",
     "output_type": "stream",
     "text": [
      "100%|██████████| 2/2 [00:00<00:00,  7.93it/s]\n"
     ]
    },
    {
     "name": "stdout",
     "output_type": "stream",
     "text": [
      "Generating frame 11\n"
     ]
    },
    {
     "name": "stderr",
     "output_type": "stream",
     "text": [
      "100%|██████████| 2/2 [00:00<00:00,  8.10it/s]\n"
     ]
    },
    {
     "name": "stdout",
     "output_type": "stream",
     "text": [
      "Generating frame 12\n"
     ]
    },
    {
     "name": "stderr",
     "output_type": "stream",
     "text": [
      "100%|██████████| 2/2 [00:00<00:00,  8.08it/s]\n"
     ]
    },
    {
     "name": "stdout",
     "output_type": "stream",
     "text": [
      "Generating frame 13\n"
     ]
    },
    {
     "name": "stderr",
     "output_type": "stream",
     "text": [
      "100%|██████████| 2/2 [00:00<00:00,  8.12it/s]\n"
     ]
    },
    {
     "name": "stdout",
     "output_type": "stream",
     "text": [
      "Generating frame 14\n"
     ]
    },
    {
     "name": "stderr",
     "output_type": "stream",
     "text": [
      "100%|██████████| 2/2 [00:00<00:00,  8.03it/s]\n"
     ]
    },
    {
     "name": "stdout",
     "output_type": "stream",
     "text": [
      "Generating frame 15\n"
     ]
    },
    {
     "name": "stderr",
     "output_type": "stream",
     "text": [
      "100%|██████████| 2/2 [00:00<00:00,  8.05it/s]\n",
      " 17%|█▋        | 7/41 [01:10<05:44, 10.12s/it]"
     ]
    },
    {
     "name": "stdout",
     "output_type": "stream",
     "text": [
      "6\n",
      "Generating frame 1\n"
     ]
    },
    {
     "name": "stderr",
     "output_type": "stream",
     "text": [
      "100%|██████████| 2/2 [00:00<00:00,  8.11it/s]\n"
     ]
    },
    {
     "name": "stdout",
     "output_type": "stream",
     "text": [
      "Generating frame 2\n"
     ]
    },
    {
     "name": "stderr",
     "output_type": "stream",
     "text": [
      "100%|██████████| 2/2 [00:00<00:00,  8.11it/s]\n"
     ]
    },
    {
     "name": "stdout",
     "output_type": "stream",
     "text": [
      "Generating frame 3\n"
     ]
    },
    {
     "name": "stderr",
     "output_type": "stream",
     "text": [
      "100%|██████████| 2/2 [00:00<00:00,  8.12it/s]\n"
     ]
    },
    {
     "name": "stdout",
     "output_type": "stream",
     "text": [
      "Generating frame 4\n"
     ]
    },
    {
     "name": "stderr",
     "output_type": "stream",
     "text": [
      "100%|██████████| 2/2 [00:00<00:00,  8.11it/s]\n"
     ]
    },
    {
     "name": "stdout",
     "output_type": "stream",
     "text": [
      "Generating frame 5\n"
     ]
    },
    {
     "name": "stderr",
     "output_type": "stream",
     "text": [
      "100%|██████████| 2/2 [00:00<00:00,  8.15it/s]\n"
     ]
    },
    {
     "name": "stdout",
     "output_type": "stream",
     "text": [
      "Generating frame 6\n"
     ]
    },
    {
     "name": "stderr",
     "output_type": "stream",
     "text": [
      "100%|██████████| 2/2 [00:00<00:00,  8.13it/s]\n"
     ]
    },
    {
     "name": "stdout",
     "output_type": "stream",
     "text": [
      "Generating frame 7\n"
     ]
    },
    {
     "name": "stderr",
     "output_type": "stream",
     "text": [
      "100%|██████████| 2/2 [00:00<00:00,  8.09it/s]\n"
     ]
    },
    {
     "name": "stdout",
     "output_type": "stream",
     "text": [
      "Generating frame 8\n"
     ]
    },
    {
     "name": "stderr",
     "output_type": "stream",
     "text": [
      "100%|██████████| 2/2 [00:00<00:00,  8.12it/s]\n"
     ]
    },
    {
     "name": "stdout",
     "output_type": "stream",
     "text": [
      "Generating frame 9\n"
     ]
    },
    {
     "name": "stderr",
     "output_type": "stream",
     "text": [
      "100%|██████████| 2/2 [00:00<00:00,  8.12it/s]\n"
     ]
    },
    {
     "name": "stdout",
     "output_type": "stream",
     "text": [
      "Generating frame 10\n"
     ]
    },
    {
     "name": "stderr",
     "output_type": "stream",
     "text": [
      "100%|██████████| 2/2 [00:00<00:00,  8.15it/s]\n"
     ]
    },
    {
     "name": "stdout",
     "output_type": "stream",
     "text": [
      "Generating frame 11\n"
     ]
    },
    {
     "name": "stderr",
     "output_type": "stream",
     "text": [
      "100%|██████████| 2/2 [00:00<00:00,  8.17it/s]\n"
     ]
    },
    {
     "name": "stdout",
     "output_type": "stream",
     "text": [
      "Generating frame 12\n"
     ]
    },
    {
     "name": "stderr",
     "output_type": "stream",
     "text": [
      "100%|██████████| 2/2 [00:00<00:00,  8.04it/s]\n"
     ]
    },
    {
     "name": "stdout",
     "output_type": "stream",
     "text": [
      "Generating frame 13\n"
     ]
    },
    {
     "name": "stderr",
     "output_type": "stream",
     "text": [
      "100%|██████████| 2/2 [00:00<00:00,  8.09it/s]\n"
     ]
    },
    {
     "name": "stdout",
     "output_type": "stream",
     "text": [
      "Generating frame 14\n"
     ]
    },
    {
     "name": "stderr",
     "output_type": "stream",
     "text": [
      "100%|██████████| 2/2 [00:00<00:00,  8.15it/s]\n"
     ]
    },
    {
     "name": "stdout",
     "output_type": "stream",
     "text": [
      "Generating frame 15\n"
     ]
    },
    {
     "name": "stderr",
     "output_type": "stream",
     "text": [
      "100%|██████████| 2/2 [00:00<00:00,  8.16it/s]\n",
      " 20%|█▉        | 8/41 [01:19<05:26,  9.89s/it]"
     ]
    },
    {
     "name": "stdout",
     "output_type": "stream",
     "text": [
      "6\n",
      "Generating frame 1\n"
     ]
    },
    {
     "name": "stderr",
     "output_type": "stream",
     "text": [
      "100%|██████████| 2/2 [00:00<00:00,  8.12it/s]\n"
     ]
    },
    {
     "name": "stdout",
     "output_type": "stream",
     "text": [
      "Generating frame 2\n"
     ]
    },
    {
     "name": "stderr",
     "output_type": "stream",
     "text": [
      "100%|██████████| 2/2 [00:00<00:00,  8.07it/s]\n"
     ]
    },
    {
     "name": "stdout",
     "output_type": "stream",
     "text": [
      "Generating frame 3\n"
     ]
    },
    {
     "name": "stderr",
     "output_type": "stream",
     "text": [
      "100%|██████████| 2/2 [00:00<00:00,  8.04it/s]\n"
     ]
    },
    {
     "name": "stdout",
     "output_type": "stream",
     "text": [
      "Generating frame 4\n"
     ]
    },
    {
     "name": "stderr",
     "output_type": "stream",
     "text": [
      "100%|██████████| 2/2 [00:00<00:00,  8.04it/s]\n"
     ]
    },
    {
     "name": "stdout",
     "output_type": "stream",
     "text": [
      "Generating frame 5\n"
     ]
    },
    {
     "name": "stderr",
     "output_type": "stream",
     "text": [
      "100%|██████████| 2/2 [00:00<00:00,  8.13it/s]\n"
     ]
    },
    {
     "name": "stdout",
     "output_type": "stream",
     "text": [
      "Generating frame 6\n"
     ]
    },
    {
     "name": "stderr",
     "output_type": "stream",
     "text": [
      "100%|██████████| 2/2 [00:00<00:00,  8.07it/s]\n"
     ]
    },
    {
     "name": "stdout",
     "output_type": "stream",
     "text": [
      "Generating frame 7\n"
     ]
    },
    {
     "name": "stderr",
     "output_type": "stream",
     "text": [
      "100%|██████████| 2/2 [00:00<00:00,  8.06it/s]\n"
     ]
    },
    {
     "name": "stdout",
     "output_type": "stream",
     "text": [
      "Generating frame 8\n"
     ]
    },
    {
     "name": "stderr",
     "output_type": "stream",
     "text": [
      "100%|██████████| 2/2 [00:00<00:00,  8.12it/s]\n"
     ]
    },
    {
     "name": "stdout",
     "output_type": "stream",
     "text": [
      "Generating frame 9\n"
     ]
    },
    {
     "name": "stderr",
     "output_type": "stream",
     "text": [
      "100%|██████████| 2/2 [00:00<00:00,  8.08it/s]\n"
     ]
    },
    {
     "name": "stdout",
     "output_type": "stream",
     "text": [
      "Generating frame 10\n"
     ]
    },
    {
     "name": "stderr",
     "output_type": "stream",
     "text": [
      "100%|██████████| 2/2 [00:00<00:00,  8.14it/s]\n"
     ]
    },
    {
     "name": "stdout",
     "output_type": "stream",
     "text": [
      "Generating frame 11\n"
     ]
    },
    {
     "name": "stderr",
     "output_type": "stream",
     "text": [
      "100%|██████████| 2/2 [00:00<00:00,  8.10it/s]\n"
     ]
    },
    {
     "name": "stdout",
     "output_type": "stream",
     "text": [
      "Generating frame 12\n"
     ]
    },
    {
     "name": "stderr",
     "output_type": "stream",
     "text": [
      "100%|██████████| 2/2 [00:00<00:00,  8.09it/s]\n"
     ]
    },
    {
     "name": "stdout",
     "output_type": "stream",
     "text": [
      "Generating frame 13\n"
     ]
    },
    {
     "name": "stderr",
     "output_type": "stream",
     "text": [
      "100%|██████████| 2/2 [00:00<00:00,  8.10it/s]\n"
     ]
    },
    {
     "name": "stdout",
     "output_type": "stream",
     "text": [
      "Generating frame 14\n"
     ]
    },
    {
     "name": "stderr",
     "output_type": "stream",
     "text": [
      "100%|██████████| 2/2 [00:00<00:00,  8.14it/s]\n"
     ]
    },
    {
     "name": "stdout",
     "output_type": "stream",
     "text": [
      "Generating frame 15\n"
     ]
    },
    {
     "name": "stderr",
     "output_type": "stream",
     "text": [
      "100%|██████████| 2/2 [00:00<00:00,  8.08it/s]\n",
      " 22%|██▏       | 9/41 [01:29<05:13,  9.80s/it]"
     ]
    },
    {
     "name": "stdout",
     "output_type": "stream",
     "text": [
      "6\n",
      "Generating frame 1\n"
     ]
    },
    {
     "name": "stderr",
     "output_type": "stream",
     "text": [
      "100%|██████████| 2/2 [00:00<00:00,  3.66it/s]\n"
     ]
    },
    {
     "name": "stdout",
     "output_type": "stream",
     "text": [
      "Generating frame 2\n"
     ]
    },
    {
     "name": "stderr",
     "output_type": "stream",
     "text": [
      "100%|██████████| 2/2 [00:00<00:00,  5.78it/s]\n"
     ]
    },
    {
     "name": "stdout",
     "output_type": "stream",
     "text": [
      "Generating frame 3\n"
     ]
    },
    {
     "name": "stderr",
     "output_type": "stream",
     "text": [
      "100%|██████████| 2/2 [00:00<00:00,  8.23it/s]\n"
     ]
    },
    {
     "name": "stdout",
     "output_type": "stream",
     "text": [
      "Generating frame 4\n"
     ]
    },
    {
     "name": "stderr",
     "output_type": "stream",
     "text": [
      "100%|██████████| 2/2 [00:00<00:00,  8.24it/s]\n"
     ]
    },
    {
     "name": "stdout",
     "output_type": "stream",
     "text": [
      "Generating frame 5\n"
     ]
    },
    {
     "name": "stderr",
     "output_type": "stream",
     "text": [
      "100%|██████████| 2/2 [00:00<00:00,  8.20it/s]\n"
     ]
    },
    {
     "name": "stdout",
     "output_type": "stream",
     "text": [
      "Generating frame 6\n"
     ]
    },
    {
     "name": "stderr",
     "output_type": "stream",
     "text": [
      "100%|██████████| 2/2 [00:00<00:00,  8.19it/s]\n"
     ]
    },
    {
     "name": "stdout",
     "output_type": "stream",
     "text": [
      "Generating frame 7\n"
     ]
    },
    {
     "name": "stderr",
     "output_type": "stream",
     "text": [
      "100%|██████████| 2/2 [00:00<00:00,  8.20it/s]\n"
     ]
    },
    {
     "name": "stdout",
     "output_type": "stream",
     "text": [
      "Generating frame 8\n"
     ]
    },
    {
     "name": "stderr",
     "output_type": "stream",
     "text": [
      "100%|██████████| 2/2 [00:00<00:00,  8.20it/s]\n"
     ]
    },
    {
     "name": "stdout",
     "output_type": "stream",
     "text": [
      "Generating frame 9\n"
     ]
    },
    {
     "name": "stderr",
     "output_type": "stream",
     "text": [
      "100%|██████████| 2/2 [00:00<00:00,  8.20it/s]\n"
     ]
    },
    {
     "name": "stdout",
     "output_type": "stream",
     "text": [
      "Generating frame 10\n"
     ]
    },
    {
     "name": "stderr",
     "output_type": "stream",
     "text": [
      "100%|██████████| 2/2 [00:00<00:00,  8.20it/s]\n"
     ]
    },
    {
     "name": "stdout",
     "output_type": "stream",
     "text": [
      "Generating frame 11\n"
     ]
    },
    {
     "name": "stderr",
     "output_type": "stream",
     "text": [
      "100%|██████████| 2/2 [00:00<00:00,  8.16it/s]\n"
     ]
    },
    {
     "name": "stdout",
     "output_type": "stream",
     "text": [
      "Generating frame 12\n"
     ]
    },
    {
     "name": "stderr",
     "output_type": "stream",
     "text": [
      "100%|██████████| 2/2 [00:00<00:00,  8.18it/s]\n"
     ]
    },
    {
     "name": "stdout",
     "output_type": "stream",
     "text": [
      "Generating frame 13\n"
     ]
    },
    {
     "name": "stderr",
     "output_type": "stream",
     "text": [
      "100%|██████████| 2/2 [00:00<00:00,  8.18it/s]\n"
     ]
    },
    {
     "name": "stdout",
     "output_type": "stream",
     "text": [
      "Generating frame 14\n"
     ]
    },
    {
     "name": "stderr",
     "output_type": "stream",
     "text": [
      "100%|██████████| 2/2 [00:00<00:00,  8.17it/s]\n"
     ]
    },
    {
     "name": "stdout",
     "output_type": "stream",
     "text": [
      "Generating frame 15\n"
     ]
    },
    {
     "name": "stderr",
     "output_type": "stream",
     "text": [
      "100%|██████████| 2/2 [00:00<00:00,  8.18it/s]\n",
      " 24%|██▍       | 10/41 [01:40<05:17, 10.25s/it]"
     ]
    },
    {
     "name": "stdout",
     "output_type": "stream",
     "text": [
      "6\n",
      "Generating frame 1\n"
     ]
    },
    {
     "name": "stderr",
     "output_type": "stream",
     "text": [
      "100%|██████████| 2/2 [00:00<00:00,  8.14it/s]\n"
     ]
    },
    {
     "name": "stdout",
     "output_type": "stream",
     "text": [
      "Generating frame 2\n"
     ]
    },
    {
     "name": "stderr",
     "output_type": "stream",
     "text": [
      "100%|██████████| 2/2 [00:00<00:00,  8.10it/s]\n"
     ]
    },
    {
     "name": "stdout",
     "output_type": "stream",
     "text": [
      "Generating frame 3\n"
     ]
    },
    {
     "name": "stderr",
     "output_type": "stream",
     "text": [
      "100%|██████████| 2/2 [00:00<00:00,  8.10it/s]\n"
     ]
    },
    {
     "name": "stdout",
     "output_type": "stream",
     "text": [
      "Generating frame 4\n"
     ]
    },
    {
     "name": "stderr",
     "output_type": "stream",
     "text": [
      "100%|██████████| 2/2 [00:00<00:00,  8.12it/s]\n"
     ]
    },
    {
     "name": "stdout",
     "output_type": "stream",
     "text": [
      "Generating frame 5\n"
     ]
    },
    {
     "name": "stderr",
     "output_type": "stream",
     "text": [
      "100%|██████████| 2/2 [00:00<00:00,  8.16it/s]\n"
     ]
    },
    {
     "name": "stdout",
     "output_type": "stream",
     "text": [
      "Generating frame 6\n"
     ]
    },
    {
     "name": "stderr",
     "output_type": "stream",
     "text": [
      "100%|██████████| 2/2 [00:00<00:00,  8.12it/s]\n"
     ]
    },
    {
     "name": "stdout",
     "output_type": "stream",
     "text": [
      "Generating frame 7\n"
     ]
    },
    {
     "name": "stderr",
     "output_type": "stream",
     "text": [
      "100%|██████████| 2/2 [00:00<00:00,  8.08it/s]\n"
     ]
    },
    {
     "name": "stdout",
     "output_type": "stream",
     "text": [
      "Generating frame 8\n"
     ]
    },
    {
     "name": "stderr",
     "output_type": "stream",
     "text": [
      "100%|██████████| 2/2 [00:00<00:00,  8.11it/s]\n"
     ]
    },
    {
     "name": "stdout",
     "output_type": "stream",
     "text": [
      "Generating frame 9\n"
     ]
    },
    {
     "name": "stderr",
     "output_type": "stream",
     "text": [
      "100%|██████████| 2/2 [00:00<00:00,  8.03it/s]\n"
     ]
    },
    {
     "name": "stdout",
     "output_type": "stream",
     "text": [
      "Generating frame 10\n"
     ]
    },
    {
     "name": "stderr",
     "output_type": "stream",
     "text": [
      "100%|██████████| 2/2 [00:00<00:00,  8.04it/s]\n"
     ]
    },
    {
     "name": "stdout",
     "output_type": "stream",
     "text": [
      "Generating frame 11\n"
     ]
    },
    {
     "name": "stderr",
     "output_type": "stream",
     "text": [
      "100%|██████████| 2/2 [00:00<00:00,  7.13it/s]\n"
     ]
    },
    {
     "name": "stdout",
     "output_type": "stream",
     "text": [
      "Generating frame 12\n"
     ]
    },
    {
     "name": "stderr",
     "output_type": "stream",
     "text": [
      "100%|██████████| 2/2 [00:00<00:00,  8.01it/s]\n"
     ]
    },
    {
     "name": "stdout",
     "output_type": "stream",
     "text": [
      "Generating frame 13\n"
     ]
    },
    {
     "name": "stderr",
     "output_type": "stream",
     "text": [
      "100%|██████████| 2/2 [00:00<00:00,  8.05it/s]\n"
     ]
    },
    {
     "name": "stdout",
     "output_type": "stream",
     "text": [
      "Generating frame 14\n"
     ]
    },
    {
     "name": "stderr",
     "output_type": "stream",
     "text": [
      "100%|██████████| 2/2 [00:00<00:00,  8.08it/s]\n"
     ]
    },
    {
     "name": "stdout",
     "output_type": "stream",
     "text": [
      "Generating frame 15\n"
     ]
    },
    {
     "name": "stderr",
     "output_type": "stream",
     "text": [
      "100%|██████████| 2/2 [00:00<00:00,  8.17it/s]\n",
      " 27%|██▋       | 11/41 [01:50<05:00, 10.02s/it]"
     ]
    },
    {
     "name": "stdout",
     "output_type": "stream",
     "text": [
      "6\n",
      "Generating frame 1\n"
     ]
    },
    {
     "name": "stderr",
     "output_type": "stream",
     "text": [
      "100%|██████████| 2/2 [00:00<00:00,  8.16it/s]\n"
     ]
    },
    {
     "name": "stdout",
     "output_type": "stream",
     "text": [
      "Generating frame 2\n"
     ]
    },
    {
     "name": "stderr",
     "output_type": "stream",
     "text": [
      "100%|██████████| 2/2 [00:00<00:00,  8.18it/s]\n"
     ]
    },
    {
     "name": "stdout",
     "output_type": "stream",
     "text": [
      "Generating frame 3\n"
     ]
    },
    {
     "name": "stderr",
     "output_type": "stream",
     "text": [
      "100%|██████████| 2/2 [00:00<00:00,  8.14it/s]\n"
     ]
    },
    {
     "name": "stdout",
     "output_type": "stream",
     "text": [
      "Generating frame 4\n"
     ]
    },
    {
     "name": "stderr",
     "output_type": "stream",
     "text": [
      "100%|██████████| 2/2 [00:00<00:00,  8.09it/s]\n"
     ]
    },
    {
     "name": "stdout",
     "output_type": "stream",
     "text": [
      "Generating frame 5\n"
     ]
    },
    {
     "name": "stderr",
     "output_type": "stream",
     "text": [
      "100%|██████████| 2/2 [00:00<00:00,  8.11it/s]\n"
     ]
    },
    {
     "name": "stdout",
     "output_type": "stream",
     "text": [
      "Generating frame 6\n"
     ]
    },
    {
     "name": "stderr",
     "output_type": "stream",
     "text": [
      "100%|██████████| 2/2 [00:00<00:00,  8.00it/s]\n"
     ]
    },
    {
     "name": "stdout",
     "output_type": "stream",
     "text": [
      "Generating frame 7\n"
     ]
    },
    {
     "name": "stderr",
     "output_type": "stream",
     "text": [
      "100%|██████████| 2/2 [00:00<00:00,  8.00it/s]\n"
     ]
    },
    {
     "name": "stdout",
     "output_type": "stream",
     "text": [
      "Generating frame 8\n"
     ]
    },
    {
     "name": "stderr",
     "output_type": "stream",
     "text": [
      "100%|██████████| 2/2 [00:00<00:00,  8.17it/s]\n"
     ]
    },
    {
     "name": "stdout",
     "output_type": "stream",
     "text": [
      "Generating frame 9\n"
     ]
    },
    {
     "name": "stderr",
     "output_type": "stream",
     "text": [
      "100%|██████████| 2/2 [00:00<00:00,  8.09it/s]\n"
     ]
    },
    {
     "name": "stdout",
     "output_type": "stream",
     "text": [
      "Generating frame 10\n"
     ]
    },
    {
     "name": "stderr",
     "output_type": "stream",
     "text": [
      "100%|██████████| 2/2 [00:00<00:00,  8.05it/s]\n"
     ]
    },
    {
     "name": "stdout",
     "output_type": "stream",
     "text": [
      "Generating frame 11\n"
     ]
    },
    {
     "name": "stderr",
     "output_type": "stream",
     "text": [
      "100%|██████████| 2/2 [00:00<00:00,  8.10it/s]\n"
     ]
    },
    {
     "name": "stdout",
     "output_type": "stream",
     "text": [
      "Generating frame 12\n"
     ]
    },
    {
     "name": "stderr",
     "output_type": "stream",
     "text": [
      "100%|██████████| 2/2 [00:00<00:00,  8.08it/s]\n"
     ]
    },
    {
     "name": "stdout",
     "output_type": "stream",
     "text": [
      "Generating frame 13\n"
     ]
    },
    {
     "name": "stderr",
     "output_type": "stream",
     "text": [
      "100%|██████████| 2/2 [00:00<00:00,  8.00it/s]\n"
     ]
    },
    {
     "name": "stdout",
     "output_type": "stream",
     "text": [
      "Generating frame 14\n"
     ]
    },
    {
     "name": "stderr",
     "output_type": "stream",
     "text": [
      "100%|██████████| 2/2 [00:00<00:00,  8.09it/s]\n"
     ]
    },
    {
     "name": "stdout",
     "output_type": "stream",
     "text": [
      "Generating frame 15\n"
     ]
    },
    {
     "name": "stderr",
     "output_type": "stream",
     "text": [
      "100%|██████████| 2/2 [00:00<00:00,  8.11it/s]\n",
      " 29%|██▉       | 12/41 [01:59<04:45,  9.83s/it]"
     ]
    },
    {
     "name": "stdout",
     "output_type": "stream",
     "text": [
      "6\n",
      "Generating frame 1\n"
     ]
    },
    {
     "name": "stderr",
     "output_type": "stream",
     "text": [
      "100%|██████████| 2/2 [00:00<00:00,  8.12it/s]\n"
     ]
    },
    {
     "name": "stdout",
     "output_type": "stream",
     "text": [
      "Generating frame 2\n"
     ]
    },
    {
     "name": "stderr",
     "output_type": "stream",
     "text": [
      "100%|██████████| 2/2 [00:00<00:00,  8.14it/s]\n"
     ]
    },
    {
     "name": "stdout",
     "output_type": "stream",
     "text": [
      "Generating frame 3\n"
     ]
    },
    {
     "name": "stderr",
     "output_type": "stream",
     "text": [
      "100%|██████████| 2/2 [00:00<00:00,  8.12it/s]\n"
     ]
    },
    {
     "name": "stdout",
     "output_type": "stream",
     "text": [
      "Generating frame 4\n"
     ]
    },
    {
     "name": "stderr",
     "output_type": "stream",
     "text": [
      "100%|██████████| 2/2 [00:00<00:00,  8.15it/s]\n"
     ]
    },
    {
     "name": "stdout",
     "output_type": "stream",
     "text": [
      "Generating frame 5\n"
     ]
    },
    {
     "name": "stderr",
     "output_type": "stream",
     "text": [
      "100%|██████████| 2/2 [00:00<00:00,  8.13it/s]\n"
     ]
    },
    {
     "name": "stdout",
     "output_type": "stream",
     "text": [
      "Generating frame 6\n"
     ]
    },
    {
     "name": "stderr",
     "output_type": "stream",
     "text": [
      "100%|██████████| 2/2 [00:00<00:00,  8.11it/s]\n"
     ]
    },
    {
     "name": "stdout",
     "output_type": "stream",
     "text": [
      "Generating frame 7\n"
     ]
    },
    {
     "name": "stderr",
     "output_type": "stream",
     "text": [
      "100%|██████████| 2/2 [00:00<00:00,  8.11it/s]\n"
     ]
    },
    {
     "name": "stdout",
     "output_type": "stream",
     "text": [
      "Generating frame 8\n"
     ]
    },
    {
     "name": "stderr",
     "output_type": "stream",
     "text": [
      "100%|██████████| 2/2 [00:00<00:00,  8.10it/s]\n"
     ]
    },
    {
     "name": "stdout",
     "output_type": "stream",
     "text": [
      "Generating frame 9\n"
     ]
    },
    {
     "name": "stderr",
     "output_type": "stream",
     "text": [
      "100%|██████████| 2/2 [00:00<00:00,  8.08it/s]\n"
     ]
    },
    {
     "name": "stdout",
     "output_type": "stream",
     "text": [
      "Generating frame 10\n"
     ]
    },
    {
     "name": "stderr",
     "output_type": "stream",
     "text": [
      "100%|██████████| 2/2 [00:00<00:00,  8.11it/s]\n"
     ]
    },
    {
     "name": "stdout",
     "output_type": "stream",
     "text": [
      "Generating frame 11\n"
     ]
    },
    {
     "name": "stderr",
     "output_type": "stream",
     "text": [
      "100%|██████████| 2/2 [00:00<00:00,  8.15it/s]\n"
     ]
    },
    {
     "name": "stdout",
     "output_type": "stream",
     "text": [
      "Generating frame 12\n"
     ]
    },
    {
     "name": "stderr",
     "output_type": "stream",
     "text": [
      "100%|██████████| 2/2 [00:00<00:00,  8.04it/s]\n"
     ]
    },
    {
     "name": "stdout",
     "output_type": "stream",
     "text": [
      "Generating frame 13\n"
     ]
    },
    {
     "name": "stderr",
     "output_type": "stream",
     "text": [
      "100%|██████████| 2/2 [00:00<00:00,  8.10it/s]\n"
     ]
    },
    {
     "name": "stdout",
     "output_type": "stream",
     "text": [
      "Generating frame 14\n"
     ]
    },
    {
     "name": "stderr",
     "output_type": "stream",
     "text": [
      "100%|██████████| 2/2 [00:00<00:00,  8.04it/s]\n"
     ]
    },
    {
     "name": "stdout",
     "output_type": "stream",
     "text": [
      "Generating frame 15\n"
     ]
    },
    {
     "name": "stderr",
     "output_type": "stream",
     "text": [
      "100%|██████████| 2/2 [00:00<00:00,  8.09it/s]\n",
      " 32%|███▏      | 13/41 [02:09<04:37,  9.90s/it]"
     ]
    },
    {
     "name": "stdout",
     "output_type": "stream",
     "text": [
      "6\n",
      "Generating frame 1\n"
     ]
    },
    {
     "name": "stderr",
     "output_type": "stream",
     "text": [
      "100%|██████████| 2/2 [00:00<00:00,  8.10it/s]\n"
     ]
    },
    {
     "name": "stdout",
     "output_type": "stream",
     "text": [
      "Generating frame 2\n"
     ]
    },
    {
     "name": "stderr",
     "output_type": "stream",
     "text": [
      "100%|██████████| 2/2 [00:00<00:00,  8.08it/s]\n"
     ]
    },
    {
     "name": "stdout",
     "output_type": "stream",
     "text": [
      "Generating frame 3\n"
     ]
    },
    {
     "name": "stderr",
     "output_type": "stream",
     "text": [
      "100%|██████████| 2/2 [00:00<00:00,  8.18it/s]\n"
     ]
    },
    {
     "name": "stdout",
     "output_type": "stream",
     "text": [
      "Generating frame 4\n"
     ]
    },
    {
     "name": "stderr",
     "output_type": "stream",
     "text": [
      "100%|██████████| 2/2 [00:00<00:00,  8.12it/s]\n"
     ]
    },
    {
     "name": "stdout",
     "output_type": "stream",
     "text": [
      "Generating frame 5\n"
     ]
    },
    {
     "name": "stderr",
     "output_type": "stream",
     "text": [
      "100%|██████████| 2/2 [00:00<00:00,  8.10it/s]\n"
     ]
    },
    {
     "name": "stdout",
     "output_type": "stream",
     "text": [
      "Generating frame 6\n"
     ]
    },
    {
     "name": "stderr",
     "output_type": "stream",
     "text": [
      "100%|██████████| 2/2 [00:00<00:00,  8.11it/s]\n"
     ]
    },
    {
     "name": "stdout",
     "output_type": "stream",
     "text": [
      "Generating frame 7\n"
     ]
    },
    {
     "name": "stderr",
     "output_type": "stream",
     "text": [
      "100%|██████████| 2/2 [00:00<00:00,  8.09it/s]\n"
     ]
    },
    {
     "name": "stdout",
     "output_type": "stream",
     "text": [
      "Generating frame 8\n"
     ]
    },
    {
     "name": "stderr",
     "output_type": "stream",
     "text": [
      "100%|██████████| 2/2 [00:00<00:00,  8.14it/s]\n"
     ]
    },
    {
     "name": "stdout",
     "output_type": "stream",
     "text": [
      "Generating frame 9\n"
     ]
    },
    {
     "name": "stderr",
     "output_type": "stream",
     "text": [
      "100%|██████████| 2/2 [00:00<00:00,  8.11it/s]\n"
     ]
    },
    {
     "name": "stdout",
     "output_type": "stream",
     "text": [
      "Generating frame 10\n"
     ]
    },
    {
     "name": "stderr",
     "output_type": "stream",
     "text": [
      "100%|██████████| 2/2 [00:00<00:00,  8.07it/s]\n"
     ]
    },
    {
     "name": "stdout",
     "output_type": "stream",
     "text": [
      "Generating frame 11\n"
     ]
    },
    {
     "name": "stderr",
     "output_type": "stream",
     "text": [
      "100%|██████████| 2/2 [00:00<00:00,  8.01it/s]\n"
     ]
    },
    {
     "name": "stdout",
     "output_type": "stream",
     "text": [
      "Generating frame 12\n"
     ]
    },
    {
     "name": "stderr",
     "output_type": "stream",
     "text": [
      "100%|██████████| 2/2 [00:00<00:00,  8.05it/s]\n"
     ]
    },
    {
     "name": "stdout",
     "output_type": "stream",
     "text": [
      "Generating frame 13\n"
     ]
    },
    {
     "name": "stderr",
     "output_type": "stream",
     "text": [
      "100%|██████████| 2/2 [00:00<00:00,  7.77it/s]\n"
     ]
    },
    {
     "name": "stdout",
     "output_type": "stream",
     "text": [
      "Generating frame 14\n"
     ]
    },
    {
     "name": "stderr",
     "output_type": "stream",
     "text": [
      "100%|██████████| 2/2 [00:00<00:00,  8.07it/s]\n"
     ]
    },
    {
     "name": "stdout",
     "output_type": "stream",
     "text": [
      "Generating frame 15\n"
     ]
    },
    {
     "name": "stderr",
     "output_type": "stream",
     "text": [
      "100%|██████████| 2/2 [00:00<00:00,  8.10it/s]\n",
      " 34%|███▍      | 14/41 [02:19<04:23,  9.77s/it]"
     ]
    },
    {
     "name": "stdout",
     "output_type": "stream",
     "text": [
      "6\n",
      "Generating frame 1\n"
     ]
    },
    {
     "name": "stderr",
     "output_type": "stream",
     "text": [
      "100%|██████████| 2/2 [00:00<00:00,  8.08it/s]\n"
     ]
    },
    {
     "name": "stdout",
     "output_type": "stream",
     "text": [
      "Generating frame 2\n"
     ]
    },
    {
     "name": "stderr",
     "output_type": "stream",
     "text": [
      "100%|██████████| 2/2 [00:00<00:00,  8.16it/s]\n"
     ]
    },
    {
     "name": "stdout",
     "output_type": "stream",
     "text": [
      "Generating frame 3\n"
     ]
    },
    {
     "name": "stderr",
     "output_type": "stream",
     "text": [
      "100%|██████████| 2/2 [00:00<00:00,  8.06it/s]\n"
     ]
    },
    {
     "name": "stdout",
     "output_type": "stream",
     "text": [
      "Generating frame 4\n"
     ]
    },
    {
     "name": "stderr",
     "output_type": "stream",
     "text": [
      "100%|██████████| 2/2 [00:00<00:00,  8.10it/s]\n"
     ]
    },
    {
     "name": "stdout",
     "output_type": "stream",
     "text": [
      "Generating frame 5\n"
     ]
    },
    {
     "name": "stderr",
     "output_type": "stream",
     "text": [
      "100%|██████████| 2/2 [00:00<00:00,  8.15it/s]\n"
     ]
    },
    {
     "name": "stdout",
     "output_type": "stream",
     "text": [
      "Generating frame 6\n"
     ]
    },
    {
     "name": "stderr",
     "output_type": "stream",
     "text": [
      "100%|██████████| 2/2 [00:00<00:00,  8.12it/s]\n"
     ]
    },
    {
     "name": "stdout",
     "output_type": "stream",
     "text": [
      "Generating frame 7\n"
     ]
    },
    {
     "name": "stderr",
     "output_type": "stream",
     "text": [
      "100%|██████████| 2/2 [00:00<00:00,  8.15it/s]\n"
     ]
    },
    {
     "name": "stdout",
     "output_type": "stream",
     "text": [
      "Generating frame 8\n"
     ]
    },
    {
     "name": "stderr",
     "output_type": "stream",
     "text": [
      "100%|██████████| 2/2 [00:00<00:00,  8.10it/s]\n"
     ]
    },
    {
     "name": "stdout",
     "output_type": "stream",
     "text": [
      "Generating frame 9\n"
     ]
    },
    {
     "name": "stderr",
     "output_type": "stream",
     "text": [
      "100%|██████████| 2/2 [00:00<00:00,  8.09it/s]\n"
     ]
    },
    {
     "name": "stdout",
     "output_type": "stream",
     "text": [
      "Generating frame 10\n"
     ]
    },
    {
     "name": "stderr",
     "output_type": "stream",
     "text": [
      "100%|██████████| 2/2 [00:00<00:00,  8.19it/s]\n"
     ]
    },
    {
     "name": "stdout",
     "output_type": "stream",
     "text": [
      "Generating frame 11\n"
     ]
    },
    {
     "name": "stderr",
     "output_type": "stream",
     "text": [
      "100%|██████████| 2/2 [00:00<00:00,  8.16it/s]\n"
     ]
    },
    {
     "name": "stdout",
     "output_type": "stream",
     "text": [
      "Generating frame 12\n"
     ]
    },
    {
     "name": "stderr",
     "output_type": "stream",
     "text": [
      "100%|██████████| 2/2 [00:00<00:00,  8.17it/s]\n"
     ]
    },
    {
     "name": "stdout",
     "output_type": "stream",
     "text": [
      "Generating frame 13\n"
     ]
    },
    {
     "name": "stderr",
     "output_type": "stream",
     "text": [
      "100%|██████████| 2/2 [00:00<00:00,  8.17it/s]\n"
     ]
    },
    {
     "name": "stdout",
     "output_type": "stream",
     "text": [
      "Generating frame 14\n"
     ]
    },
    {
     "name": "stderr",
     "output_type": "stream",
     "text": [
      "100%|██████████| 2/2 [00:00<00:00,  8.17it/s]\n"
     ]
    },
    {
     "name": "stdout",
     "output_type": "stream",
     "text": [
      "Generating frame 15\n"
     ]
    },
    {
     "name": "stderr",
     "output_type": "stream",
     "text": [
      "100%|██████████| 2/2 [00:00<00:00,  8.19it/s]\n",
      " 37%|███▋      | 15/41 [02:28<04:10,  9.63s/it]"
     ]
    },
    {
     "name": "stdout",
     "output_type": "stream",
     "text": [
      "6\n",
      "Generating frame 1\n"
     ]
    },
    {
     "name": "stderr",
     "output_type": "stream",
     "text": [
      "100%|██████████| 2/2 [00:00<00:00,  8.21it/s]\n"
     ]
    },
    {
     "name": "stdout",
     "output_type": "stream",
     "text": [
      "Generating frame 2\n"
     ]
    },
    {
     "name": "stderr",
     "output_type": "stream",
     "text": [
      "100%|██████████| 2/2 [00:00<00:00,  3.54it/s]\n"
     ]
    },
    {
     "name": "stdout",
     "output_type": "stream",
     "text": [
      "Generating frame 3\n"
     ]
    },
    {
     "name": "stderr",
     "output_type": "stream",
     "text": [
      "100%|██████████| 2/2 [00:00<00:00,  3.70it/s]\n"
     ]
    },
    {
     "name": "stdout",
     "output_type": "stream",
     "text": [
      "Generating frame 4\n"
     ]
    },
    {
     "name": "stderr",
     "output_type": "stream",
     "text": [
      "100%|██████████| 2/2 [00:00<00:00,  7.03it/s]\n"
     ]
    },
    {
     "name": "stdout",
     "output_type": "stream",
     "text": [
      "Generating frame 5\n"
     ]
    },
    {
     "name": "stderr",
     "output_type": "stream",
     "text": [
      "100%|██████████| 2/2 [00:00<00:00,  8.21it/s]\n"
     ]
    },
    {
     "name": "stdout",
     "output_type": "stream",
     "text": [
      "Generating frame 6\n"
     ]
    },
    {
     "name": "stderr",
     "output_type": "stream",
     "text": [
      "100%|██████████| 2/2 [00:00<00:00,  8.21it/s]\n"
     ]
    },
    {
     "name": "stdout",
     "output_type": "stream",
     "text": [
      "Generating frame 7\n"
     ]
    },
    {
     "name": "stderr",
     "output_type": "stream",
     "text": [
      "100%|██████████| 2/2 [00:00<00:00,  8.18it/s]\n"
     ]
    },
    {
     "name": "stdout",
     "output_type": "stream",
     "text": [
      "Generating frame 8\n"
     ]
    },
    {
     "name": "stderr",
     "output_type": "stream",
     "text": [
      "100%|██████████| 2/2 [00:00<00:00,  8.20it/s]\n"
     ]
    },
    {
     "name": "stdout",
     "output_type": "stream",
     "text": [
      "Generating frame 9\n"
     ]
    },
    {
     "name": "stderr",
     "output_type": "stream",
     "text": [
      "100%|██████████| 2/2 [00:00<00:00,  8.19it/s]\n"
     ]
    },
    {
     "name": "stdout",
     "output_type": "stream",
     "text": [
      "Generating frame 10\n"
     ]
    },
    {
     "name": "stderr",
     "output_type": "stream",
     "text": [
      "100%|██████████| 2/2 [00:00<00:00,  8.20it/s]\n"
     ]
    },
    {
     "name": "stdout",
     "output_type": "stream",
     "text": [
      "Generating frame 11\n"
     ]
    },
    {
     "name": "stderr",
     "output_type": "stream",
     "text": [
      "100%|██████████| 2/2 [00:00<00:00,  8.18it/s]\n"
     ]
    },
    {
     "name": "stdout",
     "output_type": "stream",
     "text": [
      "Generating frame 12\n"
     ]
    },
    {
     "name": "stderr",
     "output_type": "stream",
     "text": [
      "100%|██████████| 2/2 [00:00<00:00,  8.19it/s]\n"
     ]
    },
    {
     "name": "stdout",
     "output_type": "stream",
     "text": [
      "Generating frame 13\n"
     ]
    },
    {
     "name": "stderr",
     "output_type": "stream",
     "text": [
      "100%|██████████| 2/2 [00:00<00:00,  8.20it/s]\n"
     ]
    },
    {
     "name": "stdout",
     "output_type": "stream",
     "text": [
      "Generating frame 14\n"
     ]
    },
    {
     "name": "stderr",
     "output_type": "stream",
     "text": [
      "100%|██████████| 2/2 [00:00<00:00,  8.18it/s]\n"
     ]
    },
    {
     "name": "stdout",
     "output_type": "stream",
     "text": [
      "Generating frame 15\n"
     ]
    },
    {
     "name": "stderr",
     "output_type": "stream",
     "text": [
      "100%|██████████| 2/2 [00:00<00:00,  8.20it/s]\n",
      " 39%|███▉      | 16/41 [02:39<04:10, 10.01s/it]"
     ]
    },
    {
     "name": "stdout",
     "output_type": "stream",
     "text": [
      "6\n",
      "Generating frame 1\n"
     ]
    },
    {
     "name": "stderr",
     "output_type": "stream",
     "text": [
      "100%|██████████| 2/2 [00:00<00:00,  5.91it/s]\n"
     ]
    },
    {
     "name": "stdout",
     "output_type": "stream",
     "text": [
      "Generating frame 2\n"
     ]
    },
    {
     "name": "stderr",
     "output_type": "stream",
     "text": [
      "100%|██████████| 2/2 [00:00<00:00,  8.23it/s]\n"
     ]
    },
    {
     "name": "stdout",
     "output_type": "stream",
     "text": [
      "Generating frame 3\n"
     ]
    },
    {
     "name": "stderr",
     "output_type": "stream",
     "text": [
      "100%|██████████| 2/2 [00:00<00:00,  8.24it/s]\n"
     ]
    },
    {
     "name": "stdout",
     "output_type": "stream",
     "text": [
      "Generating frame 4\n"
     ]
    },
    {
     "name": "stderr",
     "output_type": "stream",
     "text": [
      "100%|██████████| 2/2 [00:00<00:00,  8.24it/s]\n"
     ]
    },
    {
     "name": "stdout",
     "output_type": "stream",
     "text": [
      "Generating frame 5\n"
     ]
    },
    {
     "name": "stderr",
     "output_type": "stream",
     "text": [
      "100%|██████████| 2/2 [00:00<00:00,  8.22it/s]\n"
     ]
    },
    {
     "name": "stdout",
     "output_type": "stream",
     "text": [
      "Generating frame 6\n"
     ]
    },
    {
     "name": "stderr",
     "output_type": "stream",
     "text": [
      "100%|██████████| 2/2 [00:00<00:00,  8.22it/s]\n"
     ]
    },
    {
     "name": "stdout",
     "output_type": "stream",
     "text": [
      "Generating frame 7\n"
     ]
    },
    {
     "name": "stderr",
     "output_type": "stream",
     "text": [
      "100%|██████████| 2/2 [00:00<00:00,  8.21it/s]\n"
     ]
    },
    {
     "name": "stdout",
     "output_type": "stream",
     "text": [
      "Generating frame 8\n"
     ]
    },
    {
     "name": "stderr",
     "output_type": "stream",
     "text": [
      "100%|██████████| 2/2 [00:00<00:00,  8.22it/s]\n"
     ]
    },
    {
     "name": "stdout",
     "output_type": "stream",
     "text": [
      "Generating frame 9\n"
     ]
    },
    {
     "name": "stderr",
     "output_type": "stream",
     "text": [
      "100%|██████████| 2/2 [00:00<00:00,  8.20it/s]\n"
     ]
    },
    {
     "name": "stdout",
     "output_type": "stream",
     "text": [
      "Generating frame 10\n"
     ]
    },
    {
     "name": "stderr",
     "output_type": "stream",
     "text": [
      "100%|██████████| 2/2 [00:00<00:00,  8.22it/s]\n"
     ]
    },
    {
     "name": "stdout",
     "output_type": "stream",
     "text": [
      "Generating frame 11\n"
     ]
    },
    {
     "name": "stderr",
     "output_type": "stream",
     "text": [
      "100%|██████████| 2/2 [00:00<00:00,  8.19it/s]\n"
     ]
    },
    {
     "name": "stdout",
     "output_type": "stream",
     "text": [
      "Generating frame 12\n"
     ]
    },
    {
     "name": "stderr",
     "output_type": "stream",
     "text": [
      "100%|██████████| 2/2 [00:00<00:00,  8.21it/s]\n"
     ]
    },
    {
     "name": "stdout",
     "output_type": "stream",
     "text": [
      "Generating frame 13\n"
     ]
    },
    {
     "name": "stderr",
     "output_type": "stream",
     "text": [
      "100%|██████████| 2/2 [00:00<00:00,  8.20it/s]\n"
     ]
    },
    {
     "name": "stdout",
     "output_type": "stream",
     "text": [
      "Generating frame 14\n"
     ]
    },
    {
     "name": "stderr",
     "output_type": "stream",
     "text": [
      "100%|██████████| 2/2 [00:00<00:00,  8.20it/s]\n"
     ]
    },
    {
     "name": "stdout",
     "output_type": "stream",
     "text": [
      "Generating frame 15\n"
     ]
    },
    {
     "name": "stderr",
     "output_type": "stream",
     "text": [
      "100%|██████████| 2/2 [00:00<00:00,  4.25it/s]\n",
      " 41%|████▏     | 17/41 [02:50<04:07, 10.33s/it]"
     ]
    },
    {
     "name": "stdout",
     "output_type": "stream",
     "text": [
      "6\n",
      "Generating frame 1\n"
     ]
    },
    {
     "name": "stderr",
     "output_type": "stream",
     "text": [
      "100%|██████████| 2/2 [00:00<00:00,  8.22it/s]\n"
     ]
    },
    {
     "name": "stdout",
     "output_type": "stream",
     "text": [
      "Generating frame 2\n"
     ]
    },
    {
     "name": "stderr",
     "output_type": "stream",
     "text": [
      "100%|██████████| 2/2 [00:00<00:00,  8.22it/s]\n"
     ]
    },
    {
     "name": "stdout",
     "output_type": "stream",
     "text": [
      "Generating frame 3\n"
     ]
    },
    {
     "name": "stderr",
     "output_type": "stream",
     "text": [
      "100%|██████████| 2/2 [00:00<00:00,  8.21it/s]\n"
     ]
    },
    {
     "name": "stdout",
     "output_type": "stream",
     "text": [
      "Generating frame 4\n"
     ]
    },
    {
     "name": "stderr",
     "output_type": "stream",
     "text": [
      "100%|██████████| 2/2 [00:00<00:00,  8.21it/s]\n"
     ]
    },
    {
     "name": "stdout",
     "output_type": "stream",
     "text": [
      "Generating frame 5\n"
     ]
    },
    {
     "name": "stderr",
     "output_type": "stream",
     "text": [
      "100%|██████████| 2/2 [00:00<00:00,  8.22it/s]\n"
     ]
    },
    {
     "name": "stdout",
     "output_type": "stream",
     "text": [
      "Generating frame 6\n"
     ]
    },
    {
     "name": "stderr",
     "output_type": "stream",
     "text": [
      "100%|██████████| 2/2 [00:00<00:00,  8.19it/s]\n"
     ]
    },
    {
     "name": "stdout",
     "output_type": "stream",
     "text": [
      "Generating frame 7\n"
     ]
    },
    {
     "name": "stderr",
     "output_type": "stream",
     "text": [
      "100%|██████████| 2/2 [00:00<00:00,  8.20it/s]\n"
     ]
    },
    {
     "name": "stdout",
     "output_type": "stream",
     "text": [
      "Generating frame 8\n"
     ]
    },
    {
     "name": "stderr",
     "output_type": "stream",
     "text": [
      "100%|██████████| 2/2 [00:00<00:00,  8.19it/s]\n"
     ]
    },
    {
     "name": "stdout",
     "output_type": "stream",
     "text": [
      "Generating frame 9\n"
     ]
    },
    {
     "name": "stderr",
     "output_type": "stream",
     "text": [
      "100%|██████████| 2/2 [00:00<00:00,  8.19it/s]\n"
     ]
    },
    {
     "name": "stdout",
     "output_type": "stream",
     "text": [
      "Generating frame 10\n"
     ]
    },
    {
     "name": "stderr",
     "output_type": "stream",
     "text": [
      "100%|██████████| 2/2 [00:00<00:00,  8.20it/s]\n"
     ]
    },
    {
     "name": "stdout",
     "output_type": "stream",
     "text": [
      "Generating frame 11\n"
     ]
    },
    {
     "name": "stderr",
     "output_type": "stream",
     "text": [
      "100%|██████████| 2/2 [00:00<00:00,  8.20it/s]\n"
     ]
    },
    {
     "name": "stdout",
     "output_type": "stream",
     "text": [
      "Generating frame 12\n"
     ]
    },
    {
     "name": "stderr",
     "output_type": "stream",
     "text": [
      "100%|██████████| 2/2 [00:00<00:00,  8.21it/s]\n"
     ]
    },
    {
     "name": "stdout",
     "output_type": "stream",
     "text": [
      "Generating frame 13\n"
     ]
    },
    {
     "name": "stderr",
     "output_type": "stream",
     "text": [
      "100%|██████████| 2/2 [00:00<00:00,  8.18it/s]\n"
     ]
    },
    {
     "name": "stdout",
     "output_type": "stream",
     "text": [
      "Generating frame 14\n"
     ]
    },
    {
     "name": "stderr",
     "output_type": "stream",
     "text": [
      "100%|██████████| 2/2 [00:00<00:00,  3.74it/s]\n"
     ]
    },
    {
     "name": "stdout",
     "output_type": "stream",
     "text": [
      "Generating frame 15\n"
     ]
    },
    {
     "name": "stderr",
     "output_type": "stream",
     "text": [
      "100%|██████████| 2/2 [00:00<00:00,  3.51it/s]\n",
      " 44%|████▍     | 18/41 [03:01<04:00, 10.44s/it]"
     ]
    },
    {
     "name": "stdout",
     "output_type": "stream",
     "text": [
      "6\n",
      "Generating frame 1\n"
     ]
    },
    {
     "name": "stderr",
     "output_type": "stream",
     "text": [
      "100%|██████████| 2/2 [00:00<00:00,  8.21it/s]\n"
     ]
    },
    {
     "name": "stdout",
     "output_type": "stream",
     "text": [
      "Generating frame 2\n"
     ]
    },
    {
     "name": "stderr",
     "output_type": "stream",
     "text": [
      "100%|██████████| 2/2 [00:00<00:00,  8.20it/s]\n"
     ]
    },
    {
     "name": "stdout",
     "output_type": "stream",
     "text": [
      "Generating frame 3\n"
     ]
    },
    {
     "name": "stderr",
     "output_type": "stream",
     "text": [
      "100%|██████████| 2/2 [00:00<00:00,  8.08it/s]\n"
     ]
    },
    {
     "name": "stdout",
     "output_type": "stream",
     "text": [
      "Generating frame 4\n"
     ]
    },
    {
     "name": "stderr",
     "output_type": "stream",
     "text": [
      "100%|██████████| 2/2 [00:00<00:00,  8.11it/s]\n"
     ]
    },
    {
     "name": "stdout",
     "output_type": "stream",
     "text": [
      "Generating frame 5\n"
     ]
    },
    {
     "name": "stderr",
     "output_type": "stream",
     "text": [
      "100%|██████████| 2/2 [00:00<00:00,  8.16it/s]\n"
     ]
    },
    {
     "name": "stdout",
     "output_type": "stream",
     "text": [
      "Generating frame 6\n"
     ]
    },
    {
     "name": "stderr",
     "output_type": "stream",
     "text": [
      "100%|██████████| 2/2 [00:00<00:00,  8.16it/s]\n"
     ]
    },
    {
     "name": "stdout",
     "output_type": "stream",
     "text": [
      "Generating frame 7\n"
     ]
    },
    {
     "name": "stderr",
     "output_type": "stream",
     "text": [
      "100%|██████████| 2/2 [00:00<00:00,  8.15it/s]\n"
     ]
    },
    {
     "name": "stdout",
     "output_type": "stream",
     "text": [
      "Generating frame 8\n"
     ]
    },
    {
     "name": "stderr",
     "output_type": "stream",
     "text": [
      "100%|██████████| 2/2 [00:00<00:00,  8.19it/s]\n"
     ]
    },
    {
     "name": "stdout",
     "output_type": "stream",
     "text": [
      "Generating frame 9\n"
     ]
    },
    {
     "name": "stderr",
     "output_type": "stream",
     "text": [
      "100%|██████████| 2/2 [00:00<00:00,  8.20it/s]\n"
     ]
    },
    {
     "name": "stdout",
     "output_type": "stream",
     "text": [
      "Generating frame 10\n"
     ]
    },
    {
     "name": "stderr",
     "output_type": "stream",
     "text": [
      "100%|██████████| 2/2 [00:00<00:00,  8.20it/s]\n"
     ]
    },
    {
     "name": "stdout",
     "output_type": "stream",
     "text": [
      "Generating frame 11\n"
     ]
    },
    {
     "name": "stderr",
     "output_type": "stream",
     "text": [
      "100%|██████████| 2/2 [00:00<00:00,  5.92it/s]\n"
     ]
    },
    {
     "name": "stdout",
     "output_type": "stream",
     "text": [
      "Generating frame 12\n"
     ]
    },
    {
     "name": "stderr",
     "output_type": "stream",
     "text": [
      "100%|██████████| 2/2 [00:00<00:00,  3.52it/s]\n"
     ]
    },
    {
     "name": "stdout",
     "output_type": "stream",
     "text": [
      "Generating frame 13\n"
     ]
    },
    {
     "name": "stderr",
     "output_type": "stream",
     "text": [
      "100%|██████████| 2/2 [00:00<00:00,  3.62it/s]\n"
     ]
    },
    {
     "name": "stdout",
     "output_type": "stream",
     "text": [
      "Generating frame 14\n"
     ]
    },
    {
     "name": "stderr",
     "output_type": "stream",
     "text": [
      "100%|██████████| 2/2 [00:00<00:00,  8.09it/s]\n"
     ]
    },
    {
     "name": "stdout",
     "output_type": "stream",
     "text": [
      "Generating frame 15\n"
     ]
    },
    {
     "name": "stderr",
     "output_type": "stream",
     "text": [
      "100%|██████████| 2/2 [00:00<00:00,  8.20it/s]\n",
      " 46%|████▋     | 19/41 [03:12<03:51, 10.54s/it]"
     ]
    },
    {
     "name": "stdout",
     "output_type": "stream",
     "text": [
      "6\n",
      "Generating frame 1\n"
     ]
    },
    {
     "name": "stderr",
     "output_type": "stream",
     "text": [
      "100%|██████████| 2/2 [00:00<00:00,  8.15it/s]\n"
     ]
    },
    {
     "name": "stdout",
     "output_type": "stream",
     "text": [
      "Generating frame 2\n"
     ]
    },
    {
     "name": "stderr",
     "output_type": "stream",
     "text": [
      "100%|██████████| 2/2 [00:00<00:00,  8.14it/s]\n"
     ]
    },
    {
     "name": "stdout",
     "output_type": "stream",
     "text": [
      "Generating frame 3\n"
     ]
    },
    {
     "name": "stderr",
     "output_type": "stream",
     "text": [
      "100%|██████████| 2/2 [00:00<00:00,  8.16it/s]\n"
     ]
    },
    {
     "name": "stdout",
     "output_type": "stream",
     "text": [
      "Generating frame 4\n"
     ]
    },
    {
     "name": "stderr",
     "output_type": "stream",
     "text": [
      "100%|██████████| 2/2 [00:00<00:00,  8.10it/s]\n"
     ]
    },
    {
     "name": "stdout",
     "output_type": "stream",
     "text": [
      "Generating frame 5\n"
     ]
    },
    {
     "name": "stderr",
     "output_type": "stream",
     "text": [
      "100%|██████████| 2/2 [00:00<00:00,  8.11it/s]\n"
     ]
    },
    {
     "name": "stdout",
     "output_type": "stream",
     "text": [
      "Generating frame 6\n"
     ]
    },
    {
     "name": "stderr",
     "output_type": "stream",
     "text": [
      "100%|██████████| 2/2 [00:00<00:00,  7.84it/s]\n"
     ]
    },
    {
     "name": "stdout",
     "output_type": "stream",
     "text": [
      "Generating frame 7\n"
     ]
    },
    {
     "name": "stderr",
     "output_type": "stream",
     "text": [
      "100%|██████████| 2/2 [00:00<00:00,  8.09it/s]\n"
     ]
    },
    {
     "name": "stdout",
     "output_type": "stream",
     "text": [
      "Generating frame 8\n"
     ]
    },
    {
     "name": "stderr",
     "output_type": "stream",
     "text": [
      "100%|██████████| 2/2 [00:00<00:00,  8.08it/s]\n"
     ]
    },
    {
     "name": "stdout",
     "output_type": "stream",
     "text": [
      "Generating frame 9\n"
     ]
    },
    {
     "name": "stderr",
     "output_type": "stream",
     "text": [
      "100%|██████████| 2/2 [00:00<00:00,  8.15it/s]\n"
     ]
    },
    {
     "name": "stdout",
     "output_type": "stream",
     "text": [
      "Generating frame 10\n"
     ]
    },
    {
     "name": "stderr",
     "output_type": "stream",
     "text": [
      "100%|██████████| 2/2 [00:00<00:00,  8.09it/s]\n"
     ]
    },
    {
     "name": "stdout",
     "output_type": "stream",
     "text": [
      "Generating frame 11\n"
     ]
    },
    {
     "name": "stderr",
     "output_type": "stream",
     "text": [
      "100%|██████████| 2/2 [00:00<00:00,  8.01it/s]\n"
     ]
    },
    {
     "name": "stdout",
     "output_type": "stream",
     "text": [
      "Generating frame 12\n"
     ]
    },
    {
     "name": "stderr",
     "output_type": "stream",
     "text": [
      "100%|██████████| 2/2 [00:00<00:00,  8.10it/s]\n"
     ]
    },
    {
     "name": "stdout",
     "output_type": "stream",
     "text": [
      "Generating frame 13\n"
     ]
    },
    {
     "name": "stderr",
     "output_type": "stream",
     "text": [
      "100%|██████████| 2/2 [00:00<00:00,  8.06it/s]\n"
     ]
    },
    {
     "name": "stdout",
     "output_type": "stream",
     "text": [
      "Generating frame 14\n"
     ]
    },
    {
     "name": "stderr",
     "output_type": "stream",
     "text": [
      "100%|██████████| 2/2 [00:00<00:00,  8.12it/s]\n"
     ]
    },
    {
     "name": "stdout",
     "output_type": "stream",
     "text": [
      "Generating frame 15\n"
     ]
    },
    {
     "name": "stderr",
     "output_type": "stream",
     "text": [
      "100%|██████████| 2/2 [00:00<00:00,  8.08it/s]\n",
      " 49%|████▉     | 20/41 [03:21<03:35, 10.25s/it]"
     ]
    },
    {
     "name": "stdout",
     "output_type": "stream",
     "text": [
      "6\n",
      "Generating frame 1\n"
     ]
    },
    {
     "name": "stderr",
     "output_type": "stream",
     "text": [
      "100%|██████████| 2/2 [00:00<00:00,  8.16it/s]\n"
     ]
    },
    {
     "name": "stdout",
     "output_type": "stream",
     "text": [
      "Generating frame 2\n"
     ]
    },
    {
     "name": "stderr",
     "output_type": "stream",
     "text": [
      "100%|██████████| 2/2 [00:00<00:00,  8.18it/s]\n"
     ]
    },
    {
     "name": "stdout",
     "output_type": "stream",
     "text": [
      "Generating frame 3\n"
     ]
    },
    {
     "name": "stderr",
     "output_type": "stream",
     "text": [
      "100%|██████████| 2/2 [00:00<00:00,  8.10it/s]\n"
     ]
    },
    {
     "name": "stdout",
     "output_type": "stream",
     "text": [
      "Generating frame 4\n"
     ]
    },
    {
     "name": "stderr",
     "output_type": "stream",
     "text": [
      "100%|██████████| 2/2 [00:00<00:00,  8.17it/s]\n"
     ]
    },
    {
     "name": "stdout",
     "output_type": "stream",
     "text": [
      "Generating frame 5\n"
     ]
    },
    {
     "name": "stderr",
     "output_type": "stream",
     "text": [
      "100%|██████████| 2/2 [00:00<00:00,  4.25it/s]\n"
     ]
    },
    {
     "name": "stdout",
     "output_type": "stream",
     "text": [
      "Generating frame 6\n"
     ]
    },
    {
     "name": "stderr",
     "output_type": "stream",
     "text": [
      "100%|██████████| 2/2 [00:00<00:00,  3.52it/s]\n"
     ]
    },
    {
     "name": "stdout",
     "output_type": "stream",
     "text": [
      "Generating frame 7\n"
     ]
    },
    {
     "name": "stderr",
     "output_type": "stream",
     "text": [
      "100%|██████████| 2/2 [00:00<00:00,  3.72it/s]\n"
     ]
    },
    {
     "name": "stdout",
     "output_type": "stream",
     "text": [
      "Generating frame 8\n"
     ]
    },
    {
     "name": "stderr",
     "output_type": "stream",
     "text": [
      "100%|██████████| 2/2 [00:00<00:00,  8.17it/s]\n"
     ]
    },
    {
     "name": "stdout",
     "output_type": "stream",
     "text": [
      "Generating frame 9\n"
     ]
    },
    {
     "name": "stderr",
     "output_type": "stream",
     "text": [
      "100%|██████████| 2/2 [00:00<00:00,  8.17it/s]\n"
     ]
    },
    {
     "name": "stdout",
     "output_type": "stream",
     "text": [
      "Generating frame 10\n"
     ]
    },
    {
     "name": "stderr",
     "output_type": "stream",
     "text": [
      "100%|██████████| 2/2 [00:00<00:00,  8.21it/s]\n"
     ]
    },
    {
     "name": "stdout",
     "output_type": "stream",
     "text": [
      "Generating frame 11\n"
     ]
    },
    {
     "name": "stderr",
     "output_type": "stream",
     "text": [
      "100%|██████████| 2/2 [00:00<00:00,  8.14it/s]\n"
     ]
    },
    {
     "name": "stdout",
     "output_type": "stream",
     "text": [
      "Generating frame 12\n"
     ]
    },
    {
     "name": "stderr",
     "output_type": "stream",
     "text": [
      "100%|██████████| 2/2 [00:00<00:00,  8.17it/s]\n"
     ]
    },
    {
     "name": "stdout",
     "output_type": "stream",
     "text": [
      "Generating frame 13\n"
     ]
    },
    {
     "name": "stderr",
     "output_type": "stream",
     "text": [
      "100%|██████████| 2/2 [00:00<00:00,  8.14it/s]\n"
     ]
    },
    {
     "name": "stdout",
     "output_type": "stream",
     "text": [
      "Generating frame 14\n"
     ]
    },
    {
     "name": "stderr",
     "output_type": "stream",
     "text": [
      "100%|██████████| 2/2 [00:00<00:00,  8.12it/s]\n"
     ]
    },
    {
     "name": "stdout",
     "output_type": "stream",
     "text": [
      "Generating frame 15\n"
     ]
    },
    {
     "name": "stderr",
     "output_type": "stream",
     "text": [
      "100%|██████████| 2/2 [00:00<00:00,  8.17it/s]\n",
      " 51%|█████     | 21/41 [03:32<03:28, 10.44s/it]"
     ]
    },
    {
     "name": "stdout",
     "output_type": "stream",
     "text": [
      "6\n",
      "Generating frame 1\n"
     ]
    },
    {
     "name": "stderr",
     "output_type": "stream",
     "text": [
      "100%|██████████| 2/2 [00:00<00:00,  8.15it/s]\n"
     ]
    },
    {
     "name": "stdout",
     "output_type": "stream",
     "text": [
      "Generating frame 2\n"
     ]
    },
    {
     "name": "stderr",
     "output_type": "stream",
     "text": [
      "100%|██████████| 2/2 [00:00<00:00,  8.19it/s]\n"
     ]
    },
    {
     "name": "stdout",
     "output_type": "stream",
     "text": [
      "Generating frame 3\n"
     ]
    },
    {
     "name": "stderr",
     "output_type": "stream",
     "text": [
      "100%|██████████| 2/2 [00:00<00:00,  8.13it/s]\n"
     ]
    },
    {
     "name": "stdout",
     "output_type": "stream",
     "text": [
      "Generating frame 4\n"
     ]
    },
    {
     "name": "stderr",
     "output_type": "stream",
     "text": [
      "100%|██████████| 2/2 [00:00<00:00,  8.20it/s]\n"
     ]
    },
    {
     "name": "stdout",
     "output_type": "stream",
     "text": [
      "Generating frame 5\n"
     ]
    },
    {
     "name": "stderr",
     "output_type": "stream",
     "text": [
      "100%|██████████| 2/2 [00:00<00:00,  8.15it/s]\n"
     ]
    },
    {
     "name": "stdout",
     "output_type": "stream",
     "text": [
      "Generating frame 6\n"
     ]
    },
    {
     "name": "stderr",
     "output_type": "stream",
     "text": [
      "100%|██████████| 2/2 [00:00<00:00,  8.21it/s]\n"
     ]
    },
    {
     "name": "stdout",
     "output_type": "stream",
     "text": [
      "Generating frame 7\n"
     ]
    },
    {
     "name": "stderr",
     "output_type": "stream",
     "text": [
      "100%|██████████| 2/2 [00:00<00:00,  8.16it/s]\n"
     ]
    },
    {
     "name": "stdout",
     "output_type": "stream",
     "text": [
      "Generating frame 8\n"
     ]
    },
    {
     "name": "stderr",
     "output_type": "stream",
     "text": [
      "100%|██████████| 2/2 [00:00<00:00,  8.18it/s]\n"
     ]
    },
    {
     "name": "stdout",
     "output_type": "stream",
     "text": [
      "Generating frame 9\n"
     ]
    },
    {
     "name": "stderr",
     "output_type": "stream",
     "text": [
      "100%|██████████| 2/2 [00:00<00:00,  8.20it/s]\n"
     ]
    },
    {
     "name": "stdout",
     "output_type": "stream",
     "text": [
      "Generating frame 10\n"
     ]
    },
    {
     "name": "stderr",
     "output_type": "stream",
     "text": [
      "100%|██████████| 2/2 [00:00<00:00,  8.20it/s]\n"
     ]
    },
    {
     "name": "stdout",
     "output_type": "stream",
     "text": [
      "Generating frame 11\n"
     ]
    },
    {
     "name": "stderr",
     "output_type": "stream",
     "text": [
      "100%|██████████| 2/2 [00:00<00:00,  8.23it/s]\n"
     ]
    },
    {
     "name": "stdout",
     "output_type": "stream",
     "text": [
      "Generating frame 12\n"
     ]
    },
    {
     "name": "stderr",
     "output_type": "stream",
     "text": [
      "100%|██████████| 2/2 [00:00<00:00,  8.22it/s]\n"
     ]
    },
    {
     "name": "stdout",
     "output_type": "stream",
     "text": [
      "Generating frame 13\n"
     ]
    },
    {
     "name": "stderr",
     "output_type": "stream",
     "text": [
      "100%|██████████| 2/2 [00:00<00:00,  8.22it/s]\n"
     ]
    },
    {
     "name": "stdout",
     "output_type": "stream",
     "text": [
      "Generating frame 14\n"
     ]
    },
    {
     "name": "stderr",
     "output_type": "stream",
     "text": [
      "100%|██████████| 2/2 [00:00<00:00,  8.10it/s]\n"
     ]
    },
    {
     "name": "stdout",
     "output_type": "stream",
     "text": [
      "Generating frame 15\n"
     ]
    },
    {
     "name": "stderr",
     "output_type": "stream",
     "text": [
      "100%|██████████| 2/2 [00:00<00:00,  8.20it/s]\n",
      " 54%|█████▎    | 22/41 [03:41<03:13, 10.16s/it]"
     ]
    },
    {
     "name": "stdout",
     "output_type": "stream",
     "text": [
      "6\n",
      "Generating frame 1\n"
     ]
    },
    {
     "name": "stderr",
     "output_type": "stream",
     "text": [
      "100%|██████████| 2/2 [00:00<00:00,  4.08it/s]\n"
     ]
    },
    {
     "name": "stdout",
     "output_type": "stream",
     "text": [
      "Generating frame 2\n"
     ]
    },
    {
     "name": "stderr",
     "output_type": "stream",
     "text": [
      "100%|██████████| 2/2 [00:00<00:00,  8.22it/s]\n"
     ]
    },
    {
     "name": "stdout",
     "output_type": "stream",
     "text": [
      "Generating frame 3\n"
     ]
    },
    {
     "name": "stderr",
     "output_type": "stream",
     "text": [
      "100%|██████████| 2/2 [00:00<00:00,  8.23it/s]\n"
     ]
    },
    {
     "name": "stdout",
     "output_type": "stream",
     "text": [
      "Generating frame 4\n"
     ]
    },
    {
     "name": "stderr",
     "output_type": "stream",
     "text": [
      "100%|██████████| 2/2 [00:00<00:00,  8.23it/s]\n"
     ]
    },
    {
     "name": "stdout",
     "output_type": "stream",
     "text": [
      "Generating frame 5\n"
     ]
    },
    {
     "name": "stderr",
     "output_type": "stream",
     "text": [
      "100%|██████████| 2/2 [00:00<00:00,  8.21it/s]\n"
     ]
    },
    {
     "name": "stdout",
     "output_type": "stream",
     "text": [
      "Generating frame 6\n"
     ]
    },
    {
     "name": "stderr",
     "output_type": "stream",
     "text": [
      "100%|██████████| 2/2 [00:00<00:00,  8.22it/s]\n"
     ]
    },
    {
     "name": "stdout",
     "output_type": "stream",
     "text": [
      "Generating frame 7\n"
     ]
    },
    {
     "name": "stderr",
     "output_type": "stream",
     "text": [
      "100%|██████████| 2/2 [00:00<00:00,  8.20it/s]\n"
     ]
    },
    {
     "name": "stdout",
     "output_type": "stream",
     "text": [
      "Generating frame 8\n"
     ]
    },
    {
     "name": "stderr",
     "output_type": "stream",
     "text": [
      "100%|██████████| 2/2 [00:00<00:00,  8.20it/s]\n"
     ]
    },
    {
     "name": "stdout",
     "output_type": "stream",
     "text": [
      "Generating frame 9\n"
     ]
    },
    {
     "name": "stderr",
     "output_type": "stream",
     "text": [
      "100%|██████████| 2/2 [00:00<00:00,  8.21it/s]\n"
     ]
    },
    {
     "name": "stdout",
     "output_type": "stream",
     "text": [
      "Generating frame 10\n"
     ]
    },
    {
     "name": "stderr",
     "output_type": "stream",
     "text": [
      "100%|██████████| 2/2 [00:00<00:00,  8.22it/s]\n"
     ]
    },
    {
     "name": "stdout",
     "output_type": "stream",
     "text": [
      "Generating frame 11\n"
     ]
    },
    {
     "name": "stderr",
     "output_type": "stream",
     "text": [
      "100%|██████████| 2/2 [00:00<00:00,  8.18it/s]\n"
     ]
    },
    {
     "name": "stdout",
     "output_type": "stream",
     "text": [
      "Generating frame 12\n"
     ]
    },
    {
     "name": "stderr",
     "output_type": "stream",
     "text": [
      "100%|██████████| 2/2 [00:00<00:00,  8.18it/s]\n"
     ]
    },
    {
     "name": "stdout",
     "output_type": "stream",
     "text": [
      "Generating frame 13\n"
     ]
    },
    {
     "name": "stderr",
     "output_type": "stream",
     "text": [
      "100%|██████████| 2/2 [00:00<00:00,  8.14it/s]\n"
     ]
    },
    {
     "name": "stdout",
     "output_type": "stream",
     "text": [
      "Generating frame 14\n"
     ]
    },
    {
     "name": "stderr",
     "output_type": "stream",
     "text": [
      "100%|██████████| 2/2 [00:00<00:00,  8.21it/s]\n"
     ]
    },
    {
     "name": "stdout",
     "output_type": "stream",
     "text": [
      "Generating frame 15\n"
     ]
    },
    {
     "name": "stderr",
     "output_type": "stream",
     "text": [
      "100%|██████████| 2/2 [00:00<00:00,  8.11it/s]\n",
      " 56%|█████▌    | 23/41 [03:51<03:01, 10.07s/it]"
     ]
    },
    {
     "name": "stdout",
     "output_type": "stream",
     "text": [
      "6\n",
      "Generating frame 1\n"
     ]
    },
    {
     "name": "stderr",
     "output_type": "stream",
     "text": [
      "100%|██████████| 2/2 [00:00<00:00,  8.15it/s]\n"
     ]
    },
    {
     "name": "stdout",
     "output_type": "stream",
     "text": [
      "Generating frame 2\n"
     ]
    },
    {
     "name": "stderr",
     "output_type": "stream",
     "text": [
      "100%|██████████| 2/2 [00:00<00:00,  3.55it/s]\n"
     ]
    },
    {
     "name": "stdout",
     "output_type": "stream",
     "text": [
      "Generating frame 3\n"
     ]
    },
    {
     "name": "stderr",
     "output_type": "stream",
     "text": [
      "100%|██████████| 2/2 [00:00<00:00,  3.63it/s]\n"
     ]
    },
    {
     "name": "stdout",
     "output_type": "stream",
     "text": [
      "Generating frame 4\n"
     ]
    },
    {
     "name": "stderr",
     "output_type": "stream",
     "text": [
      "100%|██████████| 2/2 [00:00<00:00,  6.00it/s]\n"
     ]
    },
    {
     "name": "stdout",
     "output_type": "stream",
     "text": [
      "Generating frame 5\n"
     ]
    },
    {
     "name": "stderr",
     "output_type": "stream",
     "text": [
      "100%|██████████| 2/2 [00:00<00:00,  8.07it/s]\n"
     ]
    },
    {
     "name": "stdout",
     "output_type": "stream",
     "text": [
      "Generating frame 6\n"
     ]
    },
    {
     "name": "stderr",
     "output_type": "stream",
     "text": [
      "100%|██████████| 2/2 [00:00<00:00,  8.13it/s]\n"
     ]
    },
    {
     "name": "stdout",
     "output_type": "stream",
     "text": [
      "Generating frame 7\n"
     ]
    },
    {
     "name": "stderr",
     "output_type": "stream",
     "text": [
      "100%|██████████| 2/2 [00:00<00:00,  7.96it/s]\n"
     ]
    },
    {
     "name": "stdout",
     "output_type": "stream",
     "text": [
      "Generating frame 8\n"
     ]
    },
    {
     "name": "stderr",
     "output_type": "stream",
     "text": [
      "100%|██████████| 2/2 [00:00<00:00,  7.86it/s]\n"
     ]
    },
    {
     "name": "stdout",
     "output_type": "stream",
     "text": [
      "Generating frame 9\n"
     ]
    },
    {
     "name": "stderr",
     "output_type": "stream",
     "text": [
      "100%|██████████| 2/2 [00:00<00:00,  8.06it/s]\n"
     ]
    },
    {
     "name": "stdout",
     "output_type": "stream",
     "text": [
      "Generating frame 10\n"
     ]
    },
    {
     "name": "stderr",
     "output_type": "stream",
     "text": [
      "100%|██████████| 2/2 [00:00<00:00,  8.09it/s]\n"
     ]
    },
    {
     "name": "stdout",
     "output_type": "stream",
     "text": [
      "Generating frame 11\n"
     ]
    },
    {
     "name": "stderr",
     "output_type": "stream",
     "text": [
      "100%|██████████| 2/2 [00:00<00:00,  8.13it/s]\n"
     ]
    },
    {
     "name": "stdout",
     "output_type": "stream",
     "text": [
      "Generating frame 12\n"
     ]
    },
    {
     "name": "stderr",
     "output_type": "stream",
     "text": [
      "100%|██████████| 2/2 [00:00<00:00,  8.20it/s]\n"
     ]
    },
    {
     "name": "stdout",
     "output_type": "stream",
     "text": [
      "Generating frame 13\n"
     ]
    },
    {
     "name": "stderr",
     "output_type": "stream",
     "text": [
      "100%|██████████| 2/2 [00:00<00:00,  8.14it/s]\n"
     ]
    },
    {
     "name": "stdout",
     "output_type": "stream",
     "text": [
      "Generating frame 14\n"
     ]
    },
    {
     "name": "stderr",
     "output_type": "stream",
     "text": [
      "100%|██████████| 2/2 [00:00<00:00,  8.16it/s]\n"
     ]
    },
    {
     "name": "stdout",
     "output_type": "stream",
     "text": [
      "Generating frame 15\n"
     ]
    },
    {
     "name": "stderr",
     "output_type": "stream",
     "text": [
      "100%|██████████| 2/2 [00:00<00:00,  8.14it/s]\n",
      " 59%|█████▊    | 24/41 [04:02<02:55, 10.32s/it]"
     ]
    },
    {
     "name": "stdout",
     "output_type": "stream",
     "text": [
      "6\n",
      "Generating frame 1\n"
     ]
    },
    {
     "name": "stderr",
     "output_type": "stream",
     "text": [
      "100%|██████████| 2/2 [00:00<00:00,  8.17it/s]\n"
     ]
    },
    {
     "name": "stdout",
     "output_type": "stream",
     "text": [
      "Generating frame 2\n"
     ]
    },
    {
     "name": "stderr",
     "output_type": "stream",
     "text": [
      "100%|██████████| 2/2 [00:00<00:00,  8.17it/s]\n"
     ]
    },
    {
     "name": "stdout",
     "output_type": "stream",
     "text": [
      "Generating frame 3\n"
     ]
    },
    {
     "name": "stderr",
     "output_type": "stream",
     "text": [
      "100%|██████████| 2/2 [00:00<00:00,  8.13it/s]\n"
     ]
    },
    {
     "name": "stdout",
     "output_type": "stream",
     "text": [
      "Generating frame 4\n"
     ]
    },
    {
     "name": "stderr",
     "output_type": "stream",
     "text": [
      "100%|██████████| 2/2 [00:00<00:00,  8.17it/s]\n"
     ]
    },
    {
     "name": "stdout",
     "output_type": "stream",
     "text": [
      "Generating frame 5\n"
     ]
    },
    {
     "name": "stderr",
     "output_type": "stream",
     "text": [
      "100%|██████████| 2/2 [00:00<00:00,  8.13it/s]\n"
     ]
    },
    {
     "name": "stdout",
     "output_type": "stream",
     "text": [
      "Generating frame 6\n"
     ]
    },
    {
     "name": "stderr",
     "output_type": "stream",
     "text": [
      "100%|██████████| 2/2 [00:00<00:00,  8.12it/s]\n"
     ]
    },
    {
     "name": "stdout",
     "output_type": "stream",
     "text": [
      "Generating frame 7\n"
     ]
    },
    {
     "name": "stderr",
     "output_type": "stream",
     "text": [
      "100%|██████████| 2/2 [00:00<00:00,  8.13it/s]\n"
     ]
    },
    {
     "name": "stdout",
     "output_type": "stream",
     "text": [
      "Generating frame 8\n"
     ]
    },
    {
     "name": "stderr",
     "output_type": "stream",
     "text": [
      "100%|██████████| 2/2 [00:00<00:00,  8.10it/s]\n"
     ]
    },
    {
     "name": "stdout",
     "output_type": "stream",
     "text": [
      "Generating frame 9\n"
     ]
    },
    {
     "name": "stderr",
     "output_type": "stream",
     "text": [
      "100%|██████████| 2/2 [00:00<00:00,  8.14it/s]\n"
     ]
    },
    {
     "name": "stdout",
     "output_type": "stream",
     "text": [
      "Generating frame 10\n"
     ]
    },
    {
     "name": "stderr",
     "output_type": "stream",
     "text": [
      "100%|██████████| 2/2 [00:00<00:00,  8.11it/s]\n"
     ]
    },
    {
     "name": "stdout",
     "output_type": "stream",
     "text": [
      "Generating frame 11\n"
     ]
    },
    {
     "name": "stderr",
     "output_type": "stream",
     "text": [
      "100%|██████████| 2/2 [00:00<00:00,  8.20it/s]\n"
     ]
    },
    {
     "name": "stdout",
     "output_type": "stream",
     "text": [
      "Generating frame 12\n"
     ]
    },
    {
     "name": "stderr",
     "output_type": "stream",
     "text": [
      "100%|██████████| 2/2 [00:00<00:00,  8.16it/s]\n"
     ]
    },
    {
     "name": "stdout",
     "output_type": "stream",
     "text": [
      "Generating frame 13\n"
     ]
    },
    {
     "name": "stderr",
     "output_type": "stream",
     "text": [
      "100%|██████████| 2/2 [00:00<00:00,  8.15it/s]\n"
     ]
    },
    {
     "name": "stdout",
     "output_type": "stream",
     "text": [
      "Generating frame 14\n"
     ]
    },
    {
     "name": "stderr",
     "output_type": "stream",
     "text": [
      "100%|██████████| 2/2 [00:00<00:00,  8.14it/s]\n"
     ]
    },
    {
     "name": "stdout",
     "output_type": "stream",
     "text": [
      "Generating frame 15\n"
     ]
    },
    {
     "name": "stderr",
     "output_type": "stream",
     "text": [
      "100%|██████████| 2/2 [00:00<00:00,  8.14it/s]\n",
      " 61%|██████    | 25/41 [04:12<02:40, 10.04s/it]"
     ]
    },
    {
     "name": "stdout",
     "output_type": "stream",
     "text": [
      "6\n",
      "Generating frame 1\n"
     ]
    },
    {
     "name": "stderr",
     "output_type": "stream",
     "text": [
      "100%|██████████| 2/2 [00:00<00:00,  8.17it/s]\n"
     ]
    },
    {
     "name": "stdout",
     "output_type": "stream",
     "text": [
      "Generating frame 2\n"
     ]
    },
    {
     "name": "stderr",
     "output_type": "stream",
     "text": [
      "100%|██████████| 2/2 [00:00<00:00,  8.17it/s]\n"
     ]
    },
    {
     "name": "stdout",
     "output_type": "stream",
     "text": [
      "Generating frame 3\n"
     ]
    },
    {
     "name": "stderr",
     "output_type": "stream",
     "text": [
      "100%|██████████| 2/2 [00:00<00:00,  8.20it/s]\n"
     ]
    },
    {
     "name": "stdout",
     "output_type": "stream",
     "text": [
      "Generating frame 4\n"
     ]
    },
    {
     "name": "stderr",
     "output_type": "stream",
     "text": [
      "100%|██████████| 2/2 [00:00<00:00,  8.16it/s]\n"
     ]
    },
    {
     "name": "stdout",
     "output_type": "stream",
     "text": [
      "Generating frame 5\n"
     ]
    },
    {
     "name": "stderr",
     "output_type": "stream",
     "text": [
      "100%|██████████| 2/2 [00:00<00:00,  8.11it/s]\n"
     ]
    },
    {
     "name": "stdout",
     "output_type": "stream",
     "text": [
      "Generating frame 6\n"
     ]
    },
    {
     "name": "stderr",
     "output_type": "stream",
     "text": [
      "100%|██████████| 2/2 [00:00<00:00,  8.16it/s]\n"
     ]
    },
    {
     "name": "stdout",
     "output_type": "stream",
     "text": [
      "Generating frame 7\n"
     ]
    },
    {
     "name": "stderr",
     "output_type": "stream",
     "text": [
      "100%|██████████| 2/2 [00:00<00:00,  8.09it/s]\n"
     ]
    },
    {
     "name": "stdout",
     "output_type": "stream",
     "text": [
      "Generating frame 8\n"
     ]
    },
    {
     "name": "stderr",
     "output_type": "stream",
     "text": [
      "100%|██████████| 2/2 [00:00<00:00,  8.12it/s]\n"
     ]
    },
    {
     "name": "stdout",
     "output_type": "stream",
     "text": [
      "Generating frame 9\n"
     ]
    },
    {
     "name": "stderr",
     "output_type": "stream",
     "text": [
      "100%|██████████| 2/2 [00:00<00:00,  8.14it/s]\n"
     ]
    },
    {
     "name": "stdout",
     "output_type": "stream",
     "text": [
      "Generating frame 10\n"
     ]
    },
    {
     "name": "stderr",
     "output_type": "stream",
     "text": [
      "100%|██████████| 2/2 [00:00<00:00,  8.04it/s]\n"
     ]
    },
    {
     "name": "stdout",
     "output_type": "stream",
     "text": [
      "Generating frame 11\n"
     ]
    },
    {
     "name": "stderr",
     "output_type": "stream",
     "text": [
      "100%|██████████| 2/2 [00:00<00:00,  8.14it/s]\n"
     ]
    },
    {
     "name": "stdout",
     "output_type": "stream",
     "text": [
      "Generating frame 12\n"
     ]
    },
    {
     "name": "stderr",
     "output_type": "stream",
     "text": [
      "100%|██████████| 2/2 [00:00<00:00,  8.15it/s]\n"
     ]
    },
    {
     "name": "stdout",
     "output_type": "stream",
     "text": [
      "Generating frame 13\n"
     ]
    },
    {
     "name": "stderr",
     "output_type": "stream",
     "text": [
      "100%|██████████| 2/2 [00:00<00:00,  8.13it/s]\n"
     ]
    },
    {
     "name": "stdout",
     "output_type": "stream",
     "text": [
      "Generating frame 14\n"
     ]
    },
    {
     "name": "stderr",
     "output_type": "stream",
     "text": [
      "100%|██████████| 2/2 [00:00<00:00,  8.18it/s]\n"
     ]
    },
    {
     "name": "stdout",
     "output_type": "stream",
     "text": [
      "Generating frame 15\n"
     ]
    },
    {
     "name": "stderr",
     "output_type": "stream",
     "text": [
      "100%|██████████| 2/2 [00:00<00:00,  3.54it/s]\n",
      " 63%|██████▎   | 26/41 [04:23<02:34, 10.29s/it]"
     ]
    },
    {
     "name": "stdout",
     "output_type": "stream",
     "text": [
      "6\n",
      "Generating frame 1\n"
     ]
    },
    {
     "name": "stderr",
     "output_type": "stream",
     "text": [
      "100%|██████████| 2/2 [00:00<00:00,  8.22it/s]\n"
     ]
    },
    {
     "name": "stdout",
     "output_type": "stream",
     "text": [
      "Generating frame 2\n"
     ]
    },
    {
     "name": "stderr",
     "output_type": "stream",
     "text": [
      "100%|██████████| 2/2 [00:00<00:00,  8.22it/s]\n"
     ]
    },
    {
     "name": "stdout",
     "output_type": "stream",
     "text": [
      "Generating frame 3\n"
     ]
    },
    {
     "name": "stderr",
     "output_type": "stream",
     "text": [
      "100%|██████████| 2/2 [00:00<00:00,  8.23it/s]\n"
     ]
    },
    {
     "name": "stdout",
     "output_type": "stream",
     "text": [
      "Generating frame 4\n"
     ]
    },
    {
     "name": "stderr",
     "output_type": "stream",
     "text": [
      "100%|██████████| 2/2 [00:00<00:00,  8.21it/s]\n"
     ]
    },
    {
     "name": "stdout",
     "output_type": "stream",
     "text": [
      "Generating frame 5\n"
     ]
    },
    {
     "name": "stderr",
     "output_type": "stream",
     "text": [
      "100%|██████████| 2/2 [00:00<00:00,  8.23it/s]\n"
     ]
    },
    {
     "name": "stdout",
     "output_type": "stream",
     "text": [
      "Generating frame 6\n"
     ]
    },
    {
     "name": "stderr",
     "output_type": "stream",
     "text": [
      "100%|██████████| 2/2 [00:00<00:00,  8.19it/s]\n"
     ]
    },
    {
     "name": "stdout",
     "output_type": "stream",
     "text": [
      "Generating frame 7\n"
     ]
    },
    {
     "name": "stderr",
     "output_type": "stream",
     "text": [
      "100%|██████████| 2/2 [00:00<00:00,  8.21it/s]\n"
     ]
    },
    {
     "name": "stdout",
     "output_type": "stream",
     "text": [
      "Generating frame 8\n"
     ]
    },
    {
     "name": "stderr",
     "output_type": "stream",
     "text": [
      "100%|██████████| 2/2 [00:00<00:00,  8.23it/s]\n"
     ]
    },
    {
     "name": "stdout",
     "output_type": "stream",
     "text": [
      "Generating frame 9\n"
     ]
    },
    {
     "name": "stderr",
     "output_type": "stream",
     "text": [
      "100%|██████████| 2/2 [00:00<00:00,  8.21it/s]\n"
     ]
    },
    {
     "name": "stdout",
     "output_type": "stream",
     "text": [
      "Generating frame 10\n"
     ]
    },
    {
     "name": "stderr",
     "output_type": "stream",
     "text": [
      "100%|██████████| 2/2 [00:00<00:00,  8.19it/s]\n"
     ]
    },
    {
     "name": "stdout",
     "output_type": "stream",
     "text": [
      "Generating frame 11\n"
     ]
    },
    {
     "name": "stderr",
     "output_type": "stream",
     "text": [
      "100%|██████████| 2/2 [00:00<00:00,  8.18it/s]\n"
     ]
    },
    {
     "name": "stdout",
     "output_type": "stream",
     "text": [
      "Generating frame 12\n"
     ]
    },
    {
     "name": "stderr",
     "output_type": "stream",
     "text": [
      "100%|██████████| 2/2 [00:00<00:00,  8.16it/s]\n"
     ]
    },
    {
     "name": "stdout",
     "output_type": "stream",
     "text": [
      "Generating frame 13\n"
     ]
    },
    {
     "name": "stderr",
     "output_type": "stream",
     "text": [
      "100%|██████████| 2/2 [00:00<00:00,  3.54it/s]\n"
     ]
    },
    {
     "name": "stdout",
     "output_type": "stream",
     "text": [
      "Generating frame 14\n"
     ]
    },
    {
     "name": "stderr",
     "output_type": "stream",
     "text": [
      "100%|██████████| 2/2 [00:00<00:00,  3.70it/s]\n"
     ]
    },
    {
     "name": "stdout",
     "output_type": "stream",
     "text": [
      "Generating frame 15\n"
     ]
    },
    {
     "name": "stderr",
     "output_type": "stream",
     "text": [
      "100%|██████████| 2/2 [00:00<00:00,  8.18it/s]\n",
      " 66%|██████▌   | 27/41 [04:33<02:25, 10.42s/it]"
     ]
    },
    {
     "name": "stdout",
     "output_type": "stream",
     "text": [
      "6\n",
      "Generating frame 1\n"
     ]
    },
    {
     "name": "stderr",
     "output_type": "stream",
     "text": [
      "100%|██████████| 2/2 [00:00<00:00,  8.19it/s]\n"
     ]
    },
    {
     "name": "stdout",
     "output_type": "stream",
     "text": [
      "Generating frame 2\n"
     ]
    },
    {
     "name": "stderr",
     "output_type": "stream",
     "text": [
      "100%|██████████| 2/2 [00:00<00:00,  8.13it/s]\n"
     ]
    },
    {
     "name": "stdout",
     "output_type": "stream",
     "text": [
      "Generating frame 3\n"
     ]
    },
    {
     "name": "stderr",
     "output_type": "stream",
     "text": [
      "100%|██████████| 2/2 [00:00<00:00,  8.21it/s]\n"
     ]
    },
    {
     "name": "stdout",
     "output_type": "stream",
     "text": [
      "Generating frame 4\n"
     ]
    },
    {
     "name": "stderr",
     "output_type": "stream",
     "text": [
      "100%|██████████| 2/2 [00:00<00:00,  8.18it/s]\n"
     ]
    },
    {
     "name": "stdout",
     "output_type": "stream",
     "text": [
      "Generating frame 5\n"
     ]
    },
    {
     "name": "stderr",
     "output_type": "stream",
     "text": [
      "100%|██████████| 2/2 [00:00<00:00,  8.16it/s]\n"
     ]
    },
    {
     "name": "stdout",
     "output_type": "stream",
     "text": [
      "Generating frame 6\n"
     ]
    },
    {
     "name": "stderr",
     "output_type": "stream",
     "text": [
      "100%|██████████| 2/2 [00:00<00:00,  8.14it/s]\n"
     ]
    },
    {
     "name": "stdout",
     "output_type": "stream",
     "text": [
      "Generating frame 7\n"
     ]
    },
    {
     "name": "stderr",
     "output_type": "stream",
     "text": [
      "100%|██████████| 2/2 [00:00<00:00,  8.14it/s]\n"
     ]
    },
    {
     "name": "stdout",
     "output_type": "stream",
     "text": [
      "Generating frame 8\n"
     ]
    },
    {
     "name": "stderr",
     "output_type": "stream",
     "text": [
      "100%|██████████| 2/2 [00:00<00:00,  8.18it/s]\n"
     ]
    },
    {
     "name": "stdout",
     "output_type": "stream",
     "text": [
      "Generating frame 9\n"
     ]
    },
    {
     "name": "stderr",
     "output_type": "stream",
     "text": [
      "100%|██████████| 2/2 [00:00<00:00,  8.18it/s]\n"
     ]
    },
    {
     "name": "stdout",
     "output_type": "stream",
     "text": [
      "Generating frame 10\n"
     ]
    },
    {
     "name": "stderr",
     "output_type": "stream",
     "text": [
      "100%|██████████| 2/2 [00:00<00:00,  8.15it/s]\n"
     ]
    },
    {
     "name": "stdout",
     "output_type": "stream",
     "text": [
      "Generating frame 11\n"
     ]
    },
    {
     "name": "stderr",
     "output_type": "stream",
     "text": [
      "100%|██████████| 2/2 [00:00<00:00,  8.09it/s]\n"
     ]
    },
    {
     "name": "stdout",
     "output_type": "stream",
     "text": [
      "Generating frame 12\n"
     ]
    },
    {
     "name": "stderr",
     "output_type": "stream",
     "text": [
      "100%|██████████| 2/2 [00:00<00:00,  8.18it/s]\n"
     ]
    },
    {
     "name": "stdout",
     "output_type": "stream",
     "text": [
      "Generating frame 13\n"
     ]
    },
    {
     "name": "stderr",
     "output_type": "stream",
     "text": [
      "100%|██████████| 2/2 [00:00<00:00,  8.21it/s]\n"
     ]
    },
    {
     "name": "stdout",
     "output_type": "stream",
     "text": [
      "Generating frame 14\n"
     ]
    },
    {
     "name": "stderr",
     "output_type": "stream",
     "text": [
      "100%|██████████| 2/2 [00:00<00:00,  8.20it/s]\n"
     ]
    },
    {
     "name": "stdout",
     "output_type": "stream",
     "text": [
      "Generating frame 15\n"
     ]
    },
    {
     "name": "stderr",
     "output_type": "stream",
     "text": [
      "100%|██████████| 2/2 [00:00<00:00,  8.18it/s]\n",
      " 68%|██████▊   | 28/41 [04:43<02:11, 10.11s/it]"
     ]
    },
    {
     "name": "stdout",
     "output_type": "stream",
     "text": [
      "6\n",
      "Generating frame 1\n"
     ]
    },
    {
     "name": "stderr",
     "output_type": "stream",
     "text": [
      "100%|██████████| 2/2 [00:00<00:00,  8.09it/s]\n"
     ]
    },
    {
     "name": "stdout",
     "output_type": "stream",
     "text": [
      "Generating frame 2\n"
     ]
    },
    {
     "name": "stderr",
     "output_type": "stream",
     "text": [
      "100%|██████████| 2/2 [00:00<00:00,  8.21it/s]\n"
     ]
    },
    {
     "name": "stdout",
     "output_type": "stream",
     "text": [
      "Generating frame 3\n"
     ]
    },
    {
     "name": "stderr",
     "output_type": "stream",
     "text": [
      "100%|██████████| 2/2 [00:00<00:00,  8.18it/s]\n"
     ]
    },
    {
     "name": "stdout",
     "output_type": "stream",
     "text": [
      "Generating frame 4\n"
     ]
    },
    {
     "name": "stderr",
     "output_type": "stream",
     "text": [
      "100%|██████████| 2/2 [00:00<00:00,  8.18it/s]\n"
     ]
    },
    {
     "name": "stdout",
     "output_type": "stream",
     "text": [
      "Generating frame 5\n"
     ]
    },
    {
     "name": "stderr",
     "output_type": "stream",
     "text": [
      "100%|██████████| 2/2 [00:00<00:00,  3.55it/s]\n"
     ]
    },
    {
     "name": "stdout",
     "output_type": "stream",
     "text": [
      "Generating frame 6\n"
     ]
    },
    {
     "name": "stderr",
     "output_type": "stream",
     "text": [
      "100%|██████████| 2/2 [00:00<00:00,  3.64it/s]\n"
     ]
    },
    {
     "name": "stdout",
     "output_type": "stream",
     "text": [
      "Generating frame 7\n"
     ]
    },
    {
     "name": "stderr",
     "output_type": "stream",
     "text": [
      "100%|██████████| 2/2 [00:00<00:00,  6.74it/s]\n"
     ]
    },
    {
     "name": "stdout",
     "output_type": "stream",
     "text": [
      "Generating frame 8\n"
     ]
    },
    {
     "name": "stderr",
     "output_type": "stream",
     "text": [
      "100%|██████████| 2/2 [00:00<00:00,  8.16it/s]\n"
     ]
    },
    {
     "name": "stdout",
     "output_type": "stream",
     "text": [
      "Generating frame 9\n"
     ]
    },
    {
     "name": "stderr",
     "output_type": "stream",
     "text": [
      "100%|██████████| 2/2 [00:00<00:00,  8.13it/s]\n"
     ]
    },
    {
     "name": "stdout",
     "output_type": "stream",
     "text": [
      "Generating frame 10\n"
     ]
    },
    {
     "name": "stderr",
     "output_type": "stream",
     "text": [
      "100%|██████████| 2/2 [00:00<00:00,  8.12it/s]\n"
     ]
    },
    {
     "name": "stdout",
     "output_type": "stream",
     "text": [
      "Generating frame 11\n"
     ]
    },
    {
     "name": "stderr",
     "output_type": "stream",
     "text": [
      "100%|██████████| 2/2 [00:00<00:00,  8.17it/s]\n"
     ]
    },
    {
     "name": "stdout",
     "output_type": "stream",
     "text": [
      "Generating frame 12\n"
     ]
    },
    {
     "name": "stderr",
     "output_type": "stream",
     "text": [
      "100%|██████████| 2/2 [00:00<00:00,  8.10it/s]\n"
     ]
    },
    {
     "name": "stdout",
     "output_type": "stream",
     "text": [
      "Generating frame 13\n"
     ]
    },
    {
     "name": "stderr",
     "output_type": "stream",
     "text": [
      "100%|██████████| 2/2 [00:00<00:00,  7.68it/s]\n"
     ]
    },
    {
     "name": "stdout",
     "output_type": "stream",
     "text": [
      "Generating frame 14\n"
     ]
    },
    {
     "name": "stderr",
     "output_type": "stream",
     "text": [
      "100%|██████████| 2/2 [00:00<00:00,  8.19it/s]\n"
     ]
    },
    {
     "name": "stdout",
     "output_type": "stream",
     "text": [
      "Generating frame 15\n"
     ]
    },
    {
     "name": "stderr",
     "output_type": "stream",
     "text": [
      "100%|██████████| 2/2 [00:00<00:00,  8.16it/s]\n",
      " 71%|███████   | 29/41 [04:53<02:04, 10.33s/it]"
     ]
    },
    {
     "name": "stdout",
     "output_type": "stream",
     "text": [
      "6\n",
      "Generating frame 1\n"
     ]
    },
    {
     "name": "stderr",
     "output_type": "stream",
     "text": [
      "100%|██████████| 2/2 [00:00<00:00,  8.17it/s]\n"
     ]
    },
    {
     "name": "stdout",
     "output_type": "stream",
     "text": [
      "Generating frame 2\n"
     ]
    },
    {
     "name": "stderr",
     "output_type": "stream",
     "text": [
      "100%|██████████| 2/2 [00:00<00:00,  8.20it/s]\n"
     ]
    },
    {
     "name": "stdout",
     "output_type": "stream",
     "text": [
      "Generating frame 3\n"
     ]
    },
    {
     "name": "stderr",
     "output_type": "stream",
     "text": [
      "100%|██████████| 2/2 [00:00<00:00,  8.19it/s]\n"
     ]
    },
    {
     "name": "stdout",
     "output_type": "stream",
     "text": [
      "Generating frame 4\n"
     ]
    },
    {
     "name": "stderr",
     "output_type": "stream",
     "text": [
      "100%|██████████| 2/2 [00:00<00:00,  8.18it/s]\n"
     ]
    },
    {
     "name": "stdout",
     "output_type": "stream",
     "text": [
      "Generating frame 5\n"
     ]
    },
    {
     "name": "stderr",
     "output_type": "stream",
     "text": [
      "100%|██████████| 2/2 [00:00<00:00,  8.17it/s]\n"
     ]
    },
    {
     "name": "stdout",
     "output_type": "stream",
     "text": [
      "Generating frame 6\n"
     ]
    },
    {
     "name": "stderr",
     "output_type": "stream",
     "text": [
      "100%|██████████| 2/2 [00:00<00:00,  8.22it/s]\n"
     ]
    },
    {
     "name": "stdout",
     "output_type": "stream",
     "text": [
      "Generating frame 7\n"
     ]
    },
    {
     "name": "stderr",
     "output_type": "stream",
     "text": [
      "100%|██████████| 2/2 [00:00<00:00,  8.18it/s]\n"
     ]
    },
    {
     "name": "stdout",
     "output_type": "stream",
     "text": [
      "Generating frame 8\n"
     ]
    },
    {
     "name": "stderr",
     "output_type": "stream",
     "text": [
      "100%|██████████| 2/2 [00:00<00:00,  8.14it/s]\n"
     ]
    },
    {
     "name": "stdout",
     "output_type": "stream",
     "text": [
      "Generating frame 9\n"
     ]
    },
    {
     "name": "stderr",
     "output_type": "stream",
     "text": [
      "100%|██████████| 2/2 [00:00<00:00,  8.13it/s]\n"
     ]
    },
    {
     "name": "stdout",
     "output_type": "stream",
     "text": [
      "Generating frame 10\n"
     ]
    },
    {
     "name": "stderr",
     "output_type": "stream",
     "text": [
      "100%|██████████| 2/2 [00:00<00:00,  8.13it/s]\n"
     ]
    },
    {
     "name": "stdout",
     "output_type": "stream",
     "text": [
      "Generating frame 11\n"
     ]
    },
    {
     "name": "stderr",
     "output_type": "stream",
     "text": [
      "100%|██████████| 2/2 [00:00<00:00,  8.16it/s]\n"
     ]
    },
    {
     "name": "stdout",
     "output_type": "stream",
     "text": [
      "Generating frame 12\n"
     ]
    },
    {
     "name": "stderr",
     "output_type": "stream",
     "text": [
      "100%|██████████| 2/2 [00:00<00:00,  8.17it/s]\n"
     ]
    },
    {
     "name": "stdout",
     "output_type": "stream",
     "text": [
      "Generating frame 13\n"
     ]
    },
    {
     "name": "stderr",
     "output_type": "stream",
     "text": [
      "100%|██████████| 2/2 [00:00<00:00,  8.16it/s]\n"
     ]
    },
    {
     "name": "stdout",
     "output_type": "stream",
     "text": [
      "Generating frame 14\n"
     ]
    },
    {
     "name": "stderr",
     "output_type": "stream",
     "text": [
      "100%|██████████| 2/2 [00:00<00:00,  8.19it/s]\n"
     ]
    },
    {
     "name": "stdout",
     "output_type": "stream",
     "text": [
      "Generating frame 15\n"
     ]
    },
    {
     "name": "stderr",
     "output_type": "stream",
     "text": [
      "100%|██████████| 2/2 [00:00<00:00,  8.16it/s]\n",
      " 73%|███████▎  | 30/41 [05:03<01:51, 10.09s/it]"
     ]
    },
    {
     "name": "stdout",
     "output_type": "stream",
     "text": [
      "6\n",
      "Generating frame 1\n"
     ]
    },
    {
     "name": "stderr",
     "output_type": "stream",
     "text": [
      "100%|██████████| 2/2 [00:00<00:00,  8.22it/s]\n"
     ]
    },
    {
     "name": "stdout",
     "output_type": "stream",
     "text": [
      "Generating frame 2\n"
     ]
    },
    {
     "name": "stderr",
     "output_type": "stream",
     "text": [
      "100%|██████████| 2/2 [00:00<00:00,  8.13it/s]\n"
     ]
    },
    {
     "name": "stdout",
     "output_type": "stream",
     "text": [
      "Generating frame 3\n"
     ]
    },
    {
     "name": "stderr",
     "output_type": "stream",
     "text": [
      "100%|██████████| 2/2 [00:00<00:00,  8.18it/s]\n"
     ]
    },
    {
     "name": "stdout",
     "output_type": "stream",
     "text": [
      "Generating frame 4\n"
     ]
    },
    {
     "name": "stderr",
     "output_type": "stream",
     "text": [
      "100%|██████████| 2/2 [00:00<00:00,  8.14it/s]\n"
     ]
    },
    {
     "name": "stdout",
     "output_type": "stream",
     "text": [
      "Generating frame 5\n"
     ]
    },
    {
     "name": "stderr",
     "output_type": "stream",
     "text": [
      "100%|██████████| 2/2 [00:00<00:00,  8.21it/s]\n"
     ]
    },
    {
     "name": "stdout",
     "output_type": "stream",
     "text": [
      "Generating frame 6\n"
     ]
    },
    {
     "name": "stderr",
     "output_type": "stream",
     "text": [
      "100%|██████████| 2/2 [00:00<00:00,  8.13it/s]\n"
     ]
    },
    {
     "name": "stdout",
     "output_type": "stream",
     "text": [
      "Generating frame 7\n"
     ]
    },
    {
     "name": "stderr",
     "output_type": "stream",
     "text": [
      "100%|██████████| 2/2 [00:00<00:00,  8.10it/s]\n"
     ]
    },
    {
     "name": "stdout",
     "output_type": "stream",
     "text": [
      "Generating frame 8\n"
     ]
    },
    {
     "name": "stderr",
     "output_type": "stream",
     "text": [
      "100%|██████████| 2/2 [00:00<00:00,  8.04it/s]\n"
     ]
    },
    {
     "name": "stdout",
     "output_type": "stream",
     "text": [
      "Generating frame 9\n"
     ]
    },
    {
     "name": "stderr",
     "output_type": "stream",
     "text": [
      "100%|██████████| 2/2 [00:00<00:00,  8.19it/s]\n"
     ]
    },
    {
     "name": "stdout",
     "output_type": "stream",
     "text": [
      "Generating frame 10\n"
     ]
    },
    {
     "name": "stderr",
     "output_type": "stream",
     "text": [
      "100%|██████████| 2/2 [00:00<00:00,  8.21it/s]\n"
     ]
    },
    {
     "name": "stdout",
     "output_type": "stream",
     "text": [
      "Generating frame 11\n"
     ]
    },
    {
     "name": "stderr",
     "output_type": "stream",
     "text": [
      "100%|██████████| 2/2 [00:00<00:00,  8.18it/s]\n"
     ]
    },
    {
     "name": "stdout",
     "output_type": "stream",
     "text": [
      "Generating frame 12\n"
     ]
    },
    {
     "name": "stderr",
     "output_type": "stream",
     "text": [
      "100%|██████████| 2/2 [00:00<00:00,  8.20it/s]\n"
     ]
    },
    {
     "name": "stdout",
     "output_type": "stream",
     "text": [
      "Generating frame 13\n"
     ]
    },
    {
     "name": "stderr",
     "output_type": "stream",
     "text": [
      "100%|██████████| 2/2 [00:00<00:00,  8.19it/s]\n"
     ]
    },
    {
     "name": "stdout",
     "output_type": "stream",
     "text": [
      "Generating frame 14\n"
     ]
    },
    {
     "name": "stderr",
     "output_type": "stream",
     "text": [
      "100%|██████████| 2/2 [00:00<00:00,  3.56it/s]\n"
     ]
    },
    {
     "name": "stdout",
     "output_type": "stream",
     "text": [
      "Generating frame 15\n"
     ]
    },
    {
     "name": "stderr",
     "output_type": "stream",
     "text": [
      "100%|██████████| 2/2 [00:00<00:00,  3.49it/s]\n",
      " 76%|███████▌  | 31/41 [05:14<01:42, 10.30s/it]"
     ]
    },
    {
     "name": "stdout",
     "output_type": "stream",
     "text": [
      "6\n",
      "Generating frame 1\n"
     ]
    },
    {
     "name": "stderr",
     "output_type": "stream",
     "text": [
      "100%|██████████| 2/2 [00:00<00:00,  8.21it/s]\n"
     ]
    },
    {
     "name": "stdout",
     "output_type": "stream",
     "text": [
      "Generating frame 2\n"
     ]
    },
    {
     "name": "stderr",
     "output_type": "stream",
     "text": [
      "100%|██████████| 2/2 [00:00<00:00,  8.22it/s]\n"
     ]
    },
    {
     "name": "stdout",
     "output_type": "stream",
     "text": [
      "Generating frame 3\n"
     ]
    },
    {
     "name": "stderr",
     "output_type": "stream",
     "text": [
      "100%|██████████| 2/2 [00:00<00:00,  8.21it/s]\n"
     ]
    },
    {
     "name": "stdout",
     "output_type": "stream",
     "text": [
      "Generating frame 4\n"
     ]
    },
    {
     "name": "stderr",
     "output_type": "stream",
     "text": [
      "100%|██████████| 2/2 [00:00<00:00,  8.22it/s]\n"
     ]
    },
    {
     "name": "stdout",
     "output_type": "stream",
     "text": [
      "Generating frame 5\n"
     ]
    },
    {
     "name": "stderr",
     "output_type": "stream",
     "text": [
      "100%|██████████| 2/2 [00:00<00:00,  8.14it/s]\n"
     ]
    },
    {
     "name": "stdout",
     "output_type": "stream",
     "text": [
      "Generating frame 6\n"
     ]
    },
    {
     "name": "stderr",
     "output_type": "stream",
     "text": [
      "100%|██████████| 2/2 [00:00<00:00,  8.24it/s]\n"
     ]
    },
    {
     "name": "stdout",
     "output_type": "stream",
     "text": [
      "Generating frame 7\n"
     ]
    },
    {
     "name": "stderr",
     "output_type": "stream",
     "text": [
      "100%|██████████| 2/2 [00:00<00:00,  8.22it/s]\n"
     ]
    },
    {
     "name": "stdout",
     "output_type": "stream",
     "text": [
      "Generating frame 8\n"
     ]
    },
    {
     "name": "stderr",
     "output_type": "stream",
     "text": [
      "100%|██████████| 2/2 [00:00<00:00,  8.18it/s]\n"
     ]
    },
    {
     "name": "stdout",
     "output_type": "stream",
     "text": [
      "Generating frame 9\n"
     ]
    },
    {
     "name": "stderr",
     "output_type": "stream",
     "text": [
      "100%|██████████| 2/2 [00:00<00:00,  8.23it/s]\n"
     ]
    },
    {
     "name": "stdout",
     "output_type": "stream",
     "text": [
      "Generating frame 10\n"
     ]
    },
    {
     "name": "stderr",
     "output_type": "stream",
     "text": [
      "100%|██████████| 2/2 [00:00<00:00,  8.18it/s]\n"
     ]
    },
    {
     "name": "stdout",
     "output_type": "stream",
     "text": [
      "Generating frame 11\n"
     ]
    },
    {
     "name": "stderr",
     "output_type": "stream",
     "text": [
      "100%|██████████| 2/2 [00:00<00:00,  8.21it/s]\n"
     ]
    },
    {
     "name": "stdout",
     "output_type": "stream",
     "text": [
      "Generating frame 12\n"
     ]
    },
    {
     "name": "stderr",
     "output_type": "stream",
     "text": [
      "100%|██████████| 2/2 [00:00<00:00,  8.14it/s]\n"
     ]
    },
    {
     "name": "stdout",
     "output_type": "stream",
     "text": [
      "Generating frame 13\n"
     ]
    },
    {
     "name": "stderr",
     "output_type": "stream",
     "text": [
      "100%|██████████| 2/2 [00:00<00:00,  8.11it/s]\n"
     ]
    },
    {
     "name": "stdout",
     "output_type": "stream",
     "text": [
      "Generating frame 14\n"
     ]
    },
    {
     "name": "stderr",
     "output_type": "stream",
     "text": [
      "100%|██████████| 2/2 [00:00<00:00,  8.16it/s]\n"
     ]
    },
    {
     "name": "stdout",
     "output_type": "stream",
     "text": [
      "Generating frame 15\n"
     ]
    },
    {
     "name": "stderr",
     "output_type": "stream",
     "text": [
      "100%|██████████| 2/2 [00:00<00:00,  8.17it/s]\n",
      " 78%|███████▊  | 32/41 [05:23<01:30, 10.01s/it]"
     ]
    },
    {
     "name": "stdout",
     "output_type": "stream",
     "text": [
      "6\n",
      "Generating frame 1\n"
     ]
    },
    {
     "name": "stderr",
     "output_type": "stream",
     "text": [
      "100%|██████████| 2/2 [00:00<00:00,  8.23it/s]\n"
     ]
    },
    {
     "name": "stdout",
     "output_type": "stream",
     "text": [
      "Generating frame 2\n"
     ]
    },
    {
     "name": "stderr",
     "output_type": "stream",
     "text": [
      "100%|██████████| 2/2 [00:00<00:00,  8.19it/s]\n"
     ]
    },
    {
     "name": "stdout",
     "output_type": "stream",
     "text": [
      "Generating frame 3\n"
     ]
    },
    {
     "name": "stderr",
     "output_type": "stream",
     "text": [
      "100%|██████████| 2/2 [00:00<00:00,  8.19it/s]\n"
     ]
    },
    {
     "name": "stdout",
     "output_type": "stream",
     "text": [
      "Generating frame 4\n"
     ]
    },
    {
     "name": "stderr",
     "output_type": "stream",
     "text": [
      "100%|██████████| 2/2 [00:00<00:00,  5.17it/s]\n"
     ]
    },
    {
     "name": "stdout",
     "output_type": "stream",
     "text": [
      "Generating frame 5\n"
     ]
    },
    {
     "name": "stderr",
     "output_type": "stream",
     "text": [
      "100%|██████████| 2/2 [00:00<00:00,  3.55it/s]\n"
     ]
    },
    {
     "name": "stdout",
     "output_type": "stream",
     "text": [
      "Generating frame 6\n"
     ]
    },
    {
     "name": "stderr",
     "output_type": "stream",
     "text": [
      "100%|██████████| 2/2 [00:00<00:00,  3.65it/s]\n"
     ]
    },
    {
     "name": "stdout",
     "output_type": "stream",
     "text": [
      "Generating frame 7\n"
     ]
    },
    {
     "name": "stderr",
     "output_type": "stream",
     "text": [
      "100%|██████████| 2/2 [00:00<00:00,  8.19it/s]\n"
     ]
    },
    {
     "name": "stdout",
     "output_type": "stream",
     "text": [
      "Generating frame 8\n"
     ]
    },
    {
     "name": "stderr",
     "output_type": "stream",
     "text": [
      "100%|██████████| 2/2 [00:00<00:00,  8.11it/s]\n"
     ]
    },
    {
     "name": "stdout",
     "output_type": "stream",
     "text": [
      "Generating frame 9\n"
     ]
    },
    {
     "name": "stderr",
     "output_type": "stream",
     "text": [
      "100%|██████████| 2/2 [00:00<00:00,  8.19it/s]\n"
     ]
    },
    {
     "name": "stdout",
     "output_type": "stream",
     "text": [
      "Generating frame 10\n"
     ]
    },
    {
     "name": "stderr",
     "output_type": "stream",
     "text": [
      "100%|██████████| 2/2 [00:00<00:00,  8.16it/s]\n"
     ]
    },
    {
     "name": "stdout",
     "output_type": "stream",
     "text": [
      "Generating frame 11\n"
     ]
    },
    {
     "name": "stderr",
     "output_type": "stream",
     "text": [
      "100%|██████████| 2/2 [00:00<00:00,  8.15it/s]\n"
     ]
    },
    {
     "name": "stdout",
     "output_type": "stream",
     "text": [
      "Generating frame 12\n"
     ]
    },
    {
     "name": "stderr",
     "output_type": "stream",
     "text": [
      "100%|██████████| 2/2 [00:00<00:00,  8.14it/s]\n"
     ]
    },
    {
     "name": "stdout",
     "output_type": "stream",
     "text": [
      "Generating frame 13\n"
     ]
    },
    {
     "name": "stderr",
     "output_type": "stream",
     "text": [
      "100%|██████████| 2/2 [00:00<00:00,  8.21it/s]\n"
     ]
    },
    {
     "name": "stdout",
     "output_type": "stream",
     "text": [
      "Generating frame 14\n"
     ]
    },
    {
     "name": "stderr",
     "output_type": "stream",
     "text": [
      "100%|██████████| 2/2 [00:00<00:00,  8.08it/s]\n"
     ]
    },
    {
     "name": "stdout",
     "output_type": "stream",
     "text": [
      "Generating frame 15\n"
     ]
    },
    {
     "name": "stderr",
     "output_type": "stream",
     "text": [
      "100%|██████████| 2/2 [00:00<00:00,  8.15it/s]\n",
      " 80%|████████  | 33/41 [05:34<01:22, 10.36s/it]"
     ]
    },
    {
     "name": "stdout",
     "output_type": "stream",
     "text": [
      "6\n",
      "Generating frame 1\n"
     ]
    },
    {
     "name": "stderr",
     "output_type": "stream",
     "text": [
      "100%|██████████| 2/2 [00:00<00:00,  8.16it/s]\n"
     ]
    },
    {
     "name": "stdout",
     "output_type": "stream",
     "text": [
      "Generating frame 2\n"
     ]
    },
    {
     "name": "stderr",
     "output_type": "stream",
     "text": [
      "100%|██████████| 2/2 [00:00<00:00,  8.05it/s]\n"
     ]
    },
    {
     "name": "stdout",
     "output_type": "stream",
     "text": [
      "Generating frame 3\n"
     ]
    },
    {
     "name": "stderr",
     "output_type": "stream",
     "text": [
      "100%|██████████| 2/2 [00:00<00:00,  8.20it/s]\n"
     ]
    },
    {
     "name": "stdout",
     "output_type": "stream",
     "text": [
      "Generating frame 4\n"
     ]
    },
    {
     "name": "stderr",
     "output_type": "stream",
     "text": [
      "100%|██████████| 2/2 [00:00<00:00,  8.19it/s]\n"
     ]
    },
    {
     "name": "stdout",
     "output_type": "stream",
     "text": [
      "Generating frame 5\n"
     ]
    },
    {
     "name": "stderr",
     "output_type": "stream",
     "text": [
      "100%|██████████| 2/2 [00:00<00:00,  8.14it/s]\n"
     ]
    },
    {
     "name": "stdout",
     "output_type": "stream",
     "text": [
      "Generating frame 6\n"
     ]
    },
    {
     "name": "stderr",
     "output_type": "stream",
     "text": [
      "100%|██████████| 2/2 [00:00<00:00,  8.13it/s]\n"
     ]
    },
    {
     "name": "stdout",
     "output_type": "stream",
     "text": [
      "Generating frame 7\n"
     ]
    },
    {
     "name": "stderr",
     "output_type": "stream",
     "text": [
      "100%|██████████| 2/2 [00:00<00:00,  8.14it/s]\n"
     ]
    },
    {
     "name": "stdout",
     "output_type": "stream",
     "text": [
      "Generating frame 8\n"
     ]
    },
    {
     "name": "stderr",
     "output_type": "stream",
     "text": [
      "100%|██████████| 2/2 [00:00<00:00,  8.14it/s]\n"
     ]
    },
    {
     "name": "stdout",
     "output_type": "stream",
     "text": [
      "Generating frame 9\n"
     ]
    },
    {
     "name": "stderr",
     "output_type": "stream",
     "text": [
      "100%|██████████| 2/2 [00:00<00:00,  8.15it/s]\n"
     ]
    },
    {
     "name": "stdout",
     "output_type": "stream",
     "text": [
      "Generating frame 10\n"
     ]
    },
    {
     "name": "stderr",
     "output_type": "stream",
     "text": [
      "100%|██████████| 2/2 [00:00<00:00,  8.13it/s]\n"
     ]
    },
    {
     "name": "stdout",
     "output_type": "stream",
     "text": [
      "Generating frame 11\n"
     ]
    },
    {
     "name": "stderr",
     "output_type": "stream",
     "text": [
      "100%|██████████| 2/2 [00:00<00:00,  8.06it/s]\n"
     ]
    },
    {
     "name": "stdout",
     "output_type": "stream",
     "text": [
      "Generating frame 12\n"
     ]
    },
    {
     "name": "stderr",
     "output_type": "stream",
     "text": [
      "100%|██████████| 2/2 [00:00<00:00,  8.12it/s]\n"
     ]
    },
    {
     "name": "stdout",
     "output_type": "stream",
     "text": [
      "Generating frame 13\n"
     ]
    },
    {
     "name": "stderr",
     "output_type": "stream",
     "text": [
      "100%|██████████| 2/2 [00:00<00:00,  8.18it/s]\n"
     ]
    },
    {
     "name": "stdout",
     "output_type": "stream",
     "text": [
      "Generating frame 14\n"
     ]
    },
    {
     "name": "stderr",
     "output_type": "stream",
     "text": [
      "100%|██████████| 2/2 [00:00<00:00,  8.10it/s]\n"
     ]
    },
    {
     "name": "stdout",
     "output_type": "stream",
     "text": [
      "Generating frame 15\n"
     ]
    },
    {
     "name": "stderr",
     "output_type": "stream",
     "text": [
      "100%|██████████| 2/2 [00:00<00:00,  8.13it/s]\n",
      " 83%|████████▎ | 34/41 [05:44<01:10, 10.09s/it]"
     ]
    },
    {
     "name": "stdout",
     "output_type": "stream",
     "text": [
      "6\n",
      "Generating frame 1\n"
     ]
    },
    {
     "name": "stderr",
     "output_type": "stream",
     "text": [
      "100%|██████████| 2/2 [00:00<00:00,  8.16it/s]\n"
     ]
    },
    {
     "name": "stdout",
     "output_type": "stream",
     "text": [
      "Generating frame 2\n"
     ]
    },
    {
     "name": "stderr",
     "output_type": "stream",
     "text": [
      "100%|██████████| 2/2 [00:00<00:00,  8.11it/s]\n"
     ]
    },
    {
     "name": "stdout",
     "output_type": "stream",
     "text": [
      "Generating frame 3\n"
     ]
    },
    {
     "name": "stderr",
     "output_type": "stream",
     "text": [
      "100%|██████████| 2/2 [00:00<00:00,  8.17it/s]\n"
     ]
    },
    {
     "name": "stdout",
     "output_type": "stream",
     "text": [
      "Generating frame 4\n"
     ]
    },
    {
     "name": "stderr",
     "output_type": "stream",
     "text": [
      "100%|██████████| 2/2 [00:00<00:00,  8.14it/s]\n"
     ]
    },
    {
     "name": "stdout",
     "output_type": "stream",
     "text": [
      "Generating frame 5\n"
     ]
    },
    {
     "name": "stderr",
     "output_type": "stream",
     "text": [
      "100%|██████████| 2/2 [00:00<00:00,  8.13it/s]\n"
     ]
    },
    {
     "name": "stdout",
     "output_type": "stream",
     "text": [
      "Generating frame 6\n"
     ]
    },
    {
     "name": "stderr",
     "output_type": "stream",
     "text": [
      "100%|██████████| 2/2 [00:00<00:00,  8.16it/s]\n"
     ]
    },
    {
     "name": "stdout",
     "output_type": "stream",
     "text": [
      "Generating frame 7\n"
     ]
    },
    {
     "name": "stderr",
     "output_type": "stream",
     "text": [
      "100%|██████████| 2/2 [00:00<00:00,  8.16it/s]\n"
     ]
    },
    {
     "name": "stdout",
     "output_type": "stream",
     "text": [
      "Generating frame 8\n"
     ]
    },
    {
     "name": "stderr",
     "output_type": "stream",
     "text": [
      "100%|██████████| 2/2 [00:00<00:00,  8.19it/s]\n"
     ]
    },
    {
     "name": "stdout",
     "output_type": "stream",
     "text": [
      "Generating frame 9\n"
     ]
    },
    {
     "name": "stderr",
     "output_type": "stream",
     "text": [
      "100%|██████████| 2/2 [00:00<00:00,  8.17it/s]\n"
     ]
    },
    {
     "name": "stdout",
     "output_type": "stream",
     "text": [
      "Generating frame 10\n"
     ]
    },
    {
     "name": "stderr",
     "output_type": "stream",
     "text": [
      "100%|██████████| 2/2 [00:00<00:00,  8.22it/s]\n"
     ]
    },
    {
     "name": "stdout",
     "output_type": "stream",
     "text": [
      "Generating frame 11\n"
     ]
    },
    {
     "name": "stderr",
     "output_type": "stream",
     "text": [
      "100%|██████████| 2/2 [00:00<00:00,  8.10it/s]\n"
     ]
    },
    {
     "name": "stdout",
     "output_type": "stream",
     "text": [
      "Generating frame 12\n"
     ]
    },
    {
     "name": "stderr",
     "output_type": "stream",
     "text": [
      "100%|██████████| 2/2 [00:00<00:00,  8.08it/s]\n"
     ]
    },
    {
     "name": "stdout",
     "output_type": "stream",
     "text": [
      "Generating frame 13\n"
     ]
    },
    {
     "name": "stderr",
     "output_type": "stream",
     "text": [
      "100%|██████████| 2/2 [00:00<00:00,  8.12it/s]\n"
     ]
    },
    {
     "name": "stdout",
     "output_type": "stream",
     "text": [
      "Generating frame 14\n"
     ]
    },
    {
     "name": "stderr",
     "output_type": "stream",
     "text": [
      "100%|██████████| 2/2 [00:00<00:00,  8.01it/s]\n"
     ]
    },
    {
     "name": "stdout",
     "output_type": "stream",
     "text": [
      "Generating frame 15\n"
     ]
    },
    {
     "name": "stderr",
     "output_type": "stream",
     "text": [
      "100%|██████████| 2/2 [00:00<00:00,  8.17it/s]\n",
      " 85%|████████▌ | 35/41 [05:54<01:00, 10.08s/it]"
     ]
    },
    {
     "name": "stdout",
     "output_type": "stream",
     "text": [
      "6\n",
      "Generating frame 1\n"
     ]
    },
    {
     "name": "stderr",
     "output_type": "stream",
     "text": [
      "100%|██████████| 2/2 [00:00<00:00,  7.93it/s]\n"
     ]
    },
    {
     "name": "stdout",
     "output_type": "stream",
     "text": [
      "Generating frame 2\n"
     ]
    },
    {
     "name": "stderr",
     "output_type": "stream",
     "text": [
      "100%|██████████| 2/2 [00:00<00:00,  8.13it/s]\n"
     ]
    },
    {
     "name": "stdout",
     "output_type": "stream",
     "text": [
      "Generating frame 3\n"
     ]
    },
    {
     "name": "stderr",
     "output_type": "stream",
     "text": [
      "100%|██████████| 2/2 [00:00<00:00,  8.19it/s]\n"
     ]
    },
    {
     "name": "stdout",
     "output_type": "stream",
     "text": [
      "Generating frame 4\n"
     ]
    },
    {
     "name": "stderr",
     "output_type": "stream",
     "text": [
      "100%|██████████| 2/2 [00:00<00:00,  8.16it/s]\n"
     ]
    },
    {
     "name": "stdout",
     "output_type": "stream",
     "text": [
      "Generating frame 5\n"
     ]
    },
    {
     "name": "stderr",
     "output_type": "stream",
     "text": [
      "100%|██████████| 2/2 [00:00<00:00,  8.21it/s]\n"
     ]
    },
    {
     "name": "stdout",
     "output_type": "stream",
     "text": [
      "Generating frame 6\n"
     ]
    },
    {
     "name": "stderr",
     "output_type": "stream",
     "text": [
      "100%|██████████| 2/2 [00:00<00:00,  8.13it/s]\n"
     ]
    },
    {
     "name": "stdout",
     "output_type": "stream",
     "text": [
      "Generating frame 7\n"
     ]
    },
    {
     "name": "stderr",
     "output_type": "stream",
     "text": [
      "100%|██████████| 2/2 [00:00<00:00,  8.20it/s]\n"
     ]
    },
    {
     "name": "stdout",
     "output_type": "stream",
     "text": [
      "Generating frame 8\n"
     ]
    },
    {
     "name": "stderr",
     "output_type": "stream",
     "text": [
      "100%|██████████| 2/2 [00:00<00:00,  8.12it/s]\n"
     ]
    },
    {
     "name": "stdout",
     "output_type": "stream",
     "text": [
      "Generating frame 9\n"
     ]
    },
    {
     "name": "stderr",
     "output_type": "stream",
     "text": [
      "100%|██████████| 2/2 [00:00<00:00,  8.19it/s]\n"
     ]
    },
    {
     "name": "stdout",
     "output_type": "stream",
     "text": [
      "Generating frame 10\n"
     ]
    },
    {
     "name": "stderr",
     "output_type": "stream",
     "text": [
      "100%|██████████| 2/2 [00:00<00:00,  8.18it/s]\n"
     ]
    },
    {
     "name": "stdout",
     "output_type": "stream",
     "text": [
      "Generating frame 11\n"
     ]
    },
    {
     "name": "stderr",
     "output_type": "stream",
     "text": [
      "100%|██████████| 2/2 [00:00<00:00,  8.19it/s]\n"
     ]
    },
    {
     "name": "stdout",
     "output_type": "stream",
     "text": [
      "Generating frame 12\n"
     ]
    },
    {
     "name": "stderr",
     "output_type": "stream",
     "text": [
      "100%|██████████| 2/2 [00:00<00:00,  8.18it/s]\n"
     ]
    },
    {
     "name": "stdout",
     "output_type": "stream",
     "text": [
      "Generating frame 13\n"
     ]
    },
    {
     "name": "stderr",
     "output_type": "stream",
     "text": [
      "100%|██████████| 2/2 [00:00<00:00,  8.17it/s]\n"
     ]
    },
    {
     "name": "stdout",
     "output_type": "stream",
     "text": [
      "Generating frame 14\n"
     ]
    },
    {
     "name": "stderr",
     "output_type": "stream",
     "text": [
      "100%|██████████| 2/2 [00:00<00:00,  3.54it/s]\n"
     ]
    },
    {
     "name": "stdout",
     "output_type": "stream",
     "text": [
      "Generating frame 15\n"
     ]
    },
    {
     "name": "stderr",
     "output_type": "stream",
     "text": [
      "100%|██████████| 2/2 [00:00<00:00,  3.67it/s]\n",
      " 88%|████████▊ | 36/41 [06:05<00:51, 10.29s/it]"
     ]
    },
    {
     "name": "stdout",
     "output_type": "stream",
     "text": [
      "6\n",
      "Generating frame 1\n"
     ]
    },
    {
     "name": "stderr",
     "output_type": "stream",
     "text": [
      "100%|██████████| 2/2 [00:00<00:00,  8.11it/s]\n"
     ]
    },
    {
     "name": "stdout",
     "output_type": "stream",
     "text": [
      "Generating frame 2\n"
     ]
    },
    {
     "name": "stderr",
     "output_type": "stream",
     "text": [
      "100%|██████████| 2/2 [00:00<00:00,  8.13it/s]\n"
     ]
    },
    {
     "name": "stdout",
     "output_type": "stream",
     "text": [
      "Generating frame 3\n"
     ]
    },
    {
     "name": "stderr",
     "output_type": "stream",
     "text": [
      "100%|██████████| 2/2 [00:00<00:00,  8.16it/s]\n"
     ]
    },
    {
     "name": "stdout",
     "output_type": "stream",
     "text": [
      "Generating frame 4\n"
     ]
    },
    {
     "name": "stderr",
     "output_type": "stream",
     "text": [
      "100%|██████████| 2/2 [00:00<00:00,  8.06it/s]\n"
     ]
    },
    {
     "name": "stdout",
     "output_type": "stream",
     "text": [
      "Generating frame 5\n"
     ]
    },
    {
     "name": "stderr",
     "output_type": "stream",
     "text": [
      "100%|██████████| 2/2 [00:00<00:00,  8.05it/s]\n"
     ]
    },
    {
     "name": "stdout",
     "output_type": "stream",
     "text": [
      "Generating frame 6\n"
     ]
    },
    {
     "name": "stderr",
     "output_type": "stream",
     "text": [
      "100%|██████████| 2/2 [00:00<00:00,  8.08it/s]\n"
     ]
    },
    {
     "name": "stdout",
     "output_type": "stream",
     "text": [
      "Generating frame 7\n"
     ]
    },
    {
     "name": "stderr",
     "output_type": "stream",
     "text": [
      "100%|██████████| 2/2 [00:00<00:00,  8.11it/s]\n"
     ]
    },
    {
     "name": "stdout",
     "output_type": "stream",
     "text": [
      "Generating frame 8\n"
     ]
    },
    {
     "name": "stderr",
     "output_type": "stream",
     "text": [
      "100%|██████████| 2/2 [00:00<00:00,  8.09it/s]\n"
     ]
    },
    {
     "name": "stdout",
     "output_type": "stream",
     "text": [
      "Generating frame 9\n"
     ]
    },
    {
     "name": "stderr",
     "output_type": "stream",
     "text": [
      "100%|██████████| 2/2 [00:00<00:00,  8.13it/s]\n"
     ]
    },
    {
     "name": "stdout",
     "output_type": "stream",
     "text": [
      "Generating frame 10\n"
     ]
    },
    {
     "name": "stderr",
     "output_type": "stream",
     "text": [
      "100%|██████████| 2/2 [00:00<00:00,  8.11it/s]\n"
     ]
    },
    {
     "name": "stdout",
     "output_type": "stream",
     "text": [
      "Generating frame 11\n"
     ]
    },
    {
     "name": "stderr",
     "output_type": "stream",
     "text": [
      "100%|██████████| 2/2 [00:00<00:00,  8.13it/s]\n"
     ]
    },
    {
     "name": "stdout",
     "output_type": "stream",
     "text": [
      "Generating frame 12\n"
     ]
    },
    {
     "name": "stderr",
     "output_type": "stream",
     "text": [
      "100%|██████████| 2/2 [00:00<00:00,  8.11it/s]\n"
     ]
    },
    {
     "name": "stdout",
     "output_type": "stream",
     "text": [
      "Generating frame 13\n"
     ]
    },
    {
     "name": "stderr",
     "output_type": "stream",
     "text": [
      "100%|██████████| 2/2 [00:00<00:00,  8.11it/s]\n"
     ]
    },
    {
     "name": "stdout",
     "output_type": "stream",
     "text": [
      "Generating frame 14\n"
     ]
    },
    {
     "name": "stderr",
     "output_type": "stream",
     "text": [
      "100%|██████████| 2/2 [00:00<00:00,  8.14it/s]\n"
     ]
    },
    {
     "name": "stdout",
     "output_type": "stream",
     "text": [
      "Generating frame 15\n"
     ]
    },
    {
     "name": "stderr",
     "output_type": "stream",
     "text": [
      "100%|██████████| 2/2 [00:00<00:00,  8.14it/s]\n",
      " 90%|█████████ | 37/41 [06:14<00:40, 10.03s/it]"
     ]
    },
    {
     "name": "stdout",
     "output_type": "stream",
     "text": [
      "6\n",
      "Generating frame 1\n"
     ]
    },
    {
     "name": "stderr",
     "output_type": "stream",
     "text": [
      "100%|██████████| 2/2 [00:00<00:00,  8.13it/s]\n"
     ]
    },
    {
     "name": "stdout",
     "output_type": "stream",
     "text": [
      "Generating frame 2\n"
     ]
    },
    {
     "name": "stderr",
     "output_type": "stream",
     "text": [
      "100%|██████████| 2/2 [00:00<00:00,  8.11it/s]\n"
     ]
    },
    {
     "name": "stdout",
     "output_type": "stream",
     "text": [
      "Generating frame 3\n"
     ]
    },
    {
     "name": "stderr",
     "output_type": "stream",
     "text": [
      "100%|██████████| 2/2 [00:00<00:00,  7.92it/s]\n"
     ]
    },
    {
     "name": "stdout",
     "output_type": "stream",
     "text": [
      "Generating frame 4\n"
     ]
    },
    {
     "name": "stderr",
     "output_type": "stream",
     "text": [
      "100%|██████████| 2/2 [00:00<00:00,  8.11it/s]\n"
     ]
    },
    {
     "name": "stdout",
     "output_type": "stream",
     "text": [
      "Generating frame 5\n"
     ]
    },
    {
     "name": "stderr",
     "output_type": "stream",
     "text": [
      "100%|██████████| 2/2 [00:00<00:00,  8.22it/s]\n"
     ]
    },
    {
     "name": "stdout",
     "output_type": "stream",
     "text": [
      "Generating frame 6\n"
     ]
    },
    {
     "name": "stderr",
     "output_type": "stream",
     "text": [
      "100%|██████████| 2/2 [00:00<00:00,  8.11it/s]\n"
     ]
    },
    {
     "name": "stdout",
     "output_type": "stream",
     "text": [
      "Generating frame 7\n"
     ]
    },
    {
     "name": "stderr",
     "output_type": "stream",
     "text": [
      "100%|██████████| 2/2 [00:00<00:00,  8.13it/s]\n"
     ]
    },
    {
     "name": "stdout",
     "output_type": "stream",
     "text": [
      "Generating frame 8\n"
     ]
    },
    {
     "name": "stderr",
     "output_type": "stream",
     "text": [
      "100%|██████████| 2/2 [00:00<00:00,  8.12it/s]\n"
     ]
    },
    {
     "name": "stdout",
     "output_type": "stream",
     "text": [
      "Generating frame 9\n"
     ]
    },
    {
     "name": "stderr",
     "output_type": "stream",
     "text": [
      "100%|██████████| 2/2 [00:00<00:00,  8.21it/s]\n"
     ]
    },
    {
     "name": "stdout",
     "output_type": "stream",
     "text": [
      "Generating frame 10\n"
     ]
    },
    {
     "name": "stderr",
     "output_type": "stream",
     "text": [
      "100%|██████████| 2/2 [00:00<00:00,  8.12it/s]\n"
     ]
    },
    {
     "name": "stdout",
     "output_type": "stream",
     "text": [
      "Generating frame 11\n"
     ]
    },
    {
     "name": "stderr",
     "output_type": "stream",
     "text": [
      "100%|██████████| 2/2 [00:00<00:00,  8.18it/s]\n"
     ]
    },
    {
     "name": "stdout",
     "output_type": "stream",
     "text": [
      "Generating frame 12\n"
     ]
    },
    {
     "name": "stderr",
     "output_type": "stream",
     "text": [
      "100%|██████████| 2/2 [00:00<00:00,  7.97it/s]\n"
     ]
    },
    {
     "name": "stdout",
     "output_type": "stream",
     "text": [
      "Generating frame 13\n"
     ]
    },
    {
     "name": "stderr",
     "output_type": "stream",
     "text": [
      "100%|██████████| 2/2 [00:00<00:00,  8.12it/s]\n"
     ]
    },
    {
     "name": "stdout",
     "output_type": "stream",
     "text": [
      "Generating frame 14\n"
     ]
    },
    {
     "name": "stderr",
     "output_type": "stream",
     "text": [
      "100%|██████████| 2/2 [00:00<00:00,  8.13it/s]\n"
     ]
    },
    {
     "name": "stdout",
     "output_type": "stream",
     "text": [
      "Generating frame 15\n"
     ]
    },
    {
     "name": "stderr",
     "output_type": "stream",
     "text": [
      "100%|██████████| 2/2 [00:00<00:00,  8.20it/s]\n",
      " 93%|█████████▎| 38/41 [06:24<00:29,  9.88s/it]"
     ]
    },
    {
     "name": "stdout",
     "output_type": "stream",
     "text": [
      "6\n",
      "Generating frame 1\n"
     ]
    },
    {
     "name": "stderr",
     "output_type": "stream",
     "text": [
      "100%|██████████| 2/2 [00:00<00:00,  4.48it/s]\n"
     ]
    },
    {
     "name": "stdout",
     "output_type": "stream",
     "text": [
      "Generating frame 2\n"
     ]
    },
    {
     "name": "stderr",
     "output_type": "stream",
     "text": [
      "100%|██████████| 2/2 [00:00<00:00,  8.22it/s]\n"
     ]
    },
    {
     "name": "stdout",
     "output_type": "stream",
     "text": [
      "Generating frame 3\n"
     ]
    },
    {
     "name": "stderr",
     "output_type": "stream",
     "text": [
      "100%|██████████| 2/2 [00:00<00:00,  8.12it/s]\n"
     ]
    },
    {
     "name": "stdout",
     "output_type": "stream",
     "text": [
      "Generating frame 4\n"
     ]
    },
    {
     "name": "stderr",
     "output_type": "stream",
     "text": [
      "100%|██████████| 2/2 [00:00<00:00,  8.16it/s]\n"
     ]
    },
    {
     "name": "stdout",
     "output_type": "stream",
     "text": [
      "Generating frame 5\n"
     ]
    },
    {
     "name": "stderr",
     "output_type": "stream",
     "text": [
      "100%|██████████| 2/2 [00:00<00:00,  8.12it/s]\n"
     ]
    },
    {
     "name": "stdout",
     "output_type": "stream",
     "text": [
      "Generating frame 6\n"
     ]
    },
    {
     "name": "stderr",
     "output_type": "stream",
     "text": [
      "100%|██████████| 2/2 [00:00<00:00,  8.16it/s]\n"
     ]
    },
    {
     "name": "stdout",
     "output_type": "stream",
     "text": [
      "Generating frame 7\n"
     ]
    },
    {
     "name": "stderr",
     "output_type": "stream",
     "text": [
      "100%|██████████| 2/2 [00:00<00:00,  8.16it/s]\n"
     ]
    },
    {
     "name": "stdout",
     "output_type": "stream",
     "text": [
      "Generating frame 8\n"
     ]
    },
    {
     "name": "stderr",
     "output_type": "stream",
     "text": [
      "100%|██████████| 2/2 [00:00<00:00,  7.75it/s]\n"
     ]
    },
    {
     "name": "stdout",
     "output_type": "stream",
     "text": [
      "Generating frame 9\n"
     ]
    },
    {
     "name": "stderr",
     "output_type": "stream",
     "text": [
      "100%|██████████| 2/2 [00:00<00:00,  8.12it/s]\n"
     ]
    },
    {
     "name": "stdout",
     "output_type": "stream",
     "text": [
      "Generating frame 10\n"
     ]
    },
    {
     "name": "stderr",
     "output_type": "stream",
     "text": [
      "100%|██████████| 2/2 [00:00<00:00,  8.08it/s]\n"
     ]
    },
    {
     "name": "stdout",
     "output_type": "stream",
     "text": [
      "Generating frame 11\n"
     ]
    },
    {
     "name": "stderr",
     "output_type": "stream",
     "text": [
      "100%|██████████| 2/2 [00:00<00:00,  8.08it/s]\n"
     ]
    },
    {
     "name": "stdout",
     "output_type": "stream",
     "text": [
      "Generating frame 12\n"
     ]
    },
    {
     "name": "stderr",
     "output_type": "stream",
     "text": [
      "100%|██████████| 2/2 [00:00<00:00,  8.13it/s]\n"
     ]
    },
    {
     "name": "stdout",
     "output_type": "stream",
     "text": [
      "Generating frame 13\n"
     ]
    },
    {
     "name": "stderr",
     "output_type": "stream",
     "text": [
      "100%|██████████| 2/2 [00:00<00:00,  8.14it/s]\n"
     ]
    },
    {
     "name": "stdout",
     "output_type": "stream",
     "text": [
      "Generating frame 14\n"
     ]
    },
    {
     "name": "stderr",
     "output_type": "stream",
     "text": [
      "100%|██████████| 2/2 [00:00<00:00,  8.14it/s]\n"
     ]
    },
    {
     "name": "stdout",
     "output_type": "stream",
     "text": [
      "Generating frame 15\n"
     ]
    },
    {
     "name": "stderr",
     "output_type": "stream",
     "text": [
      "100%|██████████| 2/2 [00:00<00:00,  8.15it/s]\n",
      " 95%|█████████▌| 39/41 [06:33<00:19,  9.88s/it]"
     ]
    },
    {
     "name": "stdout",
     "output_type": "stream",
     "text": [
      "6\n",
      "Generating frame 1\n"
     ]
    },
    {
     "name": "stderr",
     "output_type": "stream",
     "text": [
      "100%|██████████| 2/2 [00:00<00:00,  8.16it/s]\n"
     ]
    },
    {
     "name": "stdout",
     "output_type": "stream",
     "text": [
      "Generating frame 2\n"
     ]
    },
    {
     "name": "stderr",
     "output_type": "stream",
     "text": [
      "100%|██████████| 2/2 [00:00<00:00,  8.19it/s]\n"
     ]
    },
    {
     "name": "stdout",
     "output_type": "stream",
     "text": [
      "Generating frame 3\n"
     ]
    },
    {
     "name": "stderr",
     "output_type": "stream",
     "text": [
      "100%|██████████| 2/2 [00:00<00:00,  8.17it/s]\n"
     ]
    },
    {
     "name": "stdout",
     "output_type": "stream",
     "text": [
      "Generating frame 4\n"
     ]
    },
    {
     "name": "stderr",
     "output_type": "stream",
     "text": [
      "100%|██████████| 2/2 [00:00<00:00,  8.13it/s]\n"
     ]
    },
    {
     "name": "stdout",
     "output_type": "stream",
     "text": [
      "Generating frame 5\n"
     ]
    },
    {
     "name": "stderr",
     "output_type": "stream",
     "text": [
      "100%|██████████| 2/2 [00:00<00:00,  8.16it/s]\n"
     ]
    },
    {
     "name": "stdout",
     "output_type": "stream",
     "text": [
      "Generating frame 6\n"
     ]
    },
    {
     "name": "stderr",
     "output_type": "stream",
     "text": [
      "100%|██████████| 2/2 [00:00<00:00,  8.13it/s]\n"
     ]
    },
    {
     "name": "stdout",
     "output_type": "stream",
     "text": [
      "Generating frame 7\n"
     ]
    },
    {
     "name": "stderr",
     "output_type": "stream",
     "text": [
      "100%|██████████| 2/2 [00:00<00:00,  8.18it/s]\n"
     ]
    },
    {
     "name": "stdout",
     "output_type": "stream",
     "text": [
      "Generating frame 8\n"
     ]
    },
    {
     "name": "stderr",
     "output_type": "stream",
     "text": [
      "100%|██████████| 2/2 [00:00<00:00,  8.15it/s]\n"
     ]
    },
    {
     "name": "stdout",
     "output_type": "stream",
     "text": [
      "Generating frame 9\n"
     ]
    },
    {
     "name": "stderr",
     "output_type": "stream",
     "text": [
      "100%|██████████| 2/2 [00:00<00:00,  8.13it/s]\n"
     ]
    },
    {
     "name": "stdout",
     "output_type": "stream",
     "text": [
      "Generating frame 10\n"
     ]
    },
    {
     "name": "stderr",
     "output_type": "stream",
     "text": [
      "100%|██████████| 2/2 [00:00<00:00,  8.08it/s]\n"
     ]
    },
    {
     "name": "stdout",
     "output_type": "stream",
     "text": [
      "Generating frame 11\n"
     ]
    },
    {
     "name": "stderr",
     "output_type": "stream",
     "text": [
      "100%|██████████| 2/2 [00:00<00:00,  8.20it/s]\n"
     ]
    },
    {
     "name": "stdout",
     "output_type": "stream",
     "text": [
      "Generating frame 12\n"
     ]
    },
    {
     "name": "stderr",
     "output_type": "stream",
     "text": [
      "100%|██████████| 2/2 [00:00<00:00,  8.14it/s]\n"
     ]
    },
    {
     "name": "stdout",
     "output_type": "stream",
     "text": [
      "Generating frame 13\n"
     ]
    },
    {
     "name": "stderr",
     "output_type": "stream",
     "text": [
      "100%|██████████| 2/2 [00:00<00:00,  8.07it/s]\n"
     ]
    },
    {
     "name": "stdout",
     "output_type": "stream",
     "text": [
      "Generating frame 14\n"
     ]
    },
    {
     "name": "stderr",
     "output_type": "stream",
     "text": [
      "100%|██████████| 2/2 [00:00<00:00,  8.16it/s]\n"
     ]
    },
    {
     "name": "stdout",
     "output_type": "stream",
     "text": [
      "Generating frame 15\n"
     ]
    },
    {
     "name": "stderr",
     "output_type": "stream",
     "text": [
      "100%|██████████| 2/2 [00:00<00:00,  8.16it/s]\n",
      " 98%|█████████▊| 40/41 [06:43<00:09,  9.74s/it]"
     ]
    },
    {
     "name": "stdout",
     "output_type": "stream",
     "text": [
      "3\n",
      "Generating frame 1\n"
     ]
    },
    {
     "name": "stderr",
     "output_type": "stream",
     "text": [
      "100%|██████████| 2/2 [00:00<00:00, 14.29it/s]\n"
     ]
    },
    {
     "name": "stdout",
     "output_type": "stream",
     "text": [
      "Generating frame 2\n"
     ]
    },
    {
     "name": "stderr",
     "output_type": "stream",
     "text": [
      "100%|██████████| 2/2 [00:00<00:00, 14.70it/s]\n"
     ]
    },
    {
     "name": "stdout",
     "output_type": "stream",
     "text": [
      "Generating frame 3\n"
     ]
    },
    {
     "name": "stderr",
     "output_type": "stream",
     "text": [
      "100%|██████████| 2/2 [00:00<00:00, 14.76it/s]\n"
     ]
    },
    {
     "name": "stdout",
     "output_type": "stream",
     "text": [
      "Generating frame 4\n"
     ]
    },
    {
     "name": "stderr",
     "output_type": "stream",
     "text": [
      "100%|██████████| 2/2 [00:00<00:00, 14.74it/s]\n"
     ]
    },
    {
     "name": "stdout",
     "output_type": "stream",
     "text": [
      "Generating frame 5\n"
     ]
    },
    {
     "name": "stderr",
     "output_type": "stream",
     "text": [
      "100%|██████████| 2/2 [00:00<00:00, 14.81it/s]\n"
     ]
    },
    {
     "name": "stdout",
     "output_type": "stream",
     "text": [
      "Generating frame 6\n"
     ]
    },
    {
     "name": "stderr",
     "output_type": "stream",
     "text": [
      "100%|██████████| 2/2 [00:00<00:00, 14.63it/s]\n"
     ]
    },
    {
     "name": "stdout",
     "output_type": "stream",
     "text": [
      "Generating frame 7\n"
     ]
    },
    {
     "name": "stderr",
     "output_type": "stream",
     "text": [
      "100%|██████████| 2/2 [00:00<00:00, 14.56it/s]\n"
     ]
    },
    {
     "name": "stdout",
     "output_type": "stream",
     "text": [
      "Generating frame 8\n"
     ]
    },
    {
     "name": "stderr",
     "output_type": "stream",
     "text": [
      "100%|██████████| 2/2 [00:00<00:00, 14.17it/s]\n"
     ]
    },
    {
     "name": "stdout",
     "output_type": "stream",
     "text": [
      "Generating frame 9\n"
     ]
    },
    {
     "name": "stderr",
     "output_type": "stream",
     "text": [
      "100%|██████████| 2/2 [00:00<00:00, 14.31it/s]\n"
     ]
    },
    {
     "name": "stdout",
     "output_type": "stream",
     "text": [
      "Generating frame 10\n"
     ]
    },
    {
     "name": "stderr",
     "output_type": "stream",
     "text": [
      "100%|██████████| 2/2 [00:00<00:00, 14.62it/s]\n"
     ]
    },
    {
     "name": "stdout",
     "output_type": "stream",
     "text": [
      "Generating frame 11\n"
     ]
    },
    {
     "name": "stderr",
     "output_type": "stream",
     "text": [
      "100%|██████████| 2/2 [00:00<00:00, 14.35it/s]\n"
     ]
    },
    {
     "name": "stdout",
     "output_type": "stream",
     "text": [
      "Generating frame 12\n"
     ]
    },
    {
     "name": "stderr",
     "output_type": "stream",
     "text": [
      "100%|██████████| 2/2 [00:00<00:00, 14.61it/s]\n"
     ]
    },
    {
     "name": "stdout",
     "output_type": "stream",
     "text": [
      "Generating frame 13\n"
     ]
    },
    {
     "name": "stderr",
     "output_type": "stream",
     "text": [
      "100%|██████████| 2/2 [00:00<00:00, 14.54it/s]\n"
     ]
    },
    {
     "name": "stdout",
     "output_type": "stream",
     "text": [
      "Generating frame 14\n"
     ]
    },
    {
     "name": "stderr",
     "output_type": "stream",
     "text": [
      "100%|██████████| 2/2 [00:00<00:00, 14.50it/s]\n"
     ]
    },
    {
     "name": "stdout",
     "output_type": "stream",
     "text": [
      "Generating frame 15\n"
     ]
    },
    {
     "name": "stderr",
     "output_type": "stream",
     "text": [
      "100%|██████████| 2/2 [00:00<00:00, 14.71it/s]\n",
      "100%|██████████| 41/41 [06:48<00:00,  9.96s/it]\n"
     ]
    },
    {
     "data": {
      "text/plain": [
       "-9.3511706104985"
      ]
     },
     "execution_count": 11,
     "metadata": {},
     "output_type": "execute_result"
    }
   ],
   "source": [
    "model = STMaskGIT.from_pretrained('/pub0/qasim/1xgpt/1xgpt/logs/train_1-10-29-21-28/step_60000') # checkpoints[1]\n",
    "\n",
    "# /pub0/qasim/1xgpt/1xgpt/logs/train_1-10-26-14-09/step_10000\n",
    "# model = STMaskGIT.from_pretrained(pt_checkpoint)\n",
    "# model.load_state_dict(merged_state_dict, strict=False)\n",
    "\n",
    "evaluate(model, '/pub0/qasim/1xgpt/1xgpt/checkpoints/TiesMerging/trash.txt', device)"
   ]
  },
  {
   "attachments": {},
   "cell_type": "markdown",
   "metadata": {},
   "source": [
    "#### Task Vector Merging"
   ]
  },
  {
   "cell_type": "code",
   "execution_count": 7,
   "metadata": {},
   "outputs": [],
   "source": [
    "## TASK VECTOR MERGING UTILS\n",
    "\n",
    "def aggregate(T, agg_type, dim=0):\n",
    "    if agg_type == \"mean\":\n",
    "        result = torch.mean(T, dim=dim)\n",
    "    elif agg_type == \"sum\":\n",
    "        result = torch.sum(T, dim=dim)\n",
    "    else:\n",
    "        raise ValueError(\"Invalid agg_type: %s\" % agg_type)\n",
    "\n",
    "    return result\n",
    "\n",
    "def tv_merging(tv_flat_checks):\n",
    "    \"\"\"Merging by creating and scaling Task Vectors\"\"\"\n",
    "    all_checks = tv_flat_checks.clone()\n",
    "    tv_merged_check = aggregate(all_checks, \"sum\")\n",
    "    return tv_merged_check\n"
   ]
  },
  {
   "cell_type": "code",
   "execution_count": 8,
   "metadata": {},
   "outputs": [],
   "source": [
    "# Task Vector Merging example\n",
    "lamda = 0.4\n",
    "\n",
    "merged_tv = tv_merging(tv_flat_checks)\n",
    "merged_check = flat_ptm + lamda * merged_tv\n",
    "merged_state_dict = vector_to_state_dict(\n",
    "    merged_check, ptm_check, remove_keys=remove_keys\n",
    ")"
   ]
  },
  {
   "cell_type": "code",
   "execution_count": null,
   "metadata": {},
   "outputs": [],
   "source": []
  },
  {
   "cell_type": "code",
   "execution_count": null,
   "metadata": {},
   "outputs": [],
   "source": []
  },
  {
   "cell_type": "code",
   "execution_count": null,
   "metadata": {},
   "outputs": [],
   "source": []
  }
 ],
 "metadata": {
  "kernelspec": {
   "display_name": "1xgpt",
   "language": "python",
   "name": "python3"
  },
  "language_info": {
   "codemirror_mode": {
    "name": "ipython",
    "version": 3
   },
   "file_extension": ".py",
   "mimetype": "text/x-python",
   "name": "python",
   "nbconvert_exporter": "python",
   "pygments_lexer": "ipython3",
   "version": "3.10.14"
  },
  "orig_nbformat": 4
 },
 "nbformat": 4,
 "nbformat_minor": 2
}
